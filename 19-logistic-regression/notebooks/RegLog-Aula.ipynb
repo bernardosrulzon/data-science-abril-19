{
 "cells": [
  {
   "cell_type": "markdown",
   "metadata": {},
   "source": [
    "# Algoritmos de Classificação: Regressão Logística"
   ]
  },
  {
   "cell_type": "markdown",
   "metadata": {},
   "source": [
    "![image.png](https://somostera.com/wp-content/uploads/2017/08/Tera_logo_250.jpg)"
   ]
  },
  {
   "cell_type": "markdown",
   "metadata": {},
   "source": [
    "## Warm Up\n",
    "\n",
    "![image.png](https://media.giphy.com/media/l0Ex47BWhZ7bsaKcg/giphy.gif)"
   ]
  },
  {
   "cell_type": "markdown",
   "metadata": {},
   "source": [
    "## Expectativas!\n",
    "\n",
    "O que vocês esperam da aula de hoje?\n",
    "\n",
    "![image.png](https://img.buzzfeed.com/buzzfeed-static/static/enhanced/web04/2012/2/14/17/enhanced-buzz-8358-1329258536-95.jpg?downsize=800:*&output-format=auto&output-quality=auto)"
   ]
  },
  {
   "cell_type": "markdown",
   "metadata": {},
   "source": [
    "## Objetivo\n",
    "> Avaliar se existem fatores que influenciam na promoção dos funcionários\n",
    "\n",
    "### Contexto\n",
    "> O RH da empresa está se tornando mais seletivo ao contratar novos funcionários. Dessa forma, ele quer entender o perfil de promoção dos funcionários para que no processo de seleção algum desses fatores sejam considerados. Além disso, um modelo de predição poderia ajudar na definição do budget de promoção. Você faz parte da área de **Data Science** dessa empresa, e precisa encontrar alguns insights que subsidiem o RH."
   ]
  },
  {
   "cell_type": "markdown",
   "metadata": {},
   "source": [
    "## Conclusao\n",
    "> TBD\n",
    "\n",
    "### Updated at\n",
    "> 30/Dez/2018 by Tera-DSC Team\n",
    "\n",
    "### Dataset\n",
    "> Dados históricos dos funcionários da empresa.\n",
    "\n",
    "### Warning\n",
    "> Dados sensíveis."
   ]
  },
  {
   "cell_type": "markdown",
   "metadata": {},
   "source": [
    "# **Regressão** ???"
   ]
  },
  {
   "cell_type": "markdown",
   "metadata": {},
   "source": [
    "![image.png](https://media.giphy.com/media/NsuQixwGTHy8M/giphy.gif)"
   ]
  },
  {
   "cell_type": "code",
   "execution_count": 12,
   "metadata": {},
   "outputs": [
    {
     "data": {
      "text/plain": [
       "'\\n\\n\\n\\n\\n\\n\\n\\n\\n\\n\\n\\n\\n'"
      ]
     },
     "execution_count": 12,
     "metadata": {},
     "output_type": "execute_result"
    }
   ],
   "source": [
    "\"\"\"\n",
    "\n",
    "\n",
    "\n",
    "\n",
    "\n",
    "\n",
    "\n",
    "\n",
    "\n",
    "\n",
    "\n",
    "\n",
    "\"\"\""
   ]
  },
  {
   "cell_type": "markdown",
   "metadata": {},
   "source": [
    "> O modelo de regressão logística é semelhante ao modelo de regressão linear. No entanto, no modelo logístico a variável resposta $ Y_i $ é binária. Uma variável binária assume dois valores, como por exemplo, $ Y_i=0 $ e $ Y_i=1, $ denominados \"fracasso\" e \"sucesso\", respectivamente. Neste caso, \"sucesso\" é o evento de interesse."
   ]
  },
  {
   "cell_type": "markdown",
   "metadata": {},
   "source": [
    "## Diferença entre Distribuição Linear e Logística\n",
    "![image.png](https://estatsite.files.wordpress.com/2018/08/linear_vs_logistic_regression.jpg)"
   ]
  },
  {
   "cell_type": "code",
   "execution_count": 66,
   "metadata": {},
   "outputs": [],
   "source": [
    "#-- importando as libs\n",
    "import pandas as pd\n",
    "import numpy as np\n",
    "import seaborn as sns\n",
    "import matplotlib.pyplot as plt\n",
    "\n",
    "from sklearn.model_selection import train_test_split\n",
    "from sklearn.linear_model import LogisticRegression, LogisticRegressionCV\n",
    "from sklearn.preprocessing import StandardScaler\n",
    "from sklearn.feature_selection import RFECV\n",
    "from sklearn.externals import joblib\n",
    "from sklearn.metrics import (accuracy_score, confusion_matrix, classification_report,\n",
    "                             roc_auc_score, log_loss)\n",
    "\n",
    "from plotting import (multiple_histograms_plot, bar_plot_with_categorical, \n",
    "                      plot_confusion_matrix, plot_roc)\n",
    "\n",
    "plt.rcParams[\"figure.figsize\"] = (22,15)"
   ]
  },
  {
   "cell_type": "code",
   "execution_count": 2,
   "metadata": {},
   "outputs": [],
   "source": [
    "#-- setando parâmetros de font\n",
    "sns.set_context(\"notebook\", font_scale=1.5)"
   ]
  },
  {
   "cell_type": "code",
   "execution_count": 87,
   "metadata": {},
   "outputs": [
    {
     "data": {
      "text/html": [
       "<div>\n",
       "<style scoped>\n",
       "    .dataframe tbody tr th:only-of-type {\n",
       "        vertical-align: middle;\n",
       "    }\n",
       "\n",
       "    .dataframe tbody tr th {\n",
       "        vertical-align: top;\n",
       "    }\n",
       "\n",
       "    .dataframe thead th {\n",
       "        text-align: right;\n",
       "    }\n",
       "</style>\n",
       "<table border=\"1\" class=\"dataframe\">\n",
       "  <thead>\n",
       "    <tr style=\"text-align: right;\">\n",
       "      <th></th>\n",
       "      <th>0</th>\n",
       "      <th>1</th>\n",
       "      <th>2</th>\n",
       "      <th>3</th>\n",
       "      <th>4</th>\n",
       "    </tr>\n",
       "  </thead>\n",
       "  <tbody>\n",
       "    <tr>\n",
       "      <th>ADP</th>\n",
       "      <td>1</td>\n",
       "      <td>5</td>\n",
       "      <td>10</td>\n",
       "      <td>14</td>\n",
       "      <td>19</td>\n",
       "    </tr>\n",
       "    <tr>\n",
       "      <th>Admissão</th>\n",
       "      <td>2001-10-01 00:00:00</td>\n",
       "      <td>2001-10-01 00:00:00</td>\n",
       "      <td>2001-10-01 00:00:00</td>\n",
       "      <td>2001-10-01 00:00:00</td>\n",
       "      <td>2001-10-01 00:00:00</td>\n",
       "    </tr>\n",
       "    <tr>\n",
       "      <th>Desligamento</th>\n",
       "      <td></td>\n",
       "      <td>2012-12-03 00:00:00</td>\n",
       "      <td></td>\n",
       "      <td>2011-05-31 00:00:00</td>\n",
       "      <td>2010-09-01 00:00:00</td>\n",
       "    </tr>\n",
       "    <tr>\n",
       "      <th>Desligado?</th>\n",
       "      <td>N</td>\n",
       "      <td>Y</td>\n",
       "      <td>N</td>\n",
       "      <td>Y</td>\n",
       "      <td>Y</td>\n",
       "    </tr>\n",
       "    <tr>\n",
       "      <th>Iniciativa Desligamento</th>\n",
       "      <td>NaN</td>\n",
       "      <td>Funcionário</td>\n",
       "      <td>NaN</td>\n",
       "      <td>Funcionário</td>\n",
       "      <td>Empregador</td>\n",
       "    </tr>\n",
       "    <tr>\n",
       "      <th>Tempo de Casa</th>\n",
       "      <td>17.2603</td>\n",
       "      <td>11.1808</td>\n",
       "      <td>17.2603</td>\n",
       "      <td>9.66849</td>\n",
       "      <td>8.92329</td>\n",
       "    </tr>\n",
       "    <tr>\n",
       "      <th>Cod.Cargo</th>\n",
       "      <td>762</td>\n",
       "      <td>736</td>\n",
       "      <td>734</td>\n",
       "      <td>643</td>\n",
       "      <td>681</td>\n",
       "    </tr>\n",
       "    <tr>\n",
       "      <th>Cargo</th>\n",
       "      <td>DIRETORIA</td>\n",
       "      <td>DIRETORIA</td>\n",
       "      <td>GERENTE SR</td>\n",
       "      <td>GERENTE</td>\n",
       "      <td>DIRETORIA</td>\n",
       "    </tr>\n",
       "    <tr>\n",
       "      <th>Cod.Cargo Admissão</th>\n",
       "      <td>698</td>\n",
       "      <td>699</td>\n",
       "      <td>626</td>\n",
       "      <td>630</td>\n",
       "      <td>681</td>\n",
       "    </tr>\n",
       "    <tr>\n",
       "      <th>Cargo Admissão</th>\n",
       "      <td>GERENTE</td>\n",
       "      <td>GERENTE</td>\n",
       "      <td>COORDENADOR</td>\n",
       "      <td>COORDENADOR</td>\n",
       "      <td>DIRETORIA</td>\n",
       "    </tr>\n",
       "    <tr>\n",
       "      <th>CC</th>\n",
       "      <td>1120</td>\n",
       "      <td>1121</td>\n",
       "      <td>1220</td>\n",
       "      <td>1010</td>\n",
       "      <td>1010</td>\n",
       "    </tr>\n",
       "    <tr>\n",
       "      <th>Area</th>\n",
       "      <td>Strategy &amp; New Products</td>\n",
       "      <td>Latam</td>\n",
       "      <td>Engineering</td>\n",
       "      <td>Accounting &amp; Tax</td>\n",
       "      <td>Accounting &amp; Tax</td>\n",
       "    </tr>\n",
       "    <tr>\n",
       "      <th>Diretoria</th>\n",
       "      <td>Strategy &amp; New Products</td>\n",
       "      <td>Latam</td>\n",
       "      <td>Operations</td>\n",
       "      <td>Finance</td>\n",
       "      <td>Finance</td>\n",
       "    </tr>\n",
       "    <tr>\n",
       "      <th>Estado Civil</th>\n",
       "      <td>CASADO</td>\n",
       "      <td>CASADO</td>\n",
       "      <td>CASADO</td>\n",
       "      <td>CASADO</td>\n",
       "      <td>SEPARADO</td>\n",
       "    </tr>\n",
       "    <tr>\n",
       "      <th>Educação</th>\n",
       "      <td>PÓS GRADUAÇÃO</td>\n",
       "      <td>PÓS GRADUAÇÃO</td>\n",
       "      <td>SUPERIOR COMPLETO</td>\n",
       "      <td>PÓS GRADUAÇÃO</td>\n",
       "      <td>PÓS GRADUAÇÃO</td>\n",
       "    </tr>\n",
       "    <tr>\n",
       "      <th>Idade Atual/ Desligamento</th>\n",
       "      <td>52</td>\n",
       "      <td>42.8466</td>\n",
       "      <td>42</td>\n",
       "      <td>43.0795</td>\n",
       "      <td>43.6822</td>\n",
       "    </tr>\n",
       "    <tr>\n",
       "      <th>Idade na Admissão</th>\n",
       "      <td>36.7288</td>\n",
       "      <td>31.6658</td>\n",
       "      <td>27.0685</td>\n",
       "      <td>33.411</td>\n",
       "      <td>34.7589</td>\n",
       "    </tr>\n",
       "    <tr>\n",
       "      <th>Sexo</th>\n",
       "      <td>H</td>\n",
       "      <td>H</td>\n",
       "      <td>M</td>\n",
       "      <td>H</td>\n",
       "      <td>H</td>\n",
       "    </tr>\n",
       "    <tr>\n",
       "      <th>Banda</th>\n",
       "      <td>700</td>\n",
       "      <td>700</td>\n",
       "      <td>650</td>\n",
       "      <td>600</td>\n",
       "      <td>700</td>\n",
       "    </tr>\n",
       "    <tr>\n",
       "      <th>Nivel</th>\n",
       "      <td>Organizational Leaders</td>\n",
       "      <td>Organizational Leaders</td>\n",
       "      <td>SR Mgmt &amp; Experts</td>\n",
       "      <td>SR Mgmt &amp; Experts</td>\n",
       "      <td>Organizational Leaders</td>\n",
       "    </tr>\n",
       "    <tr>\n",
       "      <th>Hora Extra 2016</th>\n",
       "      <td>NaN</td>\n",
       "      <td>NaN</td>\n",
       "      <td>NaN</td>\n",
       "      <td>NaN</td>\n",
       "      <td>NaN</td>\n",
       "    </tr>\n",
       "    <tr>\n",
       "      <th>Hora Negativa 2016</th>\n",
       "      <td>NaN</td>\n",
       "      <td>NaN</td>\n",
       "      <td>NaN</td>\n",
       "      <td>NaN</td>\n",
       "      <td>NaN</td>\n",
       "    </tr>\n",
       "    <tr>\n",
       "      <th>Ad. Noturno 2016</th>\n",
       "      <td>NaN</td>\n",
       "      <td>NaN</td>\n",
       "      <td>NaN</td>\n",
       "      <td>NaN</td>\n",
       "      <td>NaN</td>\n",
       "    </tr>\n",
       "    <tr>\n",
       "      <th>Absenteísmo 2016</th>\n",
       "      <td>0</td>\n",
       "      <td>NaN</td>\n",
       "      <td>0</td>\n",
       "      <td>NaN</td>\n",
       "      <td>NaN</td>\n",
       "    </tr>\n",
       "    <tr>\n",
       "      <th>Hora Extra 2017</th>\n",
       "      <td>NaN</td>\n",
       "      <td>NaN</td>\n",
       "      <td>NaN</td>\n",
       "      <td>NaN</td>\n",
       "      <td>NaN</td>\n",
       "    </tr>\n",
       "    <tr>\n",
       "      <th>Hora Negativa 2017</th>\n",
       "      <td>NaN</td>\n",
       "      <td>NaN</td>\n",
       "      <td>NaN</td>\n",
       "      <td>NaN</td>\n",
       "      <td>NaN</td>\n",
       "    </tr>\n",
       "    <tr>\n",
       "      <th>Ad. Noturno 2017</th>\n",
       "      <td>NaN</td>\n",
       "      <td>NaN</td>\n",
       "      <td>NaN</td>\n",
       "      <td>NaN</td>\n",
       "      <td>NaN</td>\n",
       "    </tr>\n",
       "    <tr>\n",
       "      <th>Absenteísmo 2017</th>\n",
       "      <td>0</td>\n",
       "      <td>NaN</td>\n",
       "      <td>0</td>\n",
       "      <td>NaN</td>\n",
       "      <td>NaN</td>\n",
       "    </tr>\n",
       "    <tr>\n",
       "      <th>2012/13 Rating</th>\n",
       "      <td>E</td>\n",
       "      <td>NaN</td>\n",
       "      <td>Q</td>\n",
       "      <td>NaN</td>\n",
       "      <td>NaN</td>\n",
       "    </tr>\n",
       "    <tr>\n",
       "      <th>2012/13 Goal Achievement</th>\n",
       "      <td>NaN</td>\n",
       "      <td>NaN</td>\n",
       "      <td>NaN</td>\n",
       "      <td>NaN</td>\n",
       "      <td>NaN</td>\n",
       "    </tr>\n",
       "    <tr>\n",
       "      <th>...</th>\n",
       "      <td>...</td>\n",
       "      <td>...</td>\n",
       "      <td>...</td>\n",
       "      <td>...</td>\n",
       "      <td>...</td>\n",
       "    </tr>\n",
       "    <tr>\n",
       "      <th>2014/15 Goal Achievement</th>\n",
       "      <td>103.6</td>\n",
       "      <td>NaN</td>\n",
       "      <td>108.1</td>\n",
       "      <td>NaN</td>\n",
       "      <td>NaN</td>\n",
       "    </tr>\n",
       "    <tr>\n",
       "      <th>2015/16 Rating</th>\n",
       "      <td>Q</td>\n",
       "      <td>NaN</td>\n",
       "      <td>E</td>\n",
       "      <td>NaN</td>\n",
       "      <td>NaN</td>\n",
       "    </tr>\n",
       "    <tr>\n",
       "      <th>2015/16 Goal Achievement</th>\n",
       "      <td>109</td>\n",
       "      <td>NaN</td>\n",
       "      <td>108</td>\n",
       "      <td>NaN</td>\n",
       "      <td>NaN</td>\n",
       "    </tr>\n",
       "    <tr>\n",
       "      <th>2016/17 Rating</th>\n",
       "      <td>Q</td>\n",
       "      <td>NaN</td>\n",
       "      <td>E</td>\n",
       "      <td>NaN</td>\n",
       "      <td>NaN</td>\n",
       "    </tr>\n",
       "    <tr>\n",
       "      <th>2016/17 Goal Achievement</th>\n",
       "      <td>106.6</td>\n",
       "      <td>NaN</td>\n",
       "      <td>105.5</td>\n",
       "      <td>NaN</td>\n",
       "      <td>NaN</td>\n",
       "    </tr>\n",
       "    <tr>\n",
       "      <th>AUMENTO 2012</th>\n",
       "      <td>NaN</td>\n",
       "      <td>NaN</td>\n",
       "      <td>NaN</td>\n",
       "      <td>NaN</td>\n",
       "      <td>NaN</td>\n",
       "    </tr>\n",
       "    <tr>\n",
       "      <th>AUMENTO 2013</th>\n",
       "      <td>NaN</td>\n",
       "      <td>NaN</td>\n",
       "      <td>NaN</td>\n",
       "      <td>NaN</td>\n",
       "      <td>NaN</td>\n",
       "    </tr>\n",
       "    <tr>\n",
       "      <th>AUMENTO 2014</th>\n",
       "      <td>NaN</td>\n",
       "      <td>NaN</td>\n",
       "      <td>NaN</td>\n",
       "      <td>NaN</td>\n",
       "      <td>NaN</td>\n",
       "    </tr>\n",
       "    <tr>\n",
       "      <th>AUMENTO 2015</th>\n",
       "      <td>NaN</td>\n",
       "      <td>NaN</td>\n",
       "      <td>NaN</td>\n",
       "      <td>NaN</td>\n",
       "      <td>NaN</td>\n",
       "    </tr>\n",
       "    <tr>\n",
       "      <th>AUMENTO 2016</th>\n",
       "      <td>NaN</td>\n",
       "      <td>NaN</td>\n",
       "      <td>NaN</td>\n",
       "      <td>NaN</td>\n",
       "      <td>NaN</td>\n",
       "    </tr>\n",
       "    <tr>\n",
       "      <th>AUMENTO 2017</th>\n",
       "      <td>NaN</td>\n",
       "      <td>NaN</td>\n",
       "      <td>NaN</td>\n",
       "      <td>NaN</td>\n",
       "      <td>NaN</td>\n",
       "    </tr>\n",
       "    <tr>\n",
       "      <th>DISSIDIO 2012</th>\n",
       "      <td>Y</td>\n",
       "      <td>Y</td>\n",
       "      <td>Y</td>\n",
       "      <td>NaN</td>\n",
       "      <td>NaN</td>\n",
       "    </tr>\n",
       "    <tr>\n",
       "      <th>DISSIDIO 2013</th>\n",
       "      <td>Y</td>\n",
       "      <td>NaN</td>\n",
       "      <td>Y</td>\n",
       "      <td>NaN</td>\n",
       "      <td>NaN</td>\n",
       "    </tr>\n",
       "    <tr>\n",
       "      <th>DISSIDIO 2014</th>\n",
       "      <td>Y</td>\n",
       "      <td>NaN</td>\n",
       "      <td>Y</td>\n",
       "      <td>NaN</td>\n",
       "      <td>NaN</td>\n",
       "    </tr>\n",
       "    <tr>\n",
       "      <th>DISSIDIO 2015</th>\n",
       "      <td>Y</td>\n",
       "      <td>NaN</td>\n",
       "      <td>Y</td>\n",
       "      <td>NaN</td>\n",
       "      <td>NaN</td>\n",
       "    </tr>\n",
       "    <tr>\n",
       "      <th>DISSIDIO 2016</th>\n",
       "      <td>Y</td>\n",
       "      <td>NaN</td>\n",
       "      <td>Y</td>\n",
       "      <td>NaN</td>\n",
       "      <td>NaN</td>\n",
       "    </tr>\n",
       "    <tr>\n",
       "      <th>DISSIDIO 2017</th>\n",
       "      <td>NaN</td>\n",
       "      <td>NaN</td>\n",
       "      <td>NaN</td>\n",
       "      <td>NaN</td>\n",
       "      <td>NaN</td>\n",
       "    </tr>\n",
       "    <tr>\n",
       "      <th>MERITO 2012</th>\n",
       "      <td>Y</td>\n",
       "      <td>Y</td>\n",
       "      <td>Y</td>\n",
       "      <td>NaN</td>\n",
       "      <td>NaN</td>\n",
       "    </tr>\n",
       "    <tr>\n",
       "      <th>MERITO 2013</th>\n",
       "      <td>Y</td>\n",
       "      <td>NaN</td>\n",
       "      <td>Y</td>\n",
       "      <td>NaN</td>\n",
       "      <td>NaN</td>\n",
       "    </tr>\n",
       "    <tr>\n",
       "      <th>MERITO 2014</th>\n",
       "      <td>Y</td>\n",
       "      <td>NaN</td>\n",
       "      <td>Y</td>\n",
       "      <td>NaN</td>\n",
       "      <td>NaN</td>\n",
       "    </tr>\n",
       "    <tr>\n",
       "      <th>MERITO 2015</th>\n",
       "      <td>Y</td>\n",
       "      <td>NaN</td>\n",
       "      <td>Y</td>\n",
       "      <td>NaN</td>\n",
       "      <td>NaN</td>\n",
       "    </tr>\n",
       "    <tr>\n",
       "      <th>MERITO 2016</th>\n",
       "      <td>NaN</td>\n",
       "      <td>NaN</td>\n",
       "      <td>NaN</td>\n",
       "      <td>NaN</td>\n",
       "      <td>NaN</td>\n",
       "    </tr>\n",
       "    <tr>\n",
       "      <th>MERITO 2017</th>\n",
       "      <td>NaN</td>\n",
       "      <td>NaN</td>\n",
       "      <td>Y</td>\n",
       "      <td>NaN</td>\n",
       "      <td>NaN</td>\n",
       "    </tr>\n",
       "    <tr>\n",
       "      <th>PROMOÇÃO 2012</th>\n",
       "      <td>NaN</td>\n",
       "      <td>NaN</td>\n",
       "      <td>NaN</td>\n",
       "      <td>NaN</td>\n",
       "      <td>NaN</td>\n",
       "    </tr>\n",
       "    <tr>\n",
       "      <th>PROMOÇÃO 2013</th>\n",
       "      <td>NaN</td>\n",
       "      <td>NaN</td>\n",
       "      <td>NaN</td>\n",
       "      <td>NaN</td>\n",
       "      <td>NaN</td>\n",
       "    </tr>\n",
       "    <tr>\n",
       "      <th>PROMOÇÃO 2014</th>\n",
       "      <td>NaN</td>\n",
       "      <td>NaN</td>\n",
       "      <td>NaN</td>\n",
       "      <td>NaN</td>\n",
       "      <td>NaN</td>\n",
       "    </tr>\n",
       "    <tr>\n",
       "      <th>PROMOÇÃO 2015</th>\n",
       "      <td>NaN</td>\n",
       "      <td>NaN</td>\n",
       "      <td>NaN</td>\n",
       "      <td>NaN</td>\n",
       "      <td>NaN</td>\n",
       "    </tr>\n",
       "    <tr>\n",
       "      <th>PROMOÇÃO 2016</th>\n",
       "      <td>NaN</td>\n",
       "      <td>NaN</td>\n",
       "      <td>NaN</td>\n",
       "      <td>NaN</td>\n",
       "      <td>NaN</td>\n",
       "    </tr>\n",
       "    <tr>\n",
       "      <th>PROMOÇÃO 2017</th>\n",
       "      <td>NaN</td>\n",
       "      <td>NaN</td>\n",
       "      <td>NaN</td>\n",
       "      <td>NaN</td>\n",
       "      <td>NaN</td>\n",
       "    </tr>\n",
       "    <tr>\n",
       "      <th>PROMOVIDO</th>\n",
       "      <td>0</td>\n",
       "      <td>0</td>\n",
       "      <td>0</td>\n",
       "      <td>0</td>\n",
       "      <td>0</td>\n",
       "    </tr>\n",
       "  </tbody>\n",
       "</table>\n",
       "<p>63 rows × 5 columns</p>\n",
       "</div>"
      ],
      "text/plain": [
       "                                                             0  \\\n",
       "ADP                                                          1   \n",
       "Admissão                                   2001-10-01 00:00:00   \n",
       "Desligamento                                                     \n",
       "Desligado?                                                   N   \n",
       "Iniciativa Desligamento                                    NaN   \n",
       "Tempo de Casa                                          17.2603   \n",
       "Cod.Cargo                                                  762   \n",
       "Cargo                                                DIRETORIA   \n",
       "Cod.Cargo Admissão                                         698   \n",
       "Cargo Admissão                                         GERENTE   \n",
       "CC                                                        1120   \n",
       "Area                                   Strategy & New Products   \n",
       "Diretoria                              Strategy & New Products   \n",
       "Estado Civil                                            CASADO   \n",
       "Educação                   PÓS GRADUAÇÃO                         \n",
       "Idade Atual/ Desligamento                                   52   \n",
       "Idade na Admissão                                      36.7288   \n",
       "Sexo                                                         H   \n",
       "Banda                                                      700   \n",
       "Nivel                                   Organizational Leaders   \n",
       "Hora Extra 2016                                            NaN   \n",
       "Hora Negativa 2016                                         NaN   \n",
       "Ad. Noturno 2016                                           NaN   \n",
       "Absenteísmo 2016                                             0   \n",
       "Hora Extra 2017                                            NaN   \n",
       "Hora Negativa 2017                                         NaN   \n",
       "Ad. Noturno 2017                                           NaN   \n",
       "Absenteísmo 2017                                             0   \n",
       "2012/13 Rating                                               E   \n",
       "2012/13 Goal Achievement                                   NaN   \n",
       "...                                                        ...   \n",
       "2014/15 Goal Achievement                                 103.6   \n",
       "2015/16 Rating                                               Q   \n",
       "2015/16 Goal Achievement                                   109   \n",
       "2016/17 Rating                                               Q   \n",
       "2016/17 Goal Achievement                                 106.6   \n",
       "AUMENTO 2012                                               NaN   \n",
       "AUMENTO 2013                                               NaN   \n",
       "AUMENTO 2014                                               NaN   \n",
       "AUMENTO 2015                                               NaN   \n",
       "AUMENTO 2016                                               NaN   \n",
       "AUMENTO 2017                                               NaN   \n",
       "DISSIDIO 2012                                                Y   \n",
       "DISSIDIO 2013                                                Y   \n",
       "DISSIDIO 2014                                                Y   \n",
       "DISSIDIO 2015                                                Y   \n",
       "DISSIDIO 2016                                                Y   \n",
       "DISSIDIO 2017                                              NaN   \n",
       "MERITO 2012                                                  Y   \n",
       "MERITO 2013                                                  Y   \n",
       "MERITO 2014                                                  Y   \n",
       "MERITO 2015                                                  Y   \n",
       "MERITO 2016                                                NaN   \n",
       "MERITO 2017                                                NaN   \n",
       "PROMOÇÃO 2012                                              NaN   \n",
       "PROMOÇÃO 2013                                              NaN   \n",
       "PROMOÇÃO 2014                                              NaN   \n",
       "PROMOÇÃO 2015                                              NaN   \n",
       "PROMOÇÃO 2016                                              NaN   \n",
       "PROMOÇÃO 2017                                              NaN   \n",
       "PROMOVIDO                                                    0   \n",
       "\n",
       "                                                             1  \\\n",
       "ADP                                                          5   \n",
       "Admissão                                   2001-10-01 00:00:00   \n",
       "Desligamento                               2012-12-03 00:00:00   \n",
       "Desligado?                                                   Y   \n",
       "Iniciativa Desligamento                            Funcionário   \n",
       "Tempo de Casa                                          11.1808   \n",
       "Cod.Cargo                                                  736   \n",
       "Cargo                                                DIRETORIA   \n",
       "Cod.Cargo Admissão                                         699   \n",
       "Cargo Admissão                                         GERENTE   \n",
       "CC                                                        1121   \n",
       "Area                                                     Latam   \n",
       "Diretoria                                                Latam   \n",
       "Estado Civil                                            CASADO   \n",
       "Educação                   PÓS GRADUAÇÃO                         \n",
       "Idade Atual/ Desligamento                              42.8466   \n",
       "Idade na Admissão                                      31.6658   \n",
       "Sexo                                                         H   \n",
       "Banda                                                      700   \n",
       "Nivel                                   Organizational Leaders   \n",
       "Hora Extra 2016                                            NaN   \n",
       "Hora Negativa 2016                                         NaN   \n",
       "Ad. Noturno 2016                                           NaN   \n",
       "Absenteísmo 2016                                           NaN   \n",
       "Hora Extra 2017                                            NaN   \n",
       "Hora Negativa 2017                                         NaN   \n",
       "Ad. Noturno 2017                                           NaN   \n",
       "Absenteísmo 2017                                           NaN   \n",
       "2012/13 Rating                                             NaN   \n",
       "2012/13 Goal Achievement                                   NaN   \n",
       "...                                                        ...   \n",
       "2014/15 Goal Achievement                                   NaN   \n",
       "2015/16 Rating                                             NaN   \n",
       "2015/16 Goal Achievement                                   NaN   \n",
       "2016/17 Rating                                             NaN   \n",
       "2016/17 Goal Achievement                                   NaN   \n",
       "AUMENTO 2012                                               NaN   \n",
       "AUMENTO 2013                                               NaN   \n",
       "AUMENTO 2014                                               NaN   \n",
       "AUMENTO 2015                                               NaN   \n",
       "AUMENTO 2016                                               NaN   \n",
       "AUMENTO 2017                                               NaN   \n",
       "DISSIDIO 2012                                                Y   \n",
       "DISSIDIO 2013                                              NaN   \n",
       "DISSIDIO 2014                                              NaN   \n",
       "DISSIDIO 2015                                              NaN   \n",
       "DISSIDIO 2016                                              NaN   \n",
       "DISSIDIO 2017                                              NaN   \n",
       "MERITO 2012                                                  Y   \n",
       "MERITO 2013                                                NaN   \n",
       "MERITO 2014                                                NaN   \n",
       "MERITO 2015                                                NaN   \n",
       "MERITO 2016                                                NaN   \n",
       "MERITO 2017                                                NaN   \n",
       "PROMOÇÃO 2012                                              NaN   \n",
       "PROMOÇÃO 2013                                              NaN   \n",
       "PROMOÇÃO 2014                                              NaN   \n",
       "PROMOÇÃO 2015                                              NaN   \n",
       "PROMOÇÃO 2016                                              NaN   \n",
       "PROMOÇÃO 2017                                              NaN   \n",
       "PROMOVIDO                                                    0   \n",
       "\n",
       "                                             2  \\\n",
       "ADP                                         10   \n",
       "Admissão                   2001-10-01 00:00:00   \n",
       "Desligamento                                     \n",
       "Desligado?                                   N   \n",
       "Iniciativa Desligamento                    NaN   \n",
       "Tempo de Casa                          17.2603   \n",
       "Cod.Cargo                                  734   \n",
       "Cargo                               GERENTE SR   \n",
       "Cod.Cargo Admissão                         626   \n",
       "Cargo Admissão                     COORDENADOR   \n",
       "CC                                        1220   \n",
       "Area                               Engineering   \n",
       "Diretoria                           Operations   \n",
       "Estado Civil                            CASADO   \n",
       "Educação                     SUPERIOR COMPLETO   \n",
       "Idade Atual/ Desligamento                   42   \n",
       "Idade na Admissão                      27.0685   \n",
       "Sexo                                         M   \n",
       "Banda                                      650   \n",
       "Nivel                        SR Mgmt & Experts   \n",
       "Hora Extra 2016                            NaN   \n",
       "Hora Negativa 2016                         NaN   \n",
       "Ad. Noturno 2016                           NaN   \n",
       "Absenteísmo 2016                             0   \n",
       "Hora Extra 2017                            NaN   \n",
       "Hora Negativa 2017                         NaN   \n",
       "Ad. Noturno 2017                           NaN   \n",
       "Absenteísmo 2017                             0   \n",
       "2012/13 Rating                               Q   \n",
       "2012/13 Goal Achievement                   NaN   \n",
       "...                                        ...   \n",
       "2014/15 Goal Achievement                 108.1   \n",
       "2015/16 Rating                               E   \n",
       "2015/16 Goal Achievement                   108   \n",
       "2016/17 Rating                               E   \n",
       "2016/17 Goal Achievement                 105.5   \n",
       "AUMENTO 2012                               NaN   \n",
       "AUMENTO 2013                               NaN   \n",
       "AUMENTO 2014                               NaN   \n",
       "AUMENTO 2015                               NaN   \n",
       "AUMENTO 2016                               NaN   \n",
       "AUMENTO 2017                               NaN   \n",
       "DISSIDIO 2012                                Y   \n",
       "DISSIDIO 2013                                Y   \n",
       "DISSIDIO 2014                                Y   \n",
       "DISSIDIO 2015                                Y   \n",
       "DISSIDIO 2016                                Y   \n",
       "DISSIDIO 2017                              NaN   \n",
       "MERITO 2012                                  Y   \n",
       "MERITO 2013                                  Y   \n",
       "MERITO 2014                                  Y   \n",
       "MERITO 2015                                  Y   \n",
       "MERITO 2016                                NaN   \n",
       "MERITO 2017                                  Y   \n",
       "PROMOÇÃO 2012                              NaN   \n",
       "PROMOÇÃO 2013                              NaN   \n",
       "PROMOÇÃO 2014                              NaN   \n",
       "PROMOÇÃO 2015                              NaN   \n",
       "PROMOÇÃO 2016                              NaN   \n",
       "PROMOÇÃO 2017                              NaN   \n",
       "PROMOVIDO                                    0   \n",
       "\n",
       "                                                             3  \\\n",
       "ADP                                                         14   \n",
       "Admissão                                   2001-10-01 00:00:00   \n",
       "Desligamento                               2011-05-31 00:00:00   \n",
       "Desligado?                                                   Y   \n",
       "Iniciativa Desligamento                            Funcionário   \n",
       "Tempo de Casa                                          9.66849   \n",
       "Cod.Cargo                                                  643   \n",
       "Cargo                                                  GERENTE   \n",
       "Cod.Cargo Admissão                                         630   \n",
       "Cargo Admissão                                     COORDENADOR   \n",
       "CC                                                        1010   \n",
       "Area                                          Accounting & Tax   \n",
       "Diretoria                                              Finance   \n",
       "Estado Civil                                            CASADO   \n",
       "Educação                   PÓS GRADUAÇÃO                         \n",
       "Idade Atual/ Desligamento                              43.0795   \n",
       "Idade na Admissão                                       33.411   \n",
       "Sexo                                                         H   \n",
       "Banda                                                      600   \n",
       "Nivel                                        SR Mgmt & Experts   \n",
       "Hora Extra 2016                                            NaN   \n",
       "Hora Negativa 2016                                         NaN   \n",
       "Ad. Noturno 2016                                           NaN   \n",
       "Absenteísmo 2016                                           NaN   \n",
       "Hora Extra 2017                                            NaN   \n",
       "Hora Negativa 2017                                         NaN   \n",
       "Ad. Noturno 2017                                           NaN   \n",
       "Absenteísmo 2017                                           NaN   \n",
       "2012/13 Rating                                             NaN   \n",
       "2012/13 Goal Achievement                                   NaN   \n",
       "...                                                        ...   \n",
       "2014/15 Goal Achievement                                   NaN   \n",
       "2015/16 Rating                                             NaN   \n",
       "2015/16 Goal Achievement                                   NaN   \n",
       "2016/17 Rating                                             NaN   \n",
       "2016/17 Goal Achievement                                   NaN   \n",
       "AUMENTO 2012                                               NaN   \n",
       "AUMENTO 2013                                               NaN   \n",
       "AUMENTO 2014                                               NaN   \n",
       "AUMENTO 2015                                               NaN   \n",
       "AUMENTO 2016                                               NaN   \n",
       "AUMENTO 2017                                               NaN   \n",
       "DISSIDIO 2012                                              NaN   \n",
       "DISSIDIO 2013                                              NaN   \n",
       "DISSIDIO 2014                                              NaN   \n",
       "DISSIDIO 2015                                              NaN   \n",
       "DISSIDIO 2016                                              NaN   \n",
       "DISSIDIO 2017                                              NaN   \n",
       "MERITO 2012                                                NaN   \n",
       "MERITO 2013                                                NaN   \n",
       "MERITO 2014                                                NaN   \n",
       "MERITO 2015                                                NaN   \n",
       "MERITO 2016                                                NaN   \n",
       "MERITO 2017                                                NaN   \n",
       "PROMOÇÃO 2012                                              NaN   \n",
       "PROMOÇÃO 2013                                              NaN   \n",
       "PROMOÇÃO 2014                                              NaN   \n",
       "PROMOÇÃO 2015                                              NaN   \n",
       "PROMOÇÃO 2016                                              NaN   \n",
       "PROMOÇÃO 2017                                              NaN   \n",
       "PROMOVIDO                                                    0   \n",
       "\n",
       "                                                             4  \n",
       "ADP                                                         19  \n",
       "Admissão                                   2001-10-01 00:00:00  \n",
       "Desligamento                               2010-09-01 00:00:00  \n",
       "Desligado?                                                   Y  \n",
       "Iniciativa Desligamento                            Empregador   \n",
       "Tempo de Casa                                          8.92329  \n",
       "Cod.Cargo                                                  681  \n",
       "Cargo                                                DIRETORIA  \n",
       "Cod.Cargo Admissão                                         681  \n",
       "Cargo Admissão                                       DIRETORIA  \n",
       "CC                                                        1010  \n",
       "Area                                          Accounting & Tax  \n",
       "Diretoria                                              Finance  \n",
       "Estado Civil                                          SEPARADO  \n",
       "Educação                   PÓS GRADUAÇÃO                        \n",
       "Idade Atual/ Desligamento                              43.6822  \n",
       "Idade na Admissão                                      34.7589  \n",
       "Sexo                                                         H  \n",
       "Banda                                                      700  \n",
       "Nivel                                   Organizational Leaders  \n",
       "Hora Extra 2016                                            NaN  \n",
       "Hora Negativa 2016                                         NaN  \n",
       "Ad. Noturno 2016                                           NaN  \n",
       "Absenteísmo 2016                                           NaN  \n",
       "Hora Extra 2017                                            NaN  \n",
       "Hora Negativa 2017                                         NaN  \n",
       "Ad. Noturno 2017                                           NaN  \n",
       "Absenteísmo 2017                                           NaN  \n",
       "2012/13 Rating                                             NaN  \n",
       "2012/13 Goal Achievement                                   NaN  \n",
       "...                                                        ...  \n",
       "2014/15 Goal Achievement                                   NaN  \n",
       "2015/16 Rating                                             NaN  \n",
       "2015/16 Goal Achievement                                   NaN  \n",
       "2016/17 Rating                                             NaN  \n",
       "2016/17 Goal Achievement                                   NaN  \n",
       "AUMENTO 2012                                               NaN  \n",
       "AUMENTO 2013                                               NaN  \n",
       "AUMENTO 2014                                               NaN  \n",
       "AUMENTO 2015                                               NaN  \n",
       "AUMENTO 2016                                               NaN  \n",
       "AUMENTO 2017                                               NaN  \n",
       "DISSIDIO 2012                                              NaN  \n",
       "DISSIDIO 2013                                              NaN  \n",
       "DISSIDIO 2014                                              NaN  \n",
       "DISSIDIO 2015                                              NaN  \n",
       "DISSIDIO 2016                                              NaN  \n",
       "DISSIDIO 2017                                              NaN  \n",
       "MERITO 2012                                                NaN  \n",
       "MERITO 2013                                                NaN  \n",
       "MERITO 2014                                                NaN  \n",
       "MERITO 2015                                                NaN  \n",
       "MERITO 2016                                                NaN  \n",
       "MERITO 2017                                                NaN  \n",
       "PROMOÇÃO 2012                                              NaN  \n",
       "PROMOÇÃO 2013                                              NaN  \n",
       "PROMOÇÃO 2014                                              NaN  \n",
       "PROMOÇÃO 2015                                              NaN  \n",
       "PROMOÇÃO 2016                                              NaN  \n",
       "PROMOÇÃO 2017                                              NaN  \n",
       "PROMOVIDO                                                    0  \n",
       "\n",
       "[63 rows x 5 columns]"
      ]
     },
     "execution_count": 87,
     "metadata": {},
     "output_type": "execute_result"
    }
   ],
   "source": [
    "#-- carregando o dataset\n",
    "df = pd.read_excel('../data/Base Analytics.xlsx', sheet_name='Censo sem Estagiário')\n",
    "df.head().T"
   ]
  },
  {
   "cell_type": "code",
   "execution_count": 89,
   "metadata": {},
   "outputs": [
    {
     "data": {
      "text/plain": [
       "array(['ADP', 'Admissão', 'Desligamento', 'Desligado?',\n",
       "       'Iniciativa Desligamento', 'Tempo de Casa', 'Cod.Cargo', 'Cargo',\n",
       "       'Cod.Cargo Admissão', 'Cargo Admissão', 'CC', 'Area', 'Diretoria',\n",
       "       'Estado Civil', 'Educação', 'Idade Atual/ Desligamento',\n",
       "       'Idade na Admissão', 'Sexo', 'Banda', 'Nivel', 'Hora Extra 2016',\n",
       "       'Hora Negativa 2016', 'Ad. Noturno 2016', 'Absenteísmo 2016',\n",
       "       'Hora Extra 2017', 'Hora Negativa 2017', 'Ad. Noturno 2017',\n",
       "       'Absenteísmo 2017', '2012/13 Rating', '2012/13 Goal Achievement',\n",
       "       '2013/14 Rating', '2013/14 Goal Achievement', '2014/15 Rating',\n",
       "       '2014/15 Goal Achievement', '2015/16 Rating',\n",
       "       '2015/16 Goal Achievement', '2016/17 Rating',\n",
       "       '2016/17 Goal Achievement', 'AUMENTO 2012', 'AUMENTO 2013',\n",
       "       'AUMENTO 2014', 'AUMENTO 2015', 'AUMENTO 2016', 'AUMENTO 2017',\n",
       "       'DISSIDIO 2012', 'DISSIDIO 2013', 'DISSIDIO 2014', 'DISSIDIO 2015',\n",
       "       'DISSIDIO 2016', 'DISSIDIO 2017', 'MERITO 2012', 'MERITO 2013',\n",
       "       'MERITO 2014', 'MERITO 2015', 'MERITO 2016', 'MERITO 2017',\n",
       "       'PROMOÇÃO 2012', 'PROMOÇÃO 2013', 'PROMOÇÃO 2014', 'PROMOÇÃO 2015',\n",
       "       'PROMOÇÃO 2016', 'PROMOÇÃO 2017', 'PROMOVIDO'], dtype=object)"
      ]
     },
     "execution_count": 89,
     "metadata": {},
     "output_type": "execute_result"
    }
   ],
   "source": [
    "#-- printando os nomes das colunas\n",
    "df.columns.values"
   ]
  },
  {
   "cell_type": "markdown",
   "metadata": {},
   "source": [
    "## Exploratory Data Analysis (EDA)"
   ]
  },
  {
   "cell_type": "code",
   "execution_count": 90,
   "metadata": {},
   "outputs": [
    {
     "data": {
      "text/plain": [
       "(597, 63)"
      ]
     },
     "execution_count": 90,
     "metadata": {},
     "output_type": "execute_result"
    }
   ],
   "source": [
    "#-- apresentando as dimensões do dataset\n",
    "df.shape"
   ]
  },
  {
   "cell_type": "code",
   "execution_count": 91,
   "metadata": {},
   "outputs": [
    {
     "data": {
      "text/plain": [
       "ADP                                   int64\n",
       "Admissão                     datetime64[ns]\n",
       "Desligamento                         object\n",
       "Desligado?                           object\n",
       "Iniciativa Desligamento              object\n",
       "Tempo de Casa                       float64\n",
       "Cod.Cargo                             int64\n",
       "Cargo                                object\n",
       "Cod.Cargo Admissão                    int64\n",
       "Cargo Admissão                       object\n",
       "CC                                    int64\n",
       "Area                                 object\n",
       "Diretoria                            object\n",
       "Estado Civil                         object\n",
       "Educação                             object\n",
       "Idade Atual/ Desligamento           float64\n",
       "Idade na Admissão                   float64\n",
       "Sexo                                 object\n",
       "Banda                                 int64\n",
       "Nivel                                object\n",
       "Hora Extra 2016                     float64\n",
       "Hora Negativa 2016                  float64\n",
       "Ad. Noturno 2016                    float64\n",
       "Absenteísmo 2016                    float64\n",
       "Hora Extra 2017                     float64\n",
       "Hora Negativa 2017                  float64\n",
       "Ad. Noturno 2017                    float64\n",
       "Absenteísmo 2017                    float64\n",
       "2012/13 Rating                       object\n",
       "2012/13 Goal Achievement            float64\n",
       "                                  ...      \n",
       "2014/15 Goal Achievement            float64\n",
       "2015/16 Rating                       object\n",
       "2015/16 Goal Achievement            float64\n",
       "2016/17 Rating                       object\n",
       "2016/17 Goal Achievement            float64\n",
       "AUMENTO 2012                         object\n",
       "AUMENTO 2013                         object\n",
       "AUMENTO 2014                         object\n",
       "AUMENTO 2015                         object\n",
       "AUMENTO 2016                         object\n",
       "AUMENTO 2017                         object\n",
       "DISSIDIO 2012                        object\n",
       "DISSIDIO 2013                        object\n",
       "DISSIDIO 2014                        object\n",
       "DISSIDIO 2015                        object\n",
       "DISSIDIO 2016                        object\n",
       "DISSIDIO 2017                        object\n",
       "MERITO 2012                          object\n",
       "MERITO 2013                          object\n",
       "MERITO 2014                          object\n",
       "MERITO 2015                          object\n",
       "MERITO 2016                          object\n",
       "MERITO 2017                          object\n",
       "PROMOÇÃO 2012                        object\n",
       "PROMOÇÃO 2013                        object\n",
       "PROMOÇÃO 2014                        object\n",
       "PROMOÇÃO 2015                        object\n",
       "PROMOÇÃO 2016                        object\n",
       "PROMOÇÃO 2017                        object\n",
       "PROMOVIDO                             int64\n",
       "Length: 63, dtype: object"
      ]
     },
     "execution_count": 91,
     "metadata": {},
     "output_type": "execute_result"
    }
   ],
   "source": [
    "#-- printando o tipo das variáveis\n",
    "df.dtypes"
   ]
  },
  {
   "cell_type": "code",
   "execution_count": 92,
   "metadata": {},
   "outputs": [
    {
     "data": {
      "text/html": [
       "<div>\n",
       "<style scoped>\n",
       "    .dataframe tbody tr th:only-of-type {\n",
       "        vertical-align: middle;\n",
       "    }\n",
       "\n",
       "    .dataframe tbody tr th {\n",
       "        vertical-align: top;\n",
       "    }\n",
       "\n",
       "    .dataframe thead th {\n",
       "        text-align: right;\n",
       "    }\n",
       "</style>\n",
       "<table border=\"1\" class=\"dataframe\">\n",
       "  <thead>\n",
       "    <tr style=\"text-align: right;\">\n",
       "      <th></th>\n",
       "      <th>ADP</th>\n",
       "      <th>Admissão</th>\n",
       "      <th>Desligamento</th>\n",
       "      <th>Desligado?</th>\n",
       "      <th>Iniciativa Desligamento</th>\n",
       "      <th>Tempo de Casa</th>\n",
       "      <th>Cod.Cargo</th>\n",
       "      <th>Cargo</th>\n",
       "      <th>Cod.Cargo Admissão</th>\n",
       "      <th>Cargo Admissão</th>\n",
       "      <th>...</th>\n",
       "      <th>MERITO 2015</th>\n",
       "      <th>MERITO 2016</th>\n",
       "      <th>MERITO 2017</th>\n",
       "      <th>PROMOÇÃO 2012</th>\n",
       "      <th>PROMOÇÃO 2013</th>\n",
       "      <th>PROMOÇÃO 2014</th>\n",
       "      <th>PROMOÇÃO 2015</th>\n",
       "      <th>PROMOÇÃO 2016</th>\n",
       "      <th>PROMOÇÃO 2017</th>\n",
       "      <th>PROMOVIDO</th>\n",
       "    </tr>\n",
       "  </thead>\n",
       "  <tbody>\n",
       "    <tr>\n",
       "      <th>0</th>\n",
       "      <td>1</td>\n",
       "      <td>2001-10-01</td>\n",
       "      <td></td>\n",
       "      <td>N</td>\n",
       "      <td>NaN</td>\n",
       "      <td>17.260274</td>\n",
       "      <td>762</td>\n",
       "      <td>DIRETORIA</td>\n",
       "      <td>698</td>\n",
       "      <td>GERENTE</td>\n",
       "      <td>...</td>\n",
       "      <td>Y</td>\n",
       "      <td>NaN</td>\n",
       "      <td>NaN</td>\n",
       "      <td>NaN</td>\n",
       "      <td>NaN</td>\n",
       "      <td>NaN</td>\n",
       "      <td>NaN</td>\n",
       "      <td>NaN</td>\n",
       "      <td>NaN</td>\n",
       "      <td>0</td>\n",
       "    </tr>\n",
       "    <tr>\n",
       "      <th>1</th>\n",
       "      <td>5</td>\n",
       "      <td>2001-10-01</td>\n",
       "      <td>2012-12-03 00:00:00</td>\n",
       "      <td>Y</td>\n",
       "      <td>Funcionário</td>\n",
       "      <td>11.180822</td>\n",
       "      <td>736</td>\n",
       "      <td>DIRETORIA</td>\n",
       "      <td>699</td>\n",
       "      <td>GERENTE</td>\n",
       "      <td>...</td>\n",
       "      <td>NaN</td>\n",
       "      <td>NaN</td>\n",
       "      <td>NaN</td>\n",
       "      <td>NaN</td>\n",
       "      <td>NaN</td>\n",
       "      <td>NaN</td>\n",
       "      <td>NaN</td>\n",
       "      <td>NaN</td>\n",
       "      <td>NaN</td>\n",
       "      <td>0</td>\n",
       "    </tr>\n",
       "    <tr>\n",
       "      <th>2</th>\n",
       "      <td>10</td>\n",
       "      <td>2001-10-01</td>\n",
       "      <td></td>\n",
       "      <td>N</td>\n",
       "      <td>NaN</td>\n",
       "      <td>17.260274</td>\n",
       "      <td>734</td>\n",
       "      <td>GERENTE SR</td>\n",
       "      <td>626</td>\n",
       "      <td>COORDENADOR</td>\n",
       "      <td>...</td>\n",
       "      <td>Y</td>\n",
       "      <td>NaN</td>\n",
       "      <td>Y</td>\n",
       "      <td>NaN</td>\n",
       "      <td>NaN</td>\n",
       "      <td>NaN</td>\n",
       "      <td>NaN</td>\n",
       "      <td>NaN</td>\n",
       "      <td>NaN</td>\n",
       "      <td>0</td>\n",
       "    </tr>\n",
       "    <tr>\n",
       "      <th>3</th>\n",
       "      <td>14</td>\n",
       "      <td>2001-10-01</td>\n",
       "      <td>2011-05-31 00:00:00</td>\n",
       "      <td>Y</td>\n",
       "      <td>Funcionário</td>\n",
       "      <td>9.668493</td>\n",
       "      <td>643</td>\n",
       "      <td>GERENTE</td>\n",
       "      <td>630</td>\n",
       "      <td>COORDENADOR</td>\n",
       "      <td>...</td>\n",
       "      <td>NaN</td>\n",
       "      <td>NaN</td>\n",
       "      <td>NaN</td>\n",
       "      <td>NaN</td>\n",
       "      <td>NaN</td>\n",
       "      <td>NaN</td>\n",
       "      <td>NaN</td>\n",
       "      <td>NaN</td>\n",
       "      <td>NaN</td>\n",
       "      <td>0</td>\n",
       "    </tr>\n",
       "    <tr>\n",
       "      <th>4</th>\n",
       "      <td>19</td>\n",
       "      <td>2001-10-01</td>\n",
       "      <td>2010-09-01 00:00:00</td>\n",
       "      <td>Y</td>\n",
       "      <td>Empregador</td>\n",
       "      <td>8.923288</td>\n",
       "      <td>681</td>\n",
       "      <td>DIRETORIA</td>\n",
       "      <td>681</td>\n",
       "      <td>DIRETORIA</td>\n",
       "      <td>...</td>\n",
       "      <td>NaN</td>\n",
       "      <td>NaN</td>\n",
       "      <td>NaN</td>\n",
       "      <td>NaN</td>\n",
       "      <td>NaN</td>\n",
       "      <td>NaN</td>\n",
       "      <td>NaN</td>\n",
       "      <td>NaN</td>\n",
       "      <td>NaN</td>\n",
       "      <td>0</td>\n",
       "    </tr>\n",
       "  </tbody>\n",
       "</table>\n",
       "<p>5 rows × 63 columns</p>\n",
       "</div>"
      ],
      "text/plain": [
       "   ADP   Admissão         Desligamento Desligado? Iniciativa Desligamento  \\\n",
       "0    1 2001-10-01                               N                     NaN   \n",
       "1    5 2001-10-01  2012-12-03 00:00:00          Y             Funcionário   \n",
       "2   10 2001-10-01                               N                     NaN   \n",
       "3   14 2001-10-01  2011-05-31 00:00:00          Y             Funcionário   \n",
       "4   19 2001-10-01  2010-09-01 00:00:00          Y             Empregador    \n",
       "\n",
       "   Tempo de Casa  Cod.Cargo       Cargo  Cod.Cargo Admissão Cargo Admissão  \\\n",
       "0      17.260274        762   DIRETORIA                 698        GERENTE   \n",
       "1      11.180822        736   DIRETORIA                 699        GERENTE   \n",
       "2      17.260274        734  GERENTE SR                 626    COORDENADOR   \n",
       "3       9.668493        643     GERENTE                 630    COORDENADOR   \n",
       "4       8.923288        681   DIRETORIA                 681      DIRETORIA   \n",
       "\n",
       "   ...  MERITO 2015 MERITO 2016 MERITO 2017 PROMOÇÃO 2012 PROMOÇÃO 2013  \\\n",
       "0  ...            Y         NaN         NaN           NaN           NaN   \n",
       "1  ...          NaN         NaN         NaN           NaN           NaN   \n",
       "2  ...            Y         NaN           Y           NaN           NaN   \n",
       "3  ...          NaN         NaN         NaN           NaN           NaN   \n",
       "4  ...          NaN         NaN         NaN           NaN           NaN   \n",
       "\n",
       "   PROMOÇÃO 2014  PROMOÇÃO 2015 PROMOÇÃO 2016  PROMOÇÃO 2017 PROMOVIDO  \n",
       "0            NaN            NaN           NaN            NaN         0  \n",
       "1            NaN            NaN           NaN            NaN         0  \n",
       "2            NaN            NaN           NaN            NaN         0  \n",
       "3            NaN            NaN           NaN            NaN         0  \n",
       "4            NaN            NaN           NaN            NaN         0  \n",
       "\n",
       "[5 rows x 63 columns]"
      ]
     },
     "execution_count": 92,
     "metadata": {},
     "output_type": "execute_result"
    }
   ],
   "source": [
    "#-- printiando o head do dataset\n",
    "df.head()"
   ]
  },
  {
   "cell_type": "code",
   "execution_count": 93,
   "metadata": {},
   "outputs": [
    {
     "data": {
      "text/html": [
       "<div>\n",
       "<style scoped>\n",
       "    .dataframe tbody tr th:only-of-type {\n",
       "        vertical-align: middle;\n",
       "    }\n",
       "\n",
       "    .dataframe tbody tr th {\n",
       "        vertical-align: top;\n",
       "    }\n",
       "\n",
       "    .dataframe thead th {\n",
       "        text-align: right;\n",
       "    }\n",
       "</style>\n",
       "<table border=\"1\" class=\"dataframe\">\n",
       "  <thead>\n",
       "    <tr style=\"text-align: right;\">\n",
       "      <th></th>\n",
       "      <th>null_amount</th>\n",
       "      <th>null_ratio</th>\n",
       "    </tr>\n",
       "  </thead>\n",
       "  <tbody>\n",
       "    <tr>\n",
       "      <th>2012/13 Goal Achievement</th>\n",
       "      <td>597.0</td>\n",
       "      <td>1.000000</td>\n",
       "    </tr>\n",
       "    <tr>\n",
       "      <th>DISSIDIO 2017</th>\n",
       "      <td>596.0</td>\n",
       "      <td>0.998325</td>\n",
       "    </tr>\n",
       "    <tr>\n",
       "      <th>AUMENTO 2014</th>\n",
       "      <td>589.0</td>\n",
       "      <td>0.986600</td>\n",
       "    </tr>\n",
       "    <tr>\n",
       "      <th>AUMENTO 2012</th>\n",
       "      <td>589.0</td>\n",
       "      <td>0.986600</td>\n",
       "    </tr>\n",
       "    <tr>\n",
       "      <th>PROMOÇÃO 2013</th>\n",
       "      <td>585.0</td>\n",
       "      <td>0.979899</td>\n",
       "    </tr>\n",
       "    <tr>\n",
       "      <th>PROMOÇÃO 2014</th>\n",
       "      <td>582.0</td>\n",
       "      <td>0.974874</td>\n",
       "    </tr>\n",
       "    <tr>\n",
       "      <th>PROMOÇÃO 2012</th>\n",
       "      <td>581.0</td>\n",
       "      <td>0.973199</td>\n",
       "    </tr>\n",
       "    <tr>\n",
       "      <th>AUMENTO 2013</th>\n",
       "      <td>576.0</td>\n",
       "      <td>0.964824</td>\n",
       "    </tr>\n",
       "    <tr>\n",
       "      <th>AUMENTO 2017</th>\n",
       "      <td>573.0</td>\n",
       "      <td>0.959799</td>\n",
       "    </tr>\n",
       "    <tr>\n",
       "      <th>PROMOÇÃO 2016</th>\n",
       "      <td>572.0</td>\n",
       "      <td>0.958124</td>\n",
       "    </tr>\n",
       "    <tr>\n",
       "      <th>PROMOÇÃO 2015</th>\n",
       "      <td>571.0</td>\n",
       "      <td>0.956449</td>\n",
       "    </tr>\n",
       "    <tr>\n",
       "      <th>AUMENTO 2016</th>\n",
       "      <td>564.0</td>\n",
       "      <td>0.944724</td>\n",
       "    </tr>\n",
       "    <tr>\n",
       "      <th>AUMENTO 2015</th>\n",
       "      <td>562.0</td>\n",
       "      <td>0.941374</td>\n",
       "    </tr>\n",
       "    <tr>\n",
       "      <th>MERITO 2012</th>\n",
       "      <td>556.0</td>\n",
       "      <td>0.931323</td>\n",
       "    </tr>\n",
       "    <tr>\n",
       "      <th>PROMOÇÃO 2017</th>\n",
       "      <td>555.0</td>\n",
       "      <td>0.929648</td>\n",
       "    </tr>\n",
       "    <tr>\n",
       "      <th>MERITO 2013</th>\n",
       "      <td>532.0</td>\n",
       "      <td>0.891122</td>\n",
       "    </tr>\n",
       "    <tr>\n",
       "      <th>MERITO 2014</th>\n",
       "      <td>512.0</td>\n",
       "      <td>0.857621</td>\n",
       "    </tr>\n",
       "    <tr>\n",
       "      <th>MERITO 2016</th>\n",
       "      <td>500.0</td>\n",
       "      <td>0.837521</td>\n",
       "    </tr>\n",
       "    <tr>\n",
       "      <th>MERITO 2015</th>\n",
       "      <td>478.0</td>\n",
       "      <td>0.800670</td>\n",
       "    </tr>\n",
       "    <tr>\n",
       "      <th>MERITO 2017</th>\n",
       "      <td>475.0</td>\n",
       "      <td>0.795645</td>\n",
       "    </tr>\n",
       "    <tr>\n",
       "      <th>DISSIDIO 2012</th>\n",
       "      <td>470.0</td>\n",
       "      <td>0.787270</td>\n",
       "    </tr>\n",
       "    <tr>\n",
       "      <th>2012/13 Rating</th>\n",
       "      <td>463.0</td>\n",
       "      <td>0.775544</td>\n",
       "    </tr>\n",
       "    <tr>\n",
       "      <th>2013/14 Rating</th>\n",
       "      <td>442.0</td>\n",
       "      <td>0.740369</td>\n",
       "    </tr>\n",
       "    <tr>\n",
       "      <th>2013/14 Goal Achievement</th>\n",
       "      <td>442.0</td>\n",
       "      <td>0.740369</td>\n",
       "    </tr>\n",
       "    <tr>\n",
       "      <th>DISSIDIO 2013</th>\n",
       "      <td>430.0</td>\n",
       "      <td>0.720268</td>\n",
       "    </tr>\n",
       "    <tr>\n",
       "      <th>2014/15 Goal Achievement</th>\n",
       "      <td>422.0</td>\n",
       "      <td>0.706868</td>\n",
       "    </tr>\n",
       "    <tr>\n",
       "      <th>DISSIDIO 2014</th>\n",
       "      <td>407.0</td>\n",
       "      <td>0.681742</td>\n",
       "    </tr>\n",
       "    <tr>\n",
       "      <th>2014/15 Rating</th>\n",
       "      <td>386.0</td>\n",
       "      <td>0.646566</td>\n",
       "    </tr>\n",
       "    <tr>\n",
       "      <th>Hora Extra 2017</th>\n",
       "      <td>348.0</td>\n",
       "      <td>0.582915</td>\n",
       "    </tr>\n",
       "    <tr>\n",
       "      <th>Ad. Noturno 2017</th>\n",
       "      <td>348.0</td>\n",
       "      <td>0.582915</td>\n",
       "    </tr>\n",
       "    <tr>\n",
       "      <th>...</th>\n",
       "      <td>...</td>\n",
       "      <td>...</td>\n",
       "    </tr>\n",
       "    <tr>\n",
       "      <th>Ad. Noturno 2016</th>\n",
       "      <td>340.0</td>\n",
       "      <td>0.569514</td>\n",
       "    </tr>\n",
       "    <tr>\n",
       "      <th>Hora Extra 2016</th>\n",
       "      <td>339.0</td>\n",
       "      <td>0.567839</td>\n",
       "    </tr>\n",
       "    <tr>\n",
       "      <th>DISSIDIO 2015</th>\n",
       "      <td>303.0</td>\n",
       "      <td>0.507538</td>\n",
       "    </tr>\n",
       "    <tr>\n",
       "      <th>2015/16 Goal Achievement</th>\n",
       "      <td>283.0</td>\n",
       "      <td>0.474037</td>\n",
       "    </tr>\n",
       "    <tr>\n",
       "      <th>2015/16 Rating</th>\n",
       "      <td>283.0</td>\n",
       "      <td>0.474037</td>\n",
       "    </tr>\n",
       "    <tr>\n",
       "      <th>2016/17 Rating</th>\n",
       "      <td>263.0</td>\n",
       "      <td>0.440536</td>\n",
       "    </tr>\n",
       "    <tr>\n",
       "      <th>2016/17 Goal Achievement</th>\n",
       "      <td>263.0</td>\n",
       "      <td>0.440536</td>\n",
       "    </tr>\n",
       "    <tr>\n",
       "      <th>DISSIDIO 2016</th>\n",
       "      <td>258.0</td>\n",
       "      <td>0.432161</td>\n",
       "    </tr>\n",
       "    <tr>\n",
       "      <th>Absenteísmo 2017</th>\n",
       "      <td>229.0</td>\n",
       "      <td>0.383585</td>\n",
       "    </tr>\n",
       "    <tr>\n",
       "      <th>Absenteísmo 2016</th>\n",
       "      <td>226.0</td>\n",
       "      <td>0.378559</td>\n",
       "    </tr>\n",
       "    <tr>\n",
       "      <th>Educação</th>\n",
       "      <td>1.0</td>\n",
       "      <td>0.001675</td>\n",
       "    </tr>\n",
       "    <tr>\n",
       "      <th>Estado Civil</th>\n",
       "      <td>1.0</td>\n",
       "      <td>0.001675</td>\n",
       "    </tr>\n",
       "    <tr>\n",
       "      <th>Cargo Admissão</th>\n",
       "      <td>0.0</td>\n",
       "      <td>0.000000</td>\n",
       "    </tr>\n",
       "    <tr>\n",
       "      <th>Admissão</th>\n",
       "      <td>0.0</td>\n",
       "      <td>0.000000</td>\n",
       "    </tr>\n",
       "    <tr>\n",
       "      <th>Desligamento</th>\n",
       "      <td>0.0</td>\n",
       "      <td>0.000000</td>\n",
       "    </tr>\n",
       "    <tr>\n",
       "      <th>Desligado?</th>\n",
       "      <td>0.0</td>\n",
       "      <td>0.000000</td>\n",
       "    </tr>\n",
       "    <tr>\n",
       "      <th>Tempo de Casa</th>\n",
       "      <td>0.0</td>\n",
       "      <td>0.000000</td>\n",
       "    </tr>\n",
       "    <tr>\n",
       "      <th>Cod.Cargo</th>\n",
       "      <td>0.0</td>\n",
       "      <td>0.000000</td>\n",
       "    </tr>\n",
       "    <tr>\n",
       "      <th>Cargo</th>\n",
       "      <td>0.0</td>\n",
       "      <td>0.000000</td>\n",
       "    </tr>\n",
       "    <tr>\n",
       "      <th>Cod.Cargo Admissão</th>\n",
       "      <td>0.0</td>\n",
       "      <td>0.000000</td>\n",
       "    </tr>\n",
       "    <tr>\n",
       "      <th>PROMOVIDO</th>\n",
       "      <td>0.0</td>\n",
       "      <td>0.000000</td>\n",
       "    </tr>\n",
       "    <tr>\n",
       "      <th>CC</th>\n",
       "      <td>0.0</td>\n",
       "      <td>0.000000</td>\n",
       "    </tr>\n",
       "    <tr>\n",
       "      <th>Area</th>\n",
       "      <td>0.0</td>\n",
       "      <td>0.000000</td>\n",
       "    </tr>\n",
       "    <tr>\n",
       "      <th>Diretoria</th>\n",
       "      <td>0.0</td>\n",
       "      <td>0.000000</td>\n",
       "    </tr>\n",
       "    <tr>\n",
       "      <th>Idade Atual/ Desligamento</th>\n",
       "      <td>0.0</td>\n",
       "      <td>0.000000</td>\n",
       "    </tr>\n",
       "    <tr>\n",
       "      <th>Idade na Admissão</th>\n",
       "      <td>0.0</td>\n",
       "      <td>0.000000</td>\n",
       "    </tr>\n",
       "    <tr>\n",
       "      <th>Sexo</th>\n",
       "      <td>0.0</td>\n",
       "      <td>0.000000</td>\n",
       "    </tr>\n",
       "    <tr>\n",
       "      <th>Banda</th>\n",
       "      <td>0.0</td>\n",
       "      <td>0.000000</td>\n",
       "    </tr>\n",
       "    <tr>\n",
       "      <th>Nivel</th>\n",
       "      <td>0.0</td>\n",
       "      <td>0.000000</td>\n",
       "    </tr>\n",
       "    <tr>\n",
       "      <th>ADP</th>\n",
       "      <td>0.0</td>\n",
       "      <td>0.000000</td>\n",
       "    </tr>\n",
       "  </tbody>\n",
       "</table>\n",
       "<p>63 rows × 2 columns</p>\n",
       "</div>"
      ],
      "text/plain": [
       "                           null_amount  null_ratio\n",
       "2012/13 Goal Achievement         597.0    1.000000\n",
       "DISSIDIO 2017                    596.0    0.998325\n",
       "AUMENTO 2014                     589.0    0.986600\n",
       "AUMENTO 2012                     589.0    0.986600\n",
       "PROMOÇÃO 2013                    585.0    0.979899\n",
       "PROMOÇÃO 2014                    582.0    0.974874\n",
       "PROMOÇÃO 2012                    581.0    0.973199\n",
       "AUMENTO 2013                     576.0    0.964824\n",
       "AUMENTO 2017                     573.0    0.959799\n",
       "PROMOÇÃO 2016                    572.0    0.958124\n",
       "PROMOÇÃO 2015                    571.0    0.956449\n",
       "AUMENTO 2016                     564.0    0.944724\n",
       "AUMENTO 2015                     562.0    0.941374\n",
       "MERITO 2012                      556.0    0.931323\n",
       "PROMOÇÃO 2017                    555.0    0.929648\n",
       "MERITO 2013                      532.0    0.891122\n",
       "MERITO 2014                      512.0    0.857621\n",
       "MERITO 2016                      500.0    0.837521\n",
       "MERITO 2015                      478.0    0.800670\n",
       "MERITO 2017                      475.0    0.795645\n",
       "DISSIDIO 2012                    470.0    0.787270\n",
       "2012/13 Rating                   463.0    0.775544\n",
       "2013/14 Rating                   442.0    0.740369\n",
       "2013/14 Goal Achievement         442.0    0.740369\n",
       "DISSIDIO 2013                    430.0    0.720268\n",
       "2014/15 Goal Achievement         422.0    0.706868\n",
       "DISSIDIO 2014                    407.0    0.681742\n",
       "2014/15 Rating                   386.0    0.646566\n",
       "Hora Extra 2017                  348.0    0.582915\n",
       "Ad. Noturno 2017                 348.0    0.582915\n",
       "...                                ...         ...\n",
       "Ad. Noturno 2016                 340.0    0.569514\n",
       "Hora Extra 2016                  339.0    0.567839\n",
       "DISSIDIO 2015                    303.0    0.507538\n",
       "2015/16 Goal Achievement         283.0    0.474037\n",
       "2015/16 Rating                   283.0    0.474037\n",
       "2016/17 Rating                   263.0    0.440536\n",
       "2016/17 Goal Achievement         263.0    0.440536\n",
       "DISSIDIO 2016                    258.0    0.432161\n",
       "Absenteísmo 2017                 229.0    0.383585\n",
       "Absenteísmo 2016                 226.0    0.378559\n",
       "Educação                           1.0    0.001675\n",
       "Estado Civil                       1.0    0.001675\n",
       "Cargo Admissão                     0.0    0.000000\n",
       "Admissão                           0.0    0.000000\n",
       "Desligamento                       0.0    0.000000\n",
       "Desligado?                         0.0    0.000000\n",
       "Tempo de Casa                      0.0    0.000000\n",
       "Cod.Cargo                          0.0    0.000000\n",
       "Cargo                              0.0    0.000000\n",
       "Cod.Cargo Admissão                 0.0    0.000000\n",
       "PROMOVIDO                          0.0    0.000000\n",
       "CC                                 0.0    0.000000\n",
       "Area                               0.0    0.000000\n",
       "Diretoria                          0.0    0.000000\n",
       "Idade Atual/ Desligamento          0.0    0.000000\n",
       "Idade na Admissão                  0.0    0.000000\n",
       "Sexo                               0.0    0.000000\n",
       "Banda                              0.0    0.000000\n",
       "Nivel                              0.0    0.000000\n",
       "ADP                                0.0    0.000000\n",
       "\n",
       "[63 rows x 2 columns]"
      ]
     },
     "execution_count": 93,
     "metadata": {},
     "output_type": "execute_result"
    }
   ],
   "source": [
    "#-- pritnando a quantidade de missing values\n",
    "null_count = df.isnull().sum().sort_values(ascending=False)\n",
    "null_percentage = null_count / len(df)\n",
    "pd.DataFrame(data=[null_count, null_percentage],\n",
    "             index=['null_amount', 'null_ratio']).T"
   ]
  },
  {
   "cell_type": "markdown",
   "metadata": {},
   "source": [
    "## Será que eu posso utilizar todo o Dataset?"
   ]
  },
  {
   "cell_type": "code",
   "execution_count": 46,
   "metadata": {},
   "outputs": [
    {
     "data": {
      "text/plain": [
       "'\\n\\n\\n\\n\\n\\n\\n\\n\\n\\n\\n\\n\\n\\n\\n'"
      ]
     },
     "execution_count": 46,
     "metadata": {},
     "output_type": "execute_result"
    }
   ],
   "source": [
    "\"\"\"\n",
    "\n",
    "\n",
    "\n",
    "\n",
    "\n",
    "\n",
    "\n",
    "\n",
    "\n",
    "\n",
    "\n",
    "\n",
    "\n",
    "\n",
    "\"\"\""
   ]
  },
  {
   "cell_type": "code",
   "execution_count": 94,
   "metadata": {},
   "outputs": [
    {
     "data": {
      "text/plain": [
       "Timestamp('2001-06-18 00:00:00')"
      ]
     },
     "execution_count": 94,
     "metadata": {},
     "output_type": "execute_result"
    }
   ],
   "source": [
    "#-- retornando menor data de admissão\n",
    "min(df['Admissão'])"
   ]
  },
  {
   "cell_type": "code",
   "execution_count": 95,
   "metadata": {},
   "outputs": [],
   "source": [
    "#-- filtrando pela data de admissão\n",
    "df_ano = df[df['Admissão'] >= '2011-01-01']"
   ]
  },
  {
   "cell_type": "code",
   "execution_count": 96,
   "metadata": {},
   "outputs": [
    {
     "data": {
      "text/plain": [
       "(439, 63)"
      ]
     },
     "execution_count": 96,
     "metadata": {},
     "output_type": "execute_result"
    }
   ],
   "source": [
    "#-- retornando o tamanho do dataset\n",
    "df_ano.shape"
   ]
  },
  {
   "cell_type": "code",
   "execution_count": 97,
   "metadata": {},
   "outputs": [
    {
     "data": {
      "text/html": [
       "<div>\n",
       "<style scoped>\n",
       "    .dataframe tbody tr th:only-of-type {\n",
       "        vertical-align: middle;\n",
       "    }\n",
       "\n",
       "    .dataframe tbody tr th {\n",
       "        vertical-align: top;\n",
       "    }\n",
       "\n",
       "    .dataframe thead th {\n",
       "        text-align: right;\n",
       "    }\n",
       "</style>\n",
       "<table border=\"1\" class=\"dataframe\">\n",
       "  <thead>\n",
       "    <tr style=\"text-align: right;\">\n",
       "      <th></th>\n",
       "      <th>null_amount</th>\n",
       "      <th>null_ratio</th>\n",
       "    </tr>\n",
       "  </thead>\n",
       "  <tbody>\n",
       "    <tr>\n",
       "      <th>2012/13 Goal Achievement</th>\n",
       "      <td>439.0</td>\n",
       "      <td>1.000000</td>\n",
       "    </tr>\n",
       "    <tr>\n",
       "      <th>DISSIDIO 2017</th>\n",
       "      <td>438.0</td>\n",
       "      <td>0.997722</td>\n",
       "    </tr>\n",
       "    <tr>\n",
       "      <th>PROMOÇÃO 2012</th>\n",
       "      <td>435.0</td>\n",
       "      <td>0.990888</td>\n",
       "    </tr>\n",
       "    <tr>\n",
       "      <th>PROMOÇÃO 2013</th>\n",
       "      <td>434.0</td>\n",
       "      <td>0.988610</td>\n",
       "    </tr>\n",
       "    <tr>\n",
       "      <th>AUMENTO 2012</th>\n",
       "      <td>432.0</td>\n",
       "      <td>0.984055</td>\n",
       "    </tr>\n",
       "    <tr>\n",
       "      <th>AUMENTO 2014</th>\n",
       "      <td>431.0</td>\n",
       "      <td>0.981777</td>\n",
       "    </tr>\n",
       "    <tr>\n",
       "      <th>AUMENTO 2013</th>\n",
       "      <td>430.0</td>\n",
       "      <td>0.979499</td>\n",
       "    </tr>\n",
       "    <tr>\n",
       "      <th>PROMOÇÃO 2014</th>\n",
       "      <td>428.0</td>\n",
       "      <td>0.974943</td>\n",
       "    </tr>\n",
       "    <tr>\n",
       "      <th>MERITO 2012</th>\n",
       "      <td>424.0</td>\n",
       "      <td>0.965831</td>\n",
       "    </tr>\n",
       "    <tr>\n",
       "      <th>AUMENTO 2017</th>\n",
       "      <td>418.0</td>\n",
       "      <td>0.952164</td>\n",
       "    </tr>\n",
       "    <tr>\n",
       "      <th>PROMOÇÃO 2016</th>\n",
       "      <td>417.0</td>\n",
       "      <td>0.949886</td>\n",
       "    </tr>\n",
       "    <tr>\n",
       "      <th>PROMOÇÃO 2015</th>\n",
       "      <td>413.0</td>\n",
       "      <td>0.940774</td>\n",
       "    </tr>\n",
       "    <tr>\n",
       "      <th>AUMENTO 2015</th>\n",
       "      <td>409.0</td>\n",
       "      <td>0.931663</td>\n",
       "    </tr>\n",
       "    <tr>\n",
       "      <th>AUMENTO 2016</th>\n",
       "      <td>408.0</td>\n",
       "      <td>0.929385</td>\n",
       "    </tr>\n",
       "    <tr>\n",
       "      <th>MERITO 2013</th>\n",
       "      <td>403.0</td>\n",
       "      <td>0.917995</td>\n",
       "    </tr>\n",
       "    <tr>\n",
       "      <th>PROMOÇÃO 2017</th>\n",
       "      <td>402.0</td>\n",
       "      <td>0.915718</td>\n",
       "    </tr>\n",
       "    <tr>\n",
       "      <th>DISSIDIO 2012</th>\n",
       "      <td>383.0</td>\n",
       "      <td>0.872437</td>\n",
       "    </tr>\n",
       "    <tr>\n",
       "      <th>MERITO 2014</th>\n",
       "      <td>382.0</td>\n",
       "      <td>0.870159</td>\n",
       "    </tr>\n",
       "    <tr>\n",
       "      <th>2012/13 Rating</th>\n",
       "      <td>359.0</td>\n",
       "      <td>0.817768</td>\n",
       "    </tr>\n",
       "    <tr>\n",
       "      <th>MERITO 2016</th>\n",
       "      <td>355.0</td>\n",
       "      <td>0.808656</td>\n",
       "    </tr>\n",
       "    <tr>\n",
       "      <th>MERITO 2015</th>\n",
       "      <td>353.0</td>\n",
       "      <td>0.804100</td>\n",
       "    </tr>\n",
       "    <tr>\n",
       "      <th>MERITO 2017</th>\n",
       "      <td>339.0</td>\n",
       "      <td>0.772210</td>\n",
       "    </tr>\n",
       "    <tr>\n",
       "      <th>DISSIDIO 2013</th>\n",
       "      <td>328.0</td>\n",
       "      <td>0.747153</td>\n",
       "    </tr>\n",
       "    <tr>\n",
       "      <th>2013/14 Rating</th>\n",
       "      <td>327.0</td>\n",
       "      <td>0.744875</td>\n",
       "    </tr>\n",
       "    <tr>\n",
       "      <th>2013/14 Goal Achievement</th>\n",
       "      <td>327.0</td>\n",
       "      <td>0.744875</td>\n",
       "    </tr>\n",
       "    <tr>\n",
       "      <th>2014/15 Goal Achievement</th>\n",
       "      <td>303.0</td>\n",
       "      <td>0.690205</td>\n",
       "    </tr>\n",
       "    <tr>\n",
       "      <th>Iniciativa Desligamento</th>\n",
       "      <td>302.0</td>\n",
       "      <td>0.687927</td>\n",
       "    </tr>\n",
       "    <tr>\n",
       "      <th>DISSIDIO 2014</th>\n",
       "      <td>294.0</td>\n",
       "      <td>0.669704</td>\n",
       "    </tr>\n",
       "    <tr>\n",
       "      <th>2014/15 Rating</th>\n",
       "      <td>270.0</td>\n",
       "      <td>0.615034</td>\n",
       "    </tr>\n",
       "    <tr>\n",
       "      <th>Hora Extra 2017</th>\n",
       "      <td>210.0</td>\n",
       "      <td>0.478360</td>\n",
       "    </tr>\n",
       "    <tr>\n",
       "      <th>...</th>\n",
       "      <td>...</td>\n",
       "      <td>...</td>\n",
       "    </tr>\n",
       "    <tr>\n",
       "      <th>Ad. Noturno 2016</th>\n",
       "      <td>202.0</td>\n",
       "      <td>0.460137</td>\n",
       "    </tr>\n",
       "    <tr>\n",
       "      <th>Hora Extra 2016</th>\n",
       "      <td>201.0</td>\n",
       "      <td>0.457859</td>\n",
       "    </tr>\n",
       "    <tr>\n",
       "      <th>DISSIDIO 2015</th>\n",
       "      <td>192.0</td>\n",
       "      <td>0.437358</td>\n",
       "    </tr>\n",
       "    <tr>\n",
       "      <th>2015/16 Goal Achievement</th>\n",
       "      <td>171.0</td>\n",
       "      <td>0.389522</td>\n",
       "    </tr>\n",
       "    <tr>\n",
       "      <th>2015/16 Rating</th>\n",
       "      <td>171.0</td>\n",
       "      <td>0.389522</td>\n",
       "    </tr>\n",
       "    <tr>\n",
       "      <th>2016/17 Rating</th>\n",
       "      <td>151.0</td>\n",
       "      <td>0.343964</td>\n",
       "    </tr>\n",
       "    <tr>\n",
       "      <th>2016/17 Goal Achievement</th>\n",
       "      <td>151.0</td>\n",
       "      <td>0.343964</td>\n",
       "    </tr>\n",
       "    <tr>\n",
       "      <th>DISSIDIO 2016</th>\n",
       "      <td>145.0</td>\n",
       "      <td>0.330296</td>\n",
       "    </tr>\n",
       "    <tr>\n",
       "      <th>Absenteísmo 2017</th>\n",
       "      <td>114.0</td>\n",
       "      <td>0.259681</td>\n",
       "    </tr>\n",
       "    <tr>\n",
       "      <th>Absenteísmo 2016</th>\n",
       "      <td>111.0</td>\n",
       "      <td>0.252847</td>\n",
       "    </tr>\n",
       "    <tr>\n",
       "      <th>Educação</th>\n",
       "      <td>1.0</td>\n",
       "      <td>0.002278</td>\n",
       "    </tr>\n",
       "    <tr>\n",
       "      <th>Estado Civil</th>\n",
       "      <td>1.0</td>\n",
       "      <td>0.002278</td>\n",
       "    </tr>\n",
       "    <tr>\n",
       "      <th>Cargo Admissão</th>\n",
       "      <td>0.0</td>\n",
       "      <td>0.000000</td>\n",
       "    </tr>\n",
       "    <tr>\n",
       "      <th>Admissão</th>\n",
       "      <td>0.0</td>\n",
       "      <td>0.000000</td>\n",
       "    </tr>\n",
       "    <tr>\n",
       "      <th>Desligamento</th>\n",
       "      <td>0.0</td>\n",
       "      <td>0.000000</td>\n",
       "    </tr>\n",
       "    <tr>\n",
       "      <th>Desligado?</th>\n",
       "      <td>0.0</td>\n",
       "      <td>0.000000</td>\n",
       "    </tr>\n",
       "    <tr>\n",
       "      <th>Tempo de Casa</th>\n",
       "      <td>0.0</td>\n",
       "      <td>0.000000</td>\n",
       "    </tr>\n",
       "    <tr>\n",
       "      <th>Cod.Cargo</th>\n",
       "      <td>0.0</td>\n",
       "      <td>0.000000</td>\n",
       "    </tr>\n",
       "    <tr>\n",
       "      <th>Cargo</th>\n",
       "      <td>0.0</td>\n",
       "      <td>0.000000</td>\n",
       "    </tr>\n",
       "    <tr>\n",
       "      <th>Cod.Cargo Admissão</th>\n",
       "      <td>0.0</td>\n",
       "      <td>0.000000</td>\n",
       "    </tr>\n",
       "    <tr>\n",
       "      <th>PROMOVIDO</th>\n",
       "      <td>0.0</td>\n",
       "      <td>0.000000</td>\n",
       "    </tr>\n",
       "    <tr>\n",
       "      <th>CC</th>\n",
       "      <td>0.0</td>\n",
       "      <td>0.000000</td>\n",
       "    </tr>\n",
       "    <tr>\n",
       "      <th>Area</th>\n",
       "      <td>0.0</td>\n",
       "      <td>0.000000</td>\n",
       "    </tr>\n",
       "    <tr>\n",
       "      <th>Diretoria</th>\n",
       "      <td>0.0</td>\n",
       "      <td>0.000000</td>\n",
       "    </tr>\n",
       "    <tr>\n",
       "      <th>Idade Atual/ Desligamento</th>\n",
       "      <td>0.0</td>\n",
       "      <td>0.000000</td>\n",
       "    </tr>\n",
       "    <tr>\n",
       "      <th>Idade na Admissão</th>\n",
       "      <td>0.0</td>\n",
       "      <td>0.000000</td>\n",
       "    </tr>\n",
       "    <tr>\n",
       "      <th>Sexo</th>\n",
       "      <td>0.0</td>\n",
       "      <td>0.000000</td>\n",
       "    </tr>\n",
       "    <tr>\n",
       "      <th>Banda</th>\n",
       "      <td>0.0</td>\n",
       "      <td>0.000000</td>\n",
       "    </tr>\n",
       "    <tr>\n",
       "      <th>Nivel</th>\n",
       "      <td>0.0</td>\n",
       "      <td>0.000000</td>\n",
       "    </tr>\n",
       "    <tr>\n",
       "      <th>ADP</th>\n",
       "      <td>0.0</td>\n",
       "      <td>0.000000</td>\n",
       "    </tr>\n",
       "  </tbody>\n",
       "</table>\n",
       "<p>63 rows × 2 columns</p>\n",
       "</div>"
      ],
      "text/plain": [
       "                           null_amount  null_ratio\n",
       "2012/13 Goal Achievement         439.0    1.000000\n",
       "DISSIDIO 2017                    438.0    0.997722\n",
       "PROMOÇÃO 2012                    435.0    0.990888\n",
       "PROMOÇÃO 2013                    434.0    0.988610\n",
       "AUMENTO 2012                     432.0    0.984055\n",
       "AUMENTO 2014                     431.0    0.981777\n",
       "AUMENTO 2013                     430.0    0.979499\n",
       "PROMOÇÃO 2014                    428.0    0.974943\n",
       "MERITO 2012                      424.0    0.965831\n",
       "AUMENTO 2017                     418.0    0.952164\n",
       "PROMOÇÃO 2016                    417.0    0.949886\n",
       "PROMOÇÃO 2015                    413.0    0.940774\n",
       "AUMENTO 2015                     409.0    0.931663\n",
       "AUMENTO 2016                     408.0    0.929385\n",
       "MERITO 2013                      403.0    0.917995\n",
       "PROMOÇÃO 2017                    402.0    0.915718\n",
       "DISSIDIO 2012                    383.0    0.872437\n",
       "MERITO 2014                      382.0    0.870159\n",
       "2012/13 Rating                   359.0    0.817768\n",
       "MERITO 2016                      355.0    0.808656\n",
       "MERITO 2015                      353.0    0.804100\n",
       "MERITO 2017                      339.0    0.772210\n",
       "DISSIDIO 2013                    328.0    0.747153\n",
       "2013/14 Rating                   327.0    0.744875\n",
       "2013/14 Goal Achievement         327.0    0.744875\n",
       "2014/15 Goal Achievement         303.0    0.690205\n",
       "Iniciativa Desligamento          302.0    0.687927\n",
       "DISSIDIO 2014                    294.0    0.669704\n",
       "2014/15 Rating                   270.0    0.615034\n",
       "Hora Extra 2017                  210.0    0.478360\n",
       "...                                ...         ...\n",
       "Ad. Noturno 2016                 202.0    0.460137\n",
       "Hora Extra 2016                  201.0    0.457859\n",
       "DISSIDIO 2015                    192.0    0.437358\n",
       "2015/16 Goal Achievement         171.0    0.389522\n",
       "2015/16 Rating                   171.0    0.389522\n",
       "2016/17 Rating                   151.0    0.343964\n",
       "2016/17 Goal Achievement         151.0    0.343964\n",
       "DISSIDIO 2016                    145.0    0.330296\n",
       "Absenteísmo 2017                 114.0    0.259681\n",
       "Absenteísmo 2016                 111.0    0.252847\n",
       "Educação                           1.0    0.002278\n",
       "Estado Civil                       1.0    0.002278\n",
       "Cargo Admissão                     0.0    0.000000\n",
       "Admissão                           0.0    0.000000\n",
       "Desligamento                       0.0    0.000000\n",
       "Desligado?                         0.0    0.000000\n",
       "Tempo de Casa                      0.0    0.000000\n",
       "Cod.Cargo                          0.0    0.000000\n",
       "Cargo                              0.0    0.000000\n",
       "Cod.Cargo Admissão                 0.0    0.000000\n",
       "PROMOVIDO                          0.0    0.000000\n",
       "CC                                 0.0    0.000000\n",
       "Area                               0.0    0.000000\n",
       "Diretoria                          0.0    0.000000\n",
       "Idade Atual/ Desligamento          0.0    0.000000\n",
       "Idade na Admissão                  0.0    0.000000\n",
       "Sexo                               0.0    0.000000\n",
       "Banda                              0.0    0.000000\n",
       "Nivel                              0.0    0.000000\n",
       "ADP                                0.0    0.000000\n",
       "\n",
       "[63 rows x 2 columns]"
      ]
     },
     "execution_count": 97,
     "metadata": {},
     "output_type": "execute_result"
    }
   ],
   "source": [
    "#-- verificando os missing values do dataset\n",
    "null_count = df_ano.isnull().sum().sort_values(ascending=False)\n",
    "null_percentage = null_count / len(df_ano)\n",
    "pd.DataFrame(data=[null_count, null_percentage],\n",
    "             index=['null_amount', 'null_ratio']).T"
   ]
  },
  {
   "cell_type": "markdown",
   "metadata": {},
   "source": [
    "### Distribuição das Idades"
   ]
  },
  {
   "cell_type": "code",
   "execution_count": 98,
   "metadata": {},
   "outputs": [
    {
     "name": "stderr",
     "output_type": "stream",
     "text": [
      "C:\\Users\\thiago.mauricio\\AppData\\Local\\Continuum\\anaconda3\\envs\\tera-jul2018\\lib\\site-packages\\scipy\\stats\\stats.py:1713: FutureWarning: Using a non-tuple sequence for multidimensional indexing is deprecated; use `arr[tuple(seq)]` instead of `arr[seq]`. In the future this will be interpreted as an array index, `arr[np.array(seq)]`, which will result either in an error or a different result.\n",
      "  return np.add.reduce(sorted[indexer] * weights, axis=axis) / sumval\n"
     ]
    },
    {
     "data": {
      "text/plain": [
       "<matplotlib.axes._subplots.AxesSubplot at 0x12618e10400>"
      ]
     },
     "execution_count": 98,
     "metadata": {},
     "output_type": "execute_result"
    },
    {
     "data": {
      "image/png": "[encoded data removed]",
      "text/plain": [
       "<Figure size 1584x1080 with 1 Axes>"
      ]
     },
     "metadata": {
      "needs_background": "light"
     },
     "output_type": "display_data"
    }
   ],
   "source": [
    "#-- pritando um histograma da idade de admissão dos funcionários\n",
    "sns.distplot(df_ano['Idade na Admissão'])"
   ]
  },
  {
   "cell_type": "markdown",
   "metadata": {},
   "source": [
    "### Hora Extra"
   ]
  },
  {
   "cell_type": "code",
   "execution_count": 99,
   "metadata": {},
   "outputs": [
    {
     "name": "stderr",
     "output_type": "stream",
     "text": [
      "C:\\Users\\thiago.mauricio\\AppData\\Local\\Continuum\\anaconda3\\envs\\tera-jul2018\\lib\\site-packages\\numpy\\core\\_methods.py:28: RuntimeWarning: invalid value encountered in reduce\n",
      "  return umr_maximum(a, axis, None, out, keepdims, initial)\n",
      "C:\\Users\\thiago.mauricio\\AppData\\Local\\Continuum\\anaconda3\\envs\\tera-jul2018\\lib\\site-packages\\numpy\\core\\_methods.py:32: RuntimeWarning: invalid value encountered in reduce\n",
      "  return umr_minimum(a, axis, None, out, keepdims, initial)\n"
     ]
    },
    {
     "ename": "ValueError",
     "evalue": "cannot convert float NaN to integer",
     "output_type": "error",
     "traceback": [
      "\u001b[1;31m---------------------------------------------------------------------------\u001b[0m",
      "\u001b[1;31mValueError\u001b[0m                                Traceback (most recent call last)",
      "\u001b[1;32m<ipython-input-99-1dcaf1f4bcdf>\u001b[0m in \u001b[0;36m<module>\u001b[1;34m\u001b[0m\n\u001b[1;32m----> 1\u001b[1;33m \u001b[0msns\u001b[0m\u001b[1;33m.\u001b[0m\u001b[0mdistplot\u001b[0m\u001b[1;33m(\u001b[0m\u001b[0mdf_ano\u001b[0m\u001b[1;33m[\u001b[0m\u001b[1;34m'Hora Extra 2016'\u001b[0m\u001b[1;33m]\u001b[0m\u001b[1;33m)\u001b[0m\u001b[1;33m\u001b[0m\u001b[1;33m\u001b[0m\u001b[0m\n\u001b[0m",
      "\u001b[1;32m~\\AppData\\Local\\Continuum\\anaconda3\\envs\\tera-jul2018\\lib\\site-packages\\seaborn\\distributions.py\u001b[0m in \u001b[0;36mdistplot\u001b[1;34m(a, bins, hist, kde, rug, fit, hist_kws, kde_kws, rug_kws, fit_kws, color, vertical, norm_hist, axlabel, label, ax)\u001b[0m\n\u001b[0;32m    213\u001b[0m     \u001b[1;32mif\u001b[0m \u001b[0mhist\u001b[0m\u001b[1;33m:\u001b[0m\u001b[1;33m\u001b[0m\u001b[1;33m\u001b[0m\u001b[0m\n\u001b[0;32m    214\u001b[0m         \u001b[1;32mif\u001b[0m \u001b[0mbins\u001b[0m \u001b[1;32mis\u001b[0m \u001b[1;32mNone\u001b[0m\u001b[1;33m:\u001b[0m\u001b[1;33m\u001b[0m\u001b[1;33m\u001b[0m\u001b[0m\n\u001b[1;32m--> 215\u001b[1;33m             \u001b[0mbins\u001b[0m \u001b[1;33m=\u001b[0m \u001b[0mmin\u001b[0m\u001b[1;33m(\u001b[0m\u001b[0m_freedman_diaconis_bins\u001b[0m\u001b[1;33m(\u001b[0m\u001b[0ma\u001b[0m\u001b[1;33m)\u001b[0m\u001b[1;33m,\u001b[0m \u001b[1;36m50\u001b[0m\u001b[1;33m)\u001b[0m\u001b[1;33m\u001b[0m\u001b[1;33m\u001b[0m\u001b[0m\n\u001b[0m\u001b[0;32m    216\u001b[0m         \u001b[0mhist_kws\u001b[0m\u001b[1;33m.\u001b[0m\u001b[0msetdefault\u001b[0m\u001b[1;33m(\u001b[0m\u001b[1;34m\"alpha\"\u001b[0m\u001b[1;33m,\u001b[0m \u001b[1;36m0.4\u001b[0m\u001b[1;33m)\u001b[0m\u001b[1;33m\u001b[0m\u001b[1;33m\u001b[0m\u001b[0m\n\u001b[0;32m    217\u001b[0m         \u001b[1;32mif\u001b[0m \u001b[0mLooseVersion\u001b[0m\u001b[1;33m(\u001b[0m\u001b[0mmpl\u001b[0m\u001b[1;33m.\u001b[0m\u001b[0m__version__\u001b[0m\u001b[1;33m)\u001b[0m \u001b[1;33m<\u001b[0m \u001b[0mLooseVersion\u001b[0m\u001b[1;33m(\u001b[0m\u001b[1;34m\"2.2\"\u001b[0m\u001b[1;33m)\u001b[0m\u001b[1;33m:\u001b[0m\u001b[1;33m\u001b[0m\u001b[1;33m\u001b[0m\u001b[0m\n",
      "\u001b[1;32m~\\AppData\\Local\\Continuum\\anaconda3\\envs\\tera-jul2018\\lib\\site-packages\\seaborn\\distributions.py\u001b[0m in \u001b[0;36m_freedman_diaconis_bins\u001b[1;34m(a)\u001b[0m\n\u001b[0;32m     37\u001b[0m         \u001b[1;32mreturn\u001b[0m \u001b[0mint\u001b[0m\u001b[1;33m(\u001b[0m\u001b[0mnp\u001b[0m\u001b[1;33m.\u001b[0m\u001b[0msqrt\u001b[0m\u001b[1;33m(\u001b[0m\u001b[0ma\u001b[0m\u001b[1;33m.\u001b[0m\u001b[0msize\u001b[0m\u001b[1;33m)\u001b[0m\u001b[1;33m)\u001b[0m\u001b[1;33m\u001b[0m\u001b[1;33m\u001b[0m\u001b[0m\n\u001b[0;32m     38\u001b[0m     \u001b[1;32melse\u001b[0m\u001b[1;33m:\u001b[0m\u001b[1;33m\u001b[0m\u001b[1;33m\u001b[0m\u001b[0m\n\u001b[1;32m---> 39\u001b[1;33m         \u001b[1;32mreturn\u001b[0m \u001b[0mint\u001b[0m\u001b[1;33m(\u001b[0m\u001b[0mnp\u001b[0m\u001b[1;33m.\u001b[0m\u001b[0mceil\u001b[0m\u001b[1;33m(\u001b[0m\u001b[1;33m(\u001b[0m\u001b[0ma\u001b[0m\u001b[1;33m.\u001b[0m\u001b[0mmax\u001b[0m\u001b[1;33m(\u001b[0m\u001b[1;33m)\u001b[0m \u001b[1;33m-\u001b[0m \u001b[0ma\u001b[0m\u001b[1;33m.\u001b[0m\u001b[0mmin\u001b[0m\u001b[1;33m(\u001b[0m\u001b[1;33m)\u001b[0m\u001b[1;33m)\u001b[0m \u001b[1;33m/\u001b[0m \u001b[0mh\u001b[0m\u001b[1;33m)\u001b[0m\u001b[1;33m)\u001b[0m\u001b[1;33m\u001b[0m\u001b[1;33m\u001b[0m\u001b[0m\n\u001b[0m\u001b[0;32m     40\u001b[0m \u001b[1;33m\u001b[0m\u001b[0m\n\u001b[0;32m     41\u001b[0m \u001b[1;33m\u001b[0m\u001b[0m\n",
      "\u001b[1;31mValueError\u001b[0m: cannot convert float NaN to integer"
     ]
    },
    {
     "data": {
      "image/png": "[encoded data removed]",
      "text/plain": [
       "<Figure size 1584x1080 with 1 Axes>"
      ]
     },
     "metadata": {
      "needs_background": "light"
     },
     "output_type": "display_data"
    }
   ],
   "source": [
    "#-- plotando o gráfico das horas extras\n",
    "sns.distplot(df_ano['Hora Extra 2016'])"
   ]
  },
  {
   "cell_type": "code",
   "execution_count": 100,
   "metadata": {},
   "outputs": [
    {
     "name": "stderr",
     "output_type": "stream",
     "text": [
      "C:\\Users\\thiago.mauricio\\AppData\\Local\\Continuum\\anaconda3\\envs\\tera-jul2018\\lib\\site-packages\\ipykernel_launcher.py:1: SettingWithCopyWarning: \n",
      "A value is trying to be set on a copy of a slice from a DataFrame.\n",
      "Try using .loc[row_indexer,col_indexer] = value instead\n",
      "\n",
      "See the caveats in the documentation: http://pandas.pydata.org/pandas-docs/stable/indexing.html#indexing-view-versus-copy\n",
      "  \"\"\"Entry point for launching an IPython kernel.\n"
     ]
    }
   ],
   "source": [
    "#-- preenchendo os missing values com flags\n",
    "df_ano['Hora Extra 2016'] = df_ano['Hora Extra 2016'].fillna(-100)"
   ]
  },
  {
   "cell_type": "code",
   "execution_count": 101,
   "metadata": {},
   "outputs": [
    {
     "data": {
      "text/plain": [
       "<matplotlib.axes._subplots.AxesSubplot at 0x12618da27f0>"
      ]
     },
     "execution_count": 101,
     "metadata": {},
     "output_type": "execute_result"
    },
    {
     "data": {
      "image/png": "[encoded data removed]",
      "text/plain": [
       "<Figure size 1584x1080 with 1 Axes>"
      ]
     },
     "metadata": {
      "needs_background": "light"
     },
     "output_type": "display_data"
    }
   ],
   "source": [
    "#-- plotando o hostograma das horas extras\n",
    "sns.distplot(df_ano['Hora Extra 2016'])"
   ]
  },
  {
   "cell_type": "markdown",
   "metadata": {},
   "source": [
    "### Qual a idade de desligamento?"
   ]
  },
  {
   "cell_type": "code",
   "execution_count": 81,
   "metadata": {},
   "outputs": [
    {
     "name": "stderr",
     "output_type": "stream",
     "text": [
      "C:\\Users\\thiago.mauricio\\AppData\\Local\\Continuum\\anaconda3\\envs\\tera-jul2018\\lib\\site-packages\\scipy\\stats\\stats.py:1713: FutureWarning: Using a non-tuple sequence for multidimensional indexing is deprecated; use `arr[tuple(seq)]` instead of `arr[seq]`. In the future this will be interpreted as an array index, `arr[np.array(seq)]`, which will result either in an error or a different result.\n",
      "  return np.add.reduce(sorted[indexer] * weights, axis=axis) / sumval\n"
     ]
    },
    {
     "data": {
      "text/plain": [
       "<matplotlib.axes._subplots.AxesSubplot at 0x12618da1080>"
      ]
     },
     "execution_count": 81,
     "metadata": {},
     "output_type": "execute_result"
    },
    {
     "data": {
      "image/png": "[encoded data removed]",
      "text/plain": [
       "<Figure size 1584x1080 with 1 Axes>"
      ]
     },
     "metadata": {
      "needs_background": "light"
     },
     "output_type": "display_data"
    }
   ],
   "source": [
    "#-- plotando o histograma da idade de desligamento\n",
    "sns.distplot(df_ano['Idade Atual/ Desligamento'])"
   ]
  },
  {
   "cell_type": "markdown",
   "metadata": {},
   "source": [
    "### Qual outros gráficos vocês fariam?"
   ]
  },
  {
   "cell_type": "code",
   "execution_count": null,
   "metadata": {},
   "outputs": [],
   "source": []
  },
  {
   "cell_type": "code",
   "execution_count": null,
   "metadata": {},
   "outputs": [],
   "source": []
  },
  {
   "cell_type": "code",
   "execution_count": null,
   "metadata": {},
   "outputs": [],
   "source": []
  },
  {
   "cell_type": "code",
   "execution_count": null,
   "metadata": {},
   "outputs": [],
   "source": []
  },
  {
   "cell_type": "code",
   "execution_count": null,
   "metadata": {},
   "outputs": [],
   "source": []
  },
  {
   "cell_type": "code",
   "execution_count": null,
   "metadata": {},
   "outputs": [],
   "source": []
  },
  {
   "cell_type": "code",
   "execution_count": null,
   "metadata": {},
   "outputs": [],
   "source": []
  },
  {
   "cell_type": "code",
   "execution_count": null,
   "metadata": {},
   "outputs": [],
   "source": []
  },
  {
   "cell_type": "code",
   "execution_count": null,
   "metadata": {},
   "outputs": [],
   "source": []
  },
  {
   "cell_type": "code",
   "execution_count": 102,
   "metadata": {},
   "outputs": [
    {
     "data": {
      "text/plain": [
       "<matplotlib.axes._subplots.AxesSubplot at 0x12623b78128>"
      ]
     },
     "execution_count": 102,
     "metadata": {},
     "output_type": "execute_result"
    },
    {
     "data": {
      "image/png": "[encoded data removed]",
      "text/plain": [
       "<Figure size 1584x1080 with 1 Axes>"
      ]
     },
     "metadata": {
      "needs_background": "light"
     },
     "output_type": "display_data"
    }
   ],
   "source": [
    "#-- plotando boxplot da promoção pelo tempo de casa\n",
    "sns.boxplot(x=df_ano['PROMOVIDO'], y=df_ano['Tempo de Casa'])"
   ]
  },
  {
   "cell_type": "markdown",
   "metadata": {},
   "source": [
    "## Preparando os dados"
   ]
  },
  {
   "cell_type": "code",
   "execution_count": 103,
   "metadata": {},
   "outputs": [],
   "source": [
    "#-- separando a variável do dataset de análise\n",
    "X = df_ano.drop(columns=['PROMOVIDO'])\n",
    "y = df_ano['PROMOVIDO']"
   ]
  },
  {
   "cell_type": "code",
   "execution_count": 104,
   "metadata": {},
   "outputs": [],
   "source": [
    "#-- separando os dados para treino e teste\n",
    "X_train, X_test, y_train, y_test = train_test_split(X, y, test_size=0.3, \n",
    "                                                    random_state=0)"
   ]
  },
  {
   "cell_type": "markdown",
   "metadata": {},
   "source": [
    "## Aplicando a Regressão Logística"
   ]
  },
  {
   "cell_type": "code",
   "execution_count": 105,
   "metadata": {},
   "outputs": [],
   "source": [
    "#-- guardando o algoritmo de regressão logística\n",
    "logreg = LogisticRegression()"
   ]
  },
  {
   "cell_type": "code",
   "execution_count": 106,
   "metadata": {},
   "outputs": [
    {
     "name": "stderr",
     "output_type": "stream",
     "text": [
      "C:\\Users\\thiago.mauricio\\AppData\\Local\\Continuum\\anaconda3\\envs\\tera-jul2018\\lib\\site-packages\\sklearn\\linear_model\\logistic.py:433: FutureWarning: Default solver will be changed to 'lbfgs' in 0.22. Specify a solver to silence this warning.\n",
      "  FutureWarning)\n"
     ]
    },
    {
     "ename": "ValueError",
     "evalue": "could not convert string to float: 'Y'",
     "output_type": "error",
     "traceback": [
      "\u001b[1;31m---------------------------------------------------------------------------\u001b[0m",
      "\u001b[1;31mValueError\u001b[0m                                Traceback (most recent call last)",
      "\u001b[1;32m<ipython-input-106-2cee12b21f1d>\u001b[0m in \u001b[0;36m<module>\u001b[1;34m\u001b[0m\n\u001b[1;32m----> 1\u001b[1;33m \u001b[0mlogreg\u001b[0m\u001b[1;33m.\u001b[0m\u001b[0mfit\u001b[0m\u001b[1;33m(\u001b[0m\u001b[0mX_train\u001b[0m\u001b[1;33m,\u001b[0m \u001b[0my_train\u001b[0m\u001b[1;33m)\u001b[0m\u001b[1;33m\u001b[0m\u001b[1;33m\u001b[0m\u001b[0m\n\u001b[0m\u001b[0;32m      2\u001b[0m \u001b[0my_pred\u001b[0m \u001b[1;33m=\u001b[0m \u001b[0mlogreg\u001b[0m\u001b[1;33m.\u001b[0m\u001b[0mpredict\u001b[0m\u001b[1;33m(\u001b[0m\u001b[0mX_test\u001b[0m\u001b[1;33m)\u001b[0m\u001b[1;33m\u001b[0m\u001b[1;33m\u001b[0m\u001b[0m\n",
      "\u001b[1;32m~\\AppData\\Local\\Continuum\\anaconda3\\envs\\tera-jul2018\\lib\\site-packages\\sklearn\\linear_model\\logistic.py\u001b[0m in \u001b[0;36mfit\u001b[1;34m(self, X, y, sample_weight)\u001b[0m\n\u001b[0;32m   1283\u001b[0m \u001b[1;33m\u001b[0m\u001b[0m\n\u001b[0;32m   1284\u001b[0m         X, y = check_X_y(X, y, accept_sparse='csr', dtype=_dtype, order=\"C\",\n\u001b[1;32m-> 1285\u001b[1;33m                          accept_large_sparse=solver != 'liblinear')\n\u001b[0m\u001b[0;32m   1286\u001b[0m         \u001b[0mcheck_classification_targets\u001b[0m\u001b[1;33m(\u001b[0m\u001b[0my\u001b[0m\u001b[1;33m)\u001b[0m\u001b[1;33m\u001b[0m\u001b[1;33m\u001b[0m\u001b[0m\n\u001b[0;32m   1287\u001b[0m         \u001b[0mself\u001b[0m\u001b[1;33m.\u001b[0m\u001b[0mclasses_\u001b[0m \u001b[1;33m=\u001b[0m \u001b[0mnp\u001b[0m\u001b[1;33m.\u001b[0m\u001b[0munique\u001b[0m\u001b[1;33m(\u001b[0m\u001b[0my\u001b[0m\u001b[1;33m)\u001b[0m\u001b[1;33m\u001b[0m\u001b[1;33m\u001b[0m\u001b[0m\n",
      "\u001b[1;32m~\\AppData\\Local\\Continuum\\anaconda3\\envs\\tera-jul2018\\lib\\site-packages\\sklearn\\utils\\validation.py\u001b[0m in \u001b[0;36mcheck_X_y\u001b[1;34m(X, y, accept_sparse, accept_large_sparse, dtype, order, copy, force_all_finite, ensure_2d, allow_nd, multi_output, ensure_min_samples, ensure_min_features, y_numeric, warn_on_dtype, estimator)\u001b[0m\n\u001b[0;32m    754\u001b[0m                     \u001b[0mensure_min_features\u001b[0m\u001b[1;33m=\u001b[0m\u001b[0mensure_min_features\u001b[0m\u001b[1;33m,\u001b[0m\u001b[1;33m\u001b[0m\u001b[1;33m\u001b[0m\u001b[0m\n\u001b[0;32m    755\u001b[0m                     \u001b[0mwarn_on_dtype\u001b[0m\u001b[1;33m=\u001b[0m\u001b[0mwarn_on_dtype\u001b[0m\u001b[1;33m,\u001b[0m\u001b[1;33m\u001b[0m\u001b[1;33m\u001b[0m\u001b[0m\n\u001b[1;32m--> 756\u001b[1;33m                     estimator=estimator)\n\u001b[0m\u001b[0;32m    757\u001b[0m     \u001b[1;32mif\u001b[0m \u001b[0mmulti_output\u001b[0m\u001b[1;33m:\u001b[0m\u001b[1;33m\u001b[0m\u001b[1;33m\u001b[0m\u001b[0m\n\u001b[0;32m    758\u001b[0m         y = check_array(y, 'csr', force_all_finite=True, ensure_2d=False,\n",
      "\u001b[1;32m~\\AppData\\Local\\Continuum\\anaconda3\\envs\\tera-jul2018\\lib\\site-packages\\sklearn\\utils\\validation.py\u001b[0m in \u001b[0;36mcheck_array\u001b[1;34m(array, accept_sparse, accept_large_sparse, dtype, order, copy, force_all_finite, ensure_2d, allow_nd, ensure_min_samples, ensure_min_features, warn_on_dtype, estimator)\u001b[0m\n\u001b[0;32m    525\u001b[0m             \u001b[1;32mtry\u001b[0m\u001b[1;33m:\u001b[0m\u001b[1;33m\u001b[0m\u001b[1;33m\u001b[0m\u001b[0m\n\u001b[0;32m    526\u001b[0m                 \u001b[0mwarnings\u001b[0m\u001b[1;33m.\u001b[0m\u001b[0msimplefilter\u001b[0m\u001b[1;33m(\u001b[0m\u001b[1;34m'error'\u001b[0m\u001b[1;33m,\u001b[0m \u001b[0mComplexWarning\u001b[0m\u001b[1;33m)\u001b[0m\u001b[1;33m\u001b[0m\u001b[1;33m\u001b[0m\u001b[0m\n\u001b[1;32m--> 527\u001b[1;33m                 \u001b[0marray\u001b[0m \u001b[1;33m=\u001b[0m \u001b[0mnp\u001b[0m\u001b[1;33m.\u001b[0m\u001b[0masarray\u001b[0m\u001b[1;33m(\u001b[0m\u001b[0marray\u001b[0m\u001b[1;33m,\u001b[0m \u001b[0mdtype\u001b[0m\u001b[1;33m=\u001b[0m\u001b[0mdtype\u001b[0m\u001b[1;33m,\u001b[0m \u001b[0morder\u001b[0m\u001b[1;33m=\u001b[0m\u001b[0morder\u001b[0m\u001b[1;33m)\u001b[0m\u001b[1;33m\u001b[0m\u001b[1;33m\u001b[0m\u001b[0m\n\u001b[0m\u001b[0;32m    528\u001b[0m             \u001b[1;32mexcept\u001b[0m \u001b[0mComplexWarning\u001b[0m\u001b[1;33m:\u001b[0m\u001b[1;33m\u001b[0m\u001b[1;33m\u001b[0m\u001b[0m\n\u001b[0;32m    529\u001b[0m                 raise ValueError(\"Complex data not supported\\n\"\n",
      "\u001b[1;32m~\\AppData\\Local\\Continuum\\anaconda3\\envs\\tera-jul2018\\lib\\site-packages\\numpy\\core\\numeric.py\u001b[0m in \u001b[0;36masarray\u001b[1;34m(a, dtype, order)\u001b[0m\n\u001b[0;32m    499\u001b[0m \u001b[1;33m\u001b[0m\u001b[0m\n\u001b[0;32m    500\u001b[0m     \"\"\"\n\u001b[1;32m--> 501\u001b[1;33m     \u001b[1;32mreturn\u001b[0m \u001b[0marray\u001b[0m\u001b[1;33m(\u001b[0m\u001b[0ma\u001b[0m\u001b[1;33m,\u001b[0m \u001b[0mdtype\u001b[0m\u001b[1;33m,\u001b[0m \u001b[0mcopy\u001b[0m\u001b[1;33m=\u001b[0m\u001b[1;32mFalse\u001b[0m\u001b[1;33m,\u001b[0m \u001b[0morder\u001b[0m\u001b[1;33m=\u001b[0m\u001b[0morder\u001b[0m\u001b[1;33m)\u001b[0m\u001b[1;33m\u001b[0m\u001b[1;33m\u001b[0m\u001b[0m\n\u001b[0m\u001b[0;32m    502\u001b[0m \u001b[1;33m\u001b[0m\u001b[0m\n\u001b[0;32m    503\u001b[0m \u001b[1;33m\u001b[0m\u001b[0m\n",
      "\u001b[1;31mValueError\u001b[0m: could not convert string to float: 'Y'"
     ]
    }
   ],
   "source": [
    "#-- aplicando o algoritmo \n",
    "logreg.fit(X_train, y_train)\n",
    "#-- predizendo as respostas\n",
    "y_pred = logreg.predict(X_test)"
   ]
  },
  {
   "cell_type": "code",
   "execution_count": 109,
   "metadata": {},
   "outputs": [
    {
     "data": {
      "text/html": [
       "<div>\n",
       "<style scoped>\n",
       "    .dataframe tbody tr th:only-of-type {\n",
       "        vertical-align: middle;\n",
       "    }\n",
       "\n",
       "    .dataframe tbody tr th {\n",
       "        vertical-align: top;\n",
       "    }\n",
       "\n",
       "    .dataframe thead th {\n",
       "        text-align: right;\n",
       "    }\n",
       "</style>\n",
       "<table border=\"1\" class=\"dataframe\">\n",
       "  <thead>\n",
       "    <tr style=\"text-align: right;\">\n",
       "      <th></th>\n",
       "      <th>123</th>\n",
       "      <th>124</th>\n",
       "      <th>125</th>\n",
       "      <th>126</th>\n",
       "      <th>127</th>\n",
       "      <th>128</th>\n",
       "      <th>129</th>\n",
       "      <th>130</th>\n",
       "      <th>131</th>\n",
       "      <th>132</th>\n",
       "      <th>...</th>\n",
       "      <th>558</th>\n",
       "      <th>559</th>\n",
       "      <th>560</th>\n",
       "      <th>561</th>\n",
       "      <th>562</th>\n",
       "      <th>563</th>\n",
       "      <th>564</th>\n",
       "      <th>565</th>\n",
       "      <th>566</th>\n",
       "      <th>567</th>\n",
       "    </tr>\n",
       "  </thead>\n",
       "  <tbody>\n",
       "    <tr>\n",
       "      <th>ADP</th>\n",
       "      <td>153.000000</td>\n",
       "      <td>154.000000</td>\n",
       "      <td>155.000000</td>\n",
       "      <td>156.000000</td>\n",
       "      <td>157.000000</td>\n",
       "      <td>158.000000</td>\n",
       "      <td>159.000000</td>\n",
       "      <td>160.000000</td>\n",
       "      <td>161.000000</td>\n",
       "      <td>162.000000</td>\n",
       "      <td>...</td>\n",
       "      <td>588.000000</td>\n",
       "      <td>589.000000</td>\n",
       "      <td>590.000000</td>\n",
       "      <td>591.000000</td>\n",
       "      <td>592.000000</td>\n",
       "      <td>593.000000</td>\n",
       "      <td>594.000000</td>\n",
       "      <td>595.000000</td>\n",
       "      <td>596.000000</td>\n",
       "      <td>597.000000</td>\n",
       "    </tr>\n",
       "    <tr>\n",
       "      <th>Tempo de Casa</th>\n",
       "      <td>7.997260</td>\n",
       "      <td>7.756164</td>\n",
       "      <td>6.175342</td>\n",
       "      <td>0.452055</td>\n",
       "      <td>7.671233</td>\n",
       "      <td>7.665753</td>\n",
       "      <td>7.665753</td>\n",
       "      <td>1.649315</td>\n",
       "      <td>7.589041</td>\n",
       "      <td>0.243836</td>\n",
       "      <td>...</td>\n",
       "      <td>1.649315</td>\n",
       "      <td>1.619178</td>\n",
       "      <td>1.619178</td>\n",
       "      <td>1.619178</td>\n",
       "      <td>1.610959</td>\n",
       "      <td>1.572603</td>\n",
       "      <td>1.553425</td>\n",
       "      <td>1.534247</td>\n",
       "      <td>1.416438</td>\n",
       "      <td>1.416438</td>\n",
       "    </tr>\n",
       "    <tr>\n",
       "      <th>Cod.Cargo</th>\n",
       "      <td>955.000000</td>\n",
       "      <td>825.000000</td>\n",
       "      <td>681.000000</td>\n",
       "      <td>791.000000</td>\n",
       "      <td>773.000000</td>\n",
       "      <td>742.000000</td>\n",
       "      <td>641.000000</td>\n",
       "      <td>641.000000</td>\n",
       "      <td>851.000000</td>\n",
       "      <td>792.000000</td>\n",
       "      <td>...</td>\n",
       "      <td>1073.000000</td>\n",
       "      <td>1081.000000</td>\n",
       "      <td>650.000000</td>\n",
       "      <td>834.000000</td>\n",
       "      <td>1082.000000</td>\n",
       "      <td>1037.000000</td>\n",
       "      <td>949.000000</td>\n",
       "      <td>1083.000000</td>\n",
       "      <td>1076.000000</td>\n",
       "      <td>1084.000000</td>\n",
       "    </tr>\n",
       "    <tr>\n",
       "      <th>Cod.Cargo Admissão</th>\n",
       "      <td>743.000000</td>\n",
       "      <td>783.000000</td>\n",
       "      <td>681.000000</td>\n",
       "      <td>791.000000</td>\n",
       "      <td>773.000000</td>\n",
       "      <td>742.000000</td>\n",
       "      <td>641.000000</td>\n",
       "      <td>641.000000</td>\n",
       "      <td>641.000000</td>\n",
       "      <td>792.000000</td>\n",
       "      <td>...</td>\n",
       "      <td>1073.000000</td>\n",
       "      <td>1081.000000</td>\n",
       "      <td>650.000000</td>\n",
       "      <td>834.000000</td>\n",
       "      <td>1082.000000</td>\n",
       "      <td>1037.000000</td>\n",
       "      <td>949.000000</td>\n",
       "      <td>1083.000000</td>\n",
       "      <td>1076.000000</td>\n",
       "      <td>1084.000000</td>\n",
       "    </tr>\n",
       "    <tr>\n",
       "      <th>CC</th>\n",
       "      <td>1100.000000</td>\n",
       "      <td>1016.000000</td>\n",
       "      <td>1120.000000</td>\n",
       "      <td>1100.000000</td>\n",
       "      <td>1040.000000</td>\n",
       "      <td>1300.000000</td>\n",
       "      <td>1270.000000</td>\n",
       "      <td>1250.000000</td>\n",
       "      <td>1290.000000</td>\n",
       "      <td>1010.000000</td>\n",
       "      <td>...</td>\n",
       "      <td>1120.000000</td>\n",
       "      <td>1250.000000</td>\n",
       "      <td>1030.000000</td>\n",
       "      <td>1032.000000</td>\n",
       "      <td>1120.000000</td>\n",
       "      <td>1100.000000</td>\n",
       "      <td>1010.000000</td>\n",
       "      <td>1030.000000</td>\n",
       "      <td>1003.000000</td>\n",
       "      <td>1100.000000</td>\n",
       "    </tr>\n",
       "    <tr>\n",
       "      <th>Idade Atual/ Desligamento</th>\n",
       "      <td>30.000000</td>\n",
       "      <td>38.000000</td>\n",
       "      <td>47.901370</td>\n",
       "      <td>31.402740</td>\n",
       "      <td>48.000000</td>\n",
       "      <td>42.000000</td>\n",
       "      <td>40.000000</td>\n",
       "      <td>55.947945</td>\n",
       "      <td>46.000000</td>\n",
       "      <td>23.504110</td>\n",
       "      <td>...</td>\n",
       "      <td>38.000000</td>\n",
       "      <td>56.000000</td>\n",
       "      <td>19.000000</td>\n",
       "      <td>21.000000</td>\n",
       "      <td>33.000000</td>\n",
       "      <td>51.000000</td>\n",
       "      <td>37.000000</td>\n",
       "      <td>42.000000</td>\n",
       "      <td>25.000000</td>\n",
       "      <td>44.000000</td>\n",
       "    </tr>\n",
       "    <tr>\n",
       "      <th>Idade na Admissão</th>\n",
       "      <td>24.178082</td>\n",
       "      <td>32.249315</td>\n",
       "      <td>41.726027</td>\n",
       "      <td>30.950685</td>\n",
       "      <td>42.534247</td>\n",
       "      <td>36.534247</td>\n",
       "      <td>34.326027</td>\n",
       "      <td>54.298630</td>\n",
       "      <td>40.389041</td>\n",
       "      <td>23.260274</td>\n",
       "      <td>...</td>\n",
       "      <td>38.397260</td>\n",
       "      <td>56.298630</td>\n",
       "      <td>18.942466</td>\n",
       "      <td>21.336986</td>\n",
       "      <td>32.895890</td>\n",
       "      <td>50.819178</td>\n",
       "      <td>37.443836</td>\n",
       "      <td>42.427397</td>\n",
       "      <td>25.446575</td>\n",
       "      <td>43.967123</td>\n",
       "    </tr>\n",
       "    <tr>\n",
       "      <th>Banda</th>\n",
       "      <td>400.000000</td>\n",
       "      <td>300.000000</td>\n",
       "      <td>700.000000</td>\n",
       "      <td>700.000000</td>\n",
       "      <td>700.000000</td>\n",
       "      <td>300.000000</td>\n",
       "      <td>200.000000</td>\n",
       "      <td>200.000000</td>\n",
       "      <td>300.000000</td>\n",
       "      <td>100.000000</td>\n",
       "      <td>...</td>\n",
       "      <td>600.000000</td>\n",
       "      <td>300.000000</td>\n",
       "      <td>100.000000</td>\n",
       "      <td>100.000000</td>\n",
       "      <td>600.000000</td>\n",
       "      <td>650.000000</td>\n",
       "      <td>300.000000</td>\n",
       "      <td>500.000000</td>\n",
       "      <td>100.000000</td>\n",
       "      <td>500.000000</td>\n",
       "    </tr>\n",
       "    <tr>\n",
       "      <th>Hora Extra 2016</th>\n",
       "      <td>-100.000000</td>\n",
       "      <td>90.566667</td>\n",
       "      <td>-100.000000</td>\n",
       "      <td>-100.000000</td>\n",
       "      <td>-100.000000</td>\n",
       "      <td>43.336667</td>\n",
       "      <td>-100.000000</td>\n",
       "      <td>-100.000000</td>\n",
       "      <td>73.866667</td>\n",
       "      <td>-100.000000</td>\n",
       "      <td>...</td>\n",
       "      <td>-100.000000</td>\n",
       "      <td>-100.000000</td>\n",
       "      <td>-100.000000</td>\n",
       "      <td>-100.000000</td>\n",
       "      <td>-100.000000</td>\n",
       "      <td>-100.000000</td>\n",
       "      <td>-100.000000</td>\n",
       "      <td>-100.000000</td>\n",
       "      <td>-100.000000</td>\n",
       "      <td>-100.000000</td>\n",
       "    </tr>\n",
       "    <tr>\n",
       "      <th>Hora Negativa 2016</th>\n",
       "      <td>NaN</td>\n",
       "      <td>8.500000</td>\n",
       "      <td>NaN</td>\n",
       "      <td>NaN</td>\n",
       "      <td>NaN</td>\n",
       "      <td>0.000000</td>\n",
       "      <td>NaN</td>\n",
       "      <td>NaN</td>\n",
       "      <td>0.683333</td>\n",
       "      <td>NaN</td>\n",
       "      <td>...</td>\n",
       "      <td>NaN</td>\n",
       "      <td>NaN</td>\n",
       "      <td>NaN</td>\n",
       "      <td>NaN</td>\n",
       "      <td>NaN</td>\n",
       "      <td>NaN</td>\n",
       "      <td>NaN</td>\n",
       "      <td>NaN</td>\n",
       "      <td>NaN</td>\n",
       "      <td>NaN</td>\n",
       "    </tr>\n",
       "    <tr>\n",
       "      <th>Ad. Noturno 2016</th>\n",
       "      <td>NaN</td>\n",
       "      <td>16.250000</td>\n",
       "      <td>NaN</td>\n",
       "      <td>NaN</td>\n",
       "      <td>NaN</td>\n",
       "      <td>2.166667</td>\n",
       "      <td>NaN</td>\n",
       "      <td>NaN</td>\n",
       "      <td>0.000000</td>\n",
       "      <td>NaN</td>\n",
       "      <td>...</td>\n",
       "      <td>NaN</td>\n",
       "      <td>NaN</td>\n",
       "      <td>NaN</td>\n",
       "      <td>NaN</td>\n",
       "      <td>NaN</td>\n",
       "      <td>NaN</td>\n",
       "      <td>NaN</td>\n",
       "      <td>NaN</td>\n",
       "      <td>NaN</td>\n",
       "      <td>NaN</td>\n",
       "    </tr>\n",
       "    <tr>\n",
       "      <th>Absenteísmo 2016</th>\n",
       "      <td>0.000000</td>\n",
       "      <td>0.000000</td>\n",
       "      <td>0.000000</td>\n",
       "      <td>NaN</td>\n",
       "      <td>0.000000</td>\n",
       "      <td>0.000000</td>\n",
       "      <td>0.000000</td>\n",
       "      <td>NaN</td>\n",
       "      <td>19.000000</td>\n",
       "      <td>NaN</td>\n",
       "      <td>...</td>\n",
       "      <td>NaN</td>\n",
       "      <td>NaN</td>\n",
       "      <td>NaN</td>\n",
       "      <td>NaN</td>\n",
       "      <td>NaN</td>\n",
       "      <td>NaN</td>\n",
       "      <td>NaN</td>\n",
       "      <td>NaN</td>\n",
       "      <td>NaN</td>\n",
       "      <td>NaN</td>\n",
       "    </tr>\n",
       "    <tr>\n",
       "      <th>Hora Extra 2017</th>\n",
       "      <td>NaN</td>\n",
       "      <td>48.933333</td>\n",
       "      <td>NaN</td>\n",
       "      <td>NaN</td>\n",
       "      <td>NaN</td>\n",
       "      <td>128.383333</td>\n",
       "      <td>NaN</td>\n",
       "      <td>NaN</td>\n",
       "      <td>13.300000</td>\n",
       "      <td>NaN</td>\n",
       "      <td>...</td>\n",
       "      <td>NaN</td>\n",
       "      <td>1.416667</td>\n",
       "      <td>2.116667</td>\n",
       "      <td>1.000000</td>\n",
       "      <td>NaN</td>\n",
       "      <td>NaN</td>\n",
       "      <td>6.383333</td>\n",
       "      <td>NaN</td>\n",
       "      <td>NaN</td>\n",
       "      <td>NaN</td>\n",
       "    </tr>\n",
       "    <tr>\n",
       "      <th>Hora Negativa 2017</th>\n",
       "      <td>NaN</td>\n",
       "      <td>0.000000</td>\n",
       "      <td>NaN</td>\n",
       "      <td>NaN</td>\n",
       "      <td>NaN</td>\n",
       "      <td>0.000000</td>\n",
       "      <td>NaN</td>\n",
       "      <td>NaN</td>\n",
       "      <td>0.550000</td>\n",
       "      <td>NaN</td>\n",
       "      <td>...</td>\n",
       "      <td>NaN</td>\n",
       "      <td>0.000000</td>\n",
       "      <td>0.000000</td>\n",
       "      <td>0.000000</td>\n",
       "      <td>NaN</td>\n",
       "      <td>NaN</td>\n",
       "      <td>0.816667</td>\n",
       "      <td>NaN</td>\n",
       "      <td>NaN</td>\n",
       "      <td>NaN</td>\n",
       "    </tr>\n",
       "    <tr>\n",
       "      <th>Ad. Noturno 2017</th>\n",
       "      <td>NaN</td>\n",
       "      <td>17.050000</td>\n",
       "      <td>NaN</td>\n",
       "      <td>NaN</td>\n",
       "      <td>NaN</td>\n",
       "      <td>0.000000</td>\n",
       "      <td>NaN</td>\n",
       "      <td>NaN</td>\n",
       "      <td>0.416667</td>\n",
       "      <td>NaN</td>\n",
       "      <td>...</td>\n",
       "      <td>NaN</td>\n",
       "      <td>0.000000</td>\n",
       "      <td>0.000000</td>\n",
       "      <td>0.000000</td>\n",
       "      <td>NaN</td>\n",
       "      <td>NaN</td>\n",
       "      <td>0.000000</td>\n",
       "      <td>NaN</td>\n",
       "      <td>NaN</td>\n",
       "      <td>NaN</td>\n",
       "    </tr>\n",
       "    <tr>\n",
       "      <th>Absenteísmo 2017</th>\n",
       "      <td>0.000000</td>\n",
       "      <td>0.000000</td>\n",
       "      <td>0.000000</td>\n",
       "      <td>NaN</td>\n",
       "      <td>0.000000</td>\n",
       "      <td>0.000000</td>\n",
       "      <td>0.000000</td>\n",
       "      <td>NaN</td>\n",
       "      <td>0.000000</td>\n",
       "      <td>NaN</td>\n",
       "      <td>...</td>\n",
       "      <td>0.000000</td>\n",
       "      <td>0.000000</td>\n",
       "      <td>0.000000</td>\n",
       "      <td>0.000000</td>\n",
       "      <td>0.000000</td>\n",
       "      <td>0.000000</td>\n",
       "      <td>0.000000</td>\n",
       "      <td>0.000000</td>\n",
       "      <td>0.000000</td>\n",
       "      <td>0.000000</td>\n",
       "    </tr>\n",
       "    <tr>\n",
       "      <th>2012/13 Goal Achievement</th>\n",
       "      <td>NaN</td>\n",
       "      <td>NaN</td>\n",
       "      <td>NaN</td>\n",
       "      <td>NaN</td>\n",
       "      <td>NaN</td>\n",
       "      <td>NaN</td>\n",
       "      <td>NaN</td>\n",
       "      <td>NaN</td>\n",
       "      <td>NaN</td>\n",
       "      <td>NaN</td>\n",
       "      <td>...</td>\n",
       "      <td>NaN</td>\n",
       "      <td>NaN</td>\n",
       "      <td>NaN</td>\n",
       "      <td>NaN</td>\n",
       "      <td>NaN</td>\n",
       "      <td>NaN</td>\n",
       "      <td>NaN</td>\n",
       "      <td>NaN</td>\n",
       "      <td>NaN</td>\n",
       "      <td>NaN</td>\n",
       "    </tr>\n",
       "    <tr>\n",
       "      <th>2013/14 Goal Achievement</th>\n",
       "      <td>93.500000</td>\n",
       "      <td>95.000000</td>\n",
       "      <td>88.000000</td>\n",
       "      <td>NaN</td>\n",
       "      <td>0.000000</td>\n",
       "      <td>89.000000</td>\n",
       "      <td>99.900000</td>\n",
       "      <td>NaN</td>\n",
       "      <td>93.800000</td>\n",
       "      <td>NaN</td>\n",
       "      <td>...</td>\n",
       "      <td>NaN</td>\n",
       "      <td>NaN</td>\n",
       "      <td>NaN</td>\n",
       "      <td>NaN</td>\n",
       "      <td>NaN</td>\n",
       "      <td>NaN</td>\n",
       "      <td>NaN</td>\n",
       "      <td>NaN</td>\n",
       "      <td>NaN</td>\n",
       "      <td>NaN</td>\n",
       "    </tr>\n",
       "    <tr>\n",
       "      <th>2014/15 Goal Achievement</th>\n",
       "      <td>115.000000</td>\n",
       "      <td>100.300000</td>\n",
       "      <td>94.900000</td>\n",
       "      <td>NaN</td>\n",
       "      <td>NaN</td>\n",
       "      <td>100.000000</td>\n",
       "      <td>125.000000</td>\n",
       "      <td>NaN</td>\n",
       "      <td>100.000000</td>\n",
       "      <td>NaN</td>\n",
       "      <td>...</td>\n",
       "      <td>NaN</td>\n",
       "      <td>NaN</td>\n",
       "      <td>NaN</td>\n",
       "      <td>NaN</td>\n",
       "      <td>NaN</td>\n",
       "      <td>NaN</td>\n",
       "      <td>NaN</td>\n",
       "      <td>NaN</td>\n",
       "      <td>NaN</td>\n",
       "      <td>NaN</td>\n",
       "    </tr>\n",
       "    <tr>\n",
       "      <th>2015/16 Goal Achievement</th>\n",
       "      <td>90.900000</td>\n",
       "      <td>100.000000</td>\n",
       "      <td>105.300000</td>\n",
       "      <td>NaN</td>\n",
       "      <td>109.700000</td>\n",
       "      <td>93.800000</td>\n",
       "      <td>108.000000</td>\n",
       "      <td>NaN</td>\n",
       "      <td>91.300000</td>\n",
       "      <td>NaN</td>\n",
       "      <td>...</td>\n",
       "      <td>NaN</td>\n",
       "      <td>NaN</td>\n",
       "      <td>NaN</td>\n",
       "      <td>NaN</td>\n",
       "      <td>NaN</td>\n",
       "      <td>NaN</td>\n",
       "      <td>NaN</td>\n",
       "      <td>NaN</td>\n",
       "      <td>NaN</td>\n",
       "      <td>NaN</td>\n",
       "    </tr>\n",
       "    <tr>\n",
       "      <th>2016/17 Goal Achievement</th>\n",
       "      <td>108.300000</td>\n",
       "      <td>102.300000</td>\n",
       "      <td>111.500000</td>\n",
       "      <td>NaN</td>\n",
       "      <td>114.600000</td>\n",
       "      <td>99.500000</td>\n",
       "      <td>108.800000</td>\n",
       "      <td>NaN</td>\n",
       "      <td>101.300000</td>\n",
       "      <td>NaN</td>\n",
       "      <td>...</td>\n",
       "      <td>NaN</td>\n",
       "      <td>NaN</td>\n",
       "      <td>NaN</td>\n",
       "      <td>NaN</td>\n",
       "      <td>NaN</td>\n",
       "      <td>NaN</td>\n",
       "      <td>NaN</td>\n",
       "      <td>NaN</td>\n",
       "      <td>NaN</td>\n",
       "      <td>NaN</td>\n",
       "    </tr>\n",
       "    <tr>\n",
       "      <th>PROMOVIDO</th>\n",
       "      <td>1.000000</td>\n",
       "      <td>1.000000</td>\n",
       "      <td>0.000000</td>\n",
       "      <td>0.000000</td>\n",
       "      <td>0.000000</td>\n",
       "      <td>0.000000</td>\n",
       "      <td>0.000000</td>\n",
       "      <td>0.000000</td>\n",
       "      <td>1.000000</td>\n",
       "      <td>0.000000</td>\n",
       "      <td>...</td>\n",
       "      <td>0.000000</td>\n",
       "      <td>0.000000</td>\n",
       "      <td>0.000000</td>\n",
       "      <td>0.000000</td>\n",
       "      <td>0.000000</td>\n",
       "      <td>0.000000</td>\n",
       "      <td>0.000000</td>\n",
       "      <td>0.000000</td>\n",
       "      <td>0.000000</td>\n",
       "      <td>0.000000</td>\n",
       "    </tr>\n",
       "  </tbody>\n",
       "</table>\n",
       "<p>22 rows × 439 columns</p>\n",
       "</div>"
      ],
      "text/plain": [
       "                                   123          124          125          126  \\\n",
       "ADP                         153.000000   154.000000   155.000000   156.000000   \n",
       "Tempo de Casa                 7.997260     7.756164     6.175342     0.452055   \n",
       "Cod.Cargo                   955.000000   825.000000   681.000000   791.000000   \n",
       "Cod.Cargo Admissão          743.000000   783.000000   681.000000   791.000000   \n",
       "CC                         1100.000000  1016.000000  1120.000000  1100.000000   \n",
       "Idade Atual/ Desligamento    30.000000    38.000000    47.901370    31.402740   \n",
       "Idade na Admissão            24.178082    32.249315    41.726027    30.950685   \n",
       "Banda                       400.000000   300.000000   700.000000   700.000000   \n",
       "Hora Extra 2016            -100.000000    90.566667  -100.000000  -100.000000   \n",
       "Hora Negativa 2016                 NaN     8.500000          NaN          NaN   \n",
       "Ad. Noturno 2016                   NaN    16.250000          NaN          NaN   \n",
       "Absenteísmo 2016              0.000000     0.000000     0.000000          NaN   \n",
       "Hora Extra 2017                    NaN    48.933333          NaN          NaN   \n",
       "Hora Negativa 2017                 NaN     0.000000          NaN          NaN   \n",
       "Ad. Noturno 2017                   NaN    17.050000          NaN          NaN   \n",
       "Absenteísmo 2017              0.000000     0.000000     0.000000          NaN   \n",
       "2012/13 Goal Achievement           NaN          NaN          NaN          NaN   \n",
       "2013/14 Goal Achievement     93.500000    95.000000    88.000000          NaN   \n",
       "2014/15 Goal Achievement    115.000000   100.300000    94.900000          NaN   \n",
       "2015/16 Goal Achievement     90.900000   100.000000   105.300000          NaN   \n",
       "2016/17 Goal Achievement    108.300000   102.300000   111.500000          NaN   \n",
       "PROMOVIDO                     1.000000     1.000000     0.000000     0.000000   \n",
       "\n",
       "                                   127          128          129          130  \\\n",
       "ADP                         157.000000   158.000000   159.000000   160.000000   \n",
       "Tempo de Casa                 7.671233     7.665753     7.665753     1.649315   \n",
       "Cod.Cargo                   773.000000   742.000000   641.000000   641.000000   \n",
       "Cod.Cargo Admissão          773.000000   742.000000   641.000000   641.000000   \n",
       "CC                         1040.000000  1300.000000  1270.000000  1250.000000   \n",
       "Idade Atual/ Desligamento    48.000000    42.000000    40.000000    55.947945   \n",
       "Idade na Admissão            42.534247    36.534247    34.326027    54.298630   \n",
       "Banda                       700.000000   300.000000   200.000000   200.000000   \n",
       "Hora Extra 2016            -100.000000    43.336667  -100.000000  -100.000000   \n",
       "Hora Negativa 2016                 NaN     0.000000          NaN          NaN   \n",
       "Ad. Noturno 2016                   NaN     2.166667          NaN          NaN   \n",
       "Absenteísmo 2016              0.000000     0.000000     0.000000          NaN   \n",
       "Hora Extra 2017                    NaN   128.383333          NaN          NaN   \n",
       "Hora Negativa 2017                 NaN     0.000000          NaN          NaN   \n",
       "Ad. Noturno 2017                   NaN     0.000000          NaN          NaN   \n",
       "Absenteísmo 2017              0.000000     0.000000     0.000000          NaN   \n",
       "2012/13 Goal Achievement           NaN          NaN          NaN          NaN   \n",
       "2013/14 Goal Achievement      0.000000    89.000000    99.900000          NaN   \n",
       "2014/15 Goal Achievement           NaN   100.000000   125.000000          NaN   \n",
       "2015/16 Goal Achievement    109.700000    93.800000   108.000000          NaN   \n",
       "2016/17 Goal Achievement    114.600000    99.500000   108.800000          NaN   \n",
       "PROMOVIDO                     0.000000     0.000000     0.000000     0.000000   \n",
       "\n",
       "                                   131          132  ...          558  \\\n",
       "ADP                         161.000000   162.000000  ...   588.000000   \n",
       "Tempo de Casa                 7.589041     0.243836  ...     1.649315   \n",
       "Cod.Cargo                   851.000000   792.000000  ...  1073.000000   \n",
       "Cod.Cargo Admissão          641.000000   792.000000  ...  1073.000000   \n",
       "CC                         1290.000000  1010.000000  ...  1120.000000   \n",
       "Idade Atual/ Desligamento    46.000000    23.504110  ...    38.000000   \n",
       "Idade na Admissão            40.389041    23.260274  ...    38.397260   \n",
       "Banda                       300.000000   100.000000  ...   600.000000   \n",
       "Hora Extra 2016              73.866667  -100.000000  ...  -100.000000   \n",
       "Hora Negativa 2016            0.683333          NaN  ...          NaN   \n",
       "Ad. Noturno 2016              0.000000          NaN  ...          NaN   \n",
       "Absenteísmo 2016             19.000000          NaN  ...          NaN   \n",
       "Hora Extra 2017              13.300000          NaN  ...          NaN   \n",
       "Hora Negativa 2017            0.550000          NaN  ...          NaN   \n",
       "Ad. Noturno 2017              0.416667          NaN  ...          NaN   \n",
       "Absenteísmo 2017              0.000000          NaN  ...     0.000000   \n",
       "2012/13 Goal Achievement           NaN          NaN  ...          NaN   \n",
       "2013/14 Goal Achievement     93.800000          NaN  ...          NaN   \n",
       "2014/15 Goal Achievement    100.000000          NaN  ...          NaN   \n",
       "2015/16 Goal Achievement     91.300000          NaN  ...          NaN   \n",
       "2016/17 Goal Achievement    101.300000          NaN  ...          NaN   \n",
       "PROMOVIDO                     1.000000     0.000000  ...     0.000000   \n",
       "\n",
       "                                   559          560          561          562  \\\n",
       "ADP                         589.000000   590.000000   591.000000   592.000000   \n",
       "Tempo de Casa                 1.619178     1.619178     1.619178     1.610959   \n",
       "Cod.Cargo                  1081.000000   650.000000   834.000000  1082.000000   \n",
       "Cod.Cargo Admissão         1081.000000   650.000000   834.000000  1082.000000   \n",
       "CC                         1250.000000  1030.000000  1032.000000  1120.000000   \n",
       "Idade Atual/ Desligamento    56.000000    19.000000    21.000000    33.000000   \n",
       "Idade na Admissão            56.298630    18.942466    21.336986    32.895890   \n",
       "Banda                       300.000000   100.000000   100.000000   600.000000   \n",
       "Hora Extra 2016            -100.000000  -100.000000  -100.000000  -100.000000   \n",
       "Hora Negativa 2016                 NaN          NaN          NaN          NaN   \n",
       "Ad. Noturno 2016                   NaN          NaN          NaN          NaN   \n",
       "Absenteísmo 2016                   NaN          NaN          NaN          NaN   \n",
       "Hora Extra 2017               1.416667     2.116667     1.000000          NaN   \n",
       "Hora Negativa 2017            0.000000     0.000000     0.000000          NaN   \n",
       "Ad. Noturno 2017              0.000000     0.000000     0.000000          NaN   \n",
       "Absenteísmo 2017              0.000000     0.000000     0.000000     0.000000   \n",
       "2012/13 Goal Achievement           NaN          NaN          NaN          NaN   \n",
       "2013/14 Goal Achievement           NaN          NaN          NaN          NaN   \n",
       "2014/15 Goal Achievement           NaN          NaN          NaN          NaN   \n",
       "2015/16 Goal Achievement           NaN          NaN          NaN          NaN   \n",
       "2016/17 Goal Achievement           NaN          NaN          NaN          NaN   \n",
       "PROMOVIDO                     0.000000     0.000000     0.000000     0.000000   \n",
       "\n",
       "                                   563          564          565          566  \\\n",
       "ADP                         593.000000   594.000000   595.000000   596.000000   \n",
       "Tempo de Casa                 1.572603     1.553425     1.534247     1.416438   \n",
       "Cod.Cargo                  1037.000000   949.000000  1083.000000  1076.000000   \n",
       "Cod.Cargo Admissão         1037.000000   949.000000  1083.000000  1076.000000   \n",
       "CC                         1100.000000  1010.000000  1030.000000  1003.000000   \n",
       "Idade Atual/ Desligamento    51.000000    37.000000    42.000000    25.000000   \n",
       "Idade na Admissão            50.819178    37.443836    42.427397    25.446575   \n",
       "Banda                       650.000000   300.000000   500.000000   100.000000   \n",
       "Hora Extra 2016            -100.000000  -100.000000  -100.000000  -100.000000   \n",
       "Hora Negativa 2016                 NaN          NaN          NaN          NaN   \n",
       "Ad. Noturno 2016                   NaN          NaN          NaN          NaN   \n",
       "Absenteísmo 2016                   NaN          NaN          NaN          NaN   \n",
       "Hora Extra 2017                    NaN     6.383333          NaN          NaN   \n",
       "Hora Negativa 2017                 NaN     0.816667          NaN          NaN   \n",
       "Ad. Noturno 2017                   NaN     0.000000          NaN          NaN   \n",
       "Absenteísmo 2017              0.000000     0.000000     0.000000     0.000000   \n",
       "2012/13 Goal Achievement           NaN          NaN          NaN          NaN   \n",
       "2013/14 Goal Achievement           NaN          NaN          NaN          NaN   \n",
       "2014/15 Goal Achievement           NaN          NaN          NaN          NaN   \n",
       "2015/16 Goal Achievement           NaN          NaN          NaN          NaN   \n",
       "2016/17 Goal Achievement           NaN          NaN          NaN          NaN   \n",
       "PROMOVIDO                     0.000000     0.000000     0.000000     0.000000   \n",
       "\n",
       "                                   567  \n",
       "ADP                         597.000000  \n",
       "Tempo de Casa                 1.416438  \n",
       "Cod.Cargo                  1084.000000  \n",
       "Cod.Cargo Admissão         1084.000000  \n",
       "CC                         1100.000000  \n",
       "Idade Atual/ Desligamento    44.000000  \n",
       "Idade na Admissão            43.967123  \n",
       "Banda                       500.000000  \n",
       "Hora Extra 2016            -100.000000  \n",
       "Hora Negativa 2016                 NaN  \n",
       "Ad. Noturno 2016                   NaN  \n",
       "Absenteísmo 2016                   NaN  \n",
       "Hora Extra 2017                    NaN  \n",
       "Hora Negativa 2017                 NaN  \n",
       "Ad. Noturno 2017                   NaN  \n",
       "Absenteísmo 2017              0.000000  \n",
       "2012/13 Goal Achievement           NaN  \n",
       "2013/14 Goal Achievement           NaN  \n",
       "2014/15 Goal Achievement           NaN  \n",
       "2015/16 Goal Achievement           NaN  \n",
       "2016/17 Goal Achievement           NaN  \n",
       "PROMOVIDO                     0.000000  \n",
       "\n",
       "[22 rows x 439 columns]"
      ]
     },
     "execution_count": 109,
     "metadata": {},
     "output_type": "execute_result"
    }
   ],
   "source": [
    "#-- selecionadndo apenas as variáveis númericas\n",
    "numerics = ['int16', 'int32', 'int64', 'float16', 'float32', 'float64']\n",
    "df_ano.select_dtypes(include=numerics).T"
   ]
  },
  {
   "cell_type": "code",
   "execution_count": 188,
   "metadata": {},
   "outputs": [],
   "source": [
    "#-- criando um dataset novo\n",
    "df_ano_numeric = df_ano.select_dtypes(include=numerics).copy()"
   ]
  },
  {
   "cell_type": "code",
   "execution_count": 189,
   "metadata": {},
   "outputs": [],
   "source": [
    "#-- selecionando as colunas desse novo dataset\n",
    "df_ano_numeric = df_ano_numeric.drop(columns=['ADP', 'Cod.Cargo', 'Cod.Cargo Admissão', 'CC', 'Hora Extra 2016', 'Hora Negativa 2016', 'Ad. Noturno 2016', 'Absenteísmo 2016', 'Hora Extra 2017', 'Hora Negativa 2017', 'Ad. Noturno 2017', 'Absenteísmo 2017', 'Banda', '2012/13 Goal Achievement'], axis=1)"
   ]
  },
  {
   "cell_type": "code",
   "execution_count": 190,
   "metadata": {},
   "outputs": [
    {
     "data": {
      "text/html": [
       "<div>\n",
       "<style scoped>\n",
       "    .dataframe tbody tr th:only-of-type {\n",
       "        vertical-align: middle;\n",
       "    }\n",
       "\n",
       "    .dataframe tbody tr th {\n",
       "        vertical-align: top;\n",
       "    }\n",
       "\n",
       "    .dataframe thead th {\n",
       "        text-align: right;\n",
       "    }\n",
       "</style>\n",
       "<table border=\"1\" class=\"dataframe\">\n",
       "  <thead>\n",
       "    <tr style=\"text-align: right;\">\n",
       "      <th></th>\n",
       "      <th>123</th>\n",
       "      <th>124</th>\n",
       "      <th>125</th>\n",
       "      <th>126</th>\n",
       "      <th>127</th>\n",
       "    </tr>\n",
       "  </thead>\n",
       "  <tbody>\n",
       "    <tr>\n",
       "      <th>Tempo de Casa</th>\n",
       "      <td>7.997260</td>\n",
       "      <td>7.756164</td>\n",
       "      <td>6.175342</td>\n",
       "      <td>0.452055</td>\n",
       "      <td>7.671233</td>\n",
       "    </tr>\n",
       "    <tr>\n",
       "      <th>Idade Atual/ Desligamento</th>\n",
       "      <td>30.000000</td>\n",
       "      <td>38.000000</td>\n",
       "      <td>47.901370</td>\n",
       "      <td>31.402740</td>\n",
       "      <td>48.000000</td>\n",
       "    </tr>\n",
       "    <tr>\n",
       "      <th>Idade na Admissão</th>\n",
       "      <td>24.178082</td>\n",
       "      <td>32.249315</td>\n",
       "      <td>41.726027</td>\n",
       "      <td>30.950685</td>\n",
       "      <td>42.534247</td>\n",
       "    </tr>\n",
       "    <tr>\n",
       "      <th>2013/14 Goal Achievement</th>\n",
       "      <td>93.500000</td>\n",
       "      <td>95.000000</td>\n",
       "      <td>88.000000</td>\n",
       "      <td>NaN</td>\n",
       "      <td>0.000000</td>\n",
       "    </tr>\n",
       "    <tr>\n",
       "      <th>2014/15 Goal Achievement</th>\n",
       "      <td>115.000000</td>\n",
       "      <td>100.300000</td>\n",
       "      <td>94.900000</td>\n",
       "      <td>NaN</td>\n",
       "      <td>NaN</td>\n",
       "    </tr>\n",
       "    <tr>\n",
       "      <th>2015/16 Goal Achievement</th>\n",
       "      <td>90.900000</td>\n",
       "      <td>100.000000</td>\n",
       "      <td>105.300000</td>\n",
       "      <td>NaN</td>\n",
       "      <td>109.700000</td>\n",
       "    </tr>\n",
       "    <tr>\n",
       "      <th>2016/17 Goal Achievement</th>\n",
       "      <td>108.300000</td>\n",
       "      <td>102.300000</td>\n",
       "      <td>111.500000</td>\n",
       "      <td>NaN</td>\n",
       "      <td>114.600000</td>\n",
       "    </tr>\n",
       "    <tr>\n",
       "      <th>PROMOVIDO</th>\n",
       "      <td>1.000000</td>\n",
       "      <td>1.000000</td>\n",
       "      <td>0.000000</td>\n",
       "      <td>0.000000</td>\n",
       "      <td>0.000000</td>\n",
       "    </tr>\n",
       "  </tbody>\n",
       "</table>\n",
       "</div>"
      ],
      "text/plain": [
       "                                  123         124         125        126  \\\n",
       "Tempo de Casa                7.997260    7.756164    6.175342   0.452055   \n",
       "Idade Atual/ Desligamento   30.000000   38.000000   47.901370  31.402740   \n",
       "Idade na Admissão           24.178082   32.249315   41.726027  30.950685   \n",
       "2013/14 Goal Achievement    93.500000   95.000000   88.000000        NaN   \n",
       "2014/15 Goal Achievement   115.000000  100.300000   94.900000        NaN   \n",
       "2015/16 Goal Achievement    90.900000  100.000000  105.300000        NaN   \n",
       "2016/17 Goal Achievement   108.300000  102.300000  111.500000        NaN   \n",
       "PROMOVIDO                    1.000000    1.000000    0.000000   0.000000   \n",
       "\n",
       "                                  127  \n",
       "Tempo de Casa                7.671233  \n",
       "Idade Atual/ Desligamento   48.000000  \n",
       "Idade na Admissão           42.534247  \n",
       "2013/14 Goal Achievement     0.000000  \n",
       "2014/15 Goal Achievement          NaN  \n",
       "2015/16 Goal Achievement   109.700000  \n",
       "2016/17 Goal Achievement   114.600000  \n",
       "PROMOVIDO                    0.000000  "
      ]
     },
     "execution_count": 190,
     "metadata": {},
     "output_type": "execute_result"
    }
   ],
   "source": [
    "#-- pritando o head do novo dataset\n",
    "df_ano_numeric.head().T"
   ]
  },
  {
   "cell_type": "code",
   "execution_count": 191,
   "metadata": {},
   "outputs": [],
   "source": [
    "#-- dropando as linhas com nas\n",
    "df_ano_numeric.dropna(inplace=True)"
   ]
  },
  {
   "cell_type": "code",
   "execution_count": 192,
   "metadata": {},
   "outputs": [
    {
     "data": {
      "text/plain": [
       "Tempo de Casa                0\n",
       "Idade Atual/ Desligamento    0\n",
       "Idade na Admissão            0\n",
       "2013/14 Goal Achievement     0\n",
       "2014/15 Goal Achievement     0\n",
       "2015/16 Goal Achievement     0\n",
       "2016/17 Goal Achievement     0\n",
       "PROMOVIDO                    0\n",
       "dtype: int64"
      ]
     },
     "execution_count": 192,
     "metadata": {},
     "output_type": "execute_result"
    }
   ],
   "source": [
    "#-- verificando se ainda existem missing values\n",
    "df_ano_numeric.isnull().sum()"
   ]
  },
  {
   "cell_type": "code",
   "execution_count": 193,
   "metadata": {},
   "outputs": [
    {
     "data": {
      "text/plain": [
       "(77, 8)"
      ]
     },
     "execution_count": 193,
     "metadata": {},
     "output_type": "execute_result"
    }
   ],
   "source": [
    "#-- printando as dimensões\n",
    "df_ano_numeric.shape"
   ]
  },
  {
   "cell_type": "code",
   "execution_count": 194,
   "metadata": {},
   "outputs": [
    {
     "name": "stdout",
     "output_type": "stream",
     "text": [
      "<class 'pandas.core.frame.DataFrame'>\n",
      "Int64Index: 77 entries, 123 to 272\n",
      "Data columns (total 8 columns):\n",
      "Tempo de Casa                77 non-null float64\n",
      "Idade Atual/ Desligamento    77 non-null float64\n",
      "Idade na Admissão            77 non-null float64\n",
      "2013/14 Goal Achievement     77 non-null float64\n",
      "2014/15 Goal Achievement     77 non-null float64\n",
      "2015/16 Goal Achievement     77 non-null float64\n",
      "2016/17 Goal Achievement     77 non-null float64\n",
      "PROMOVIDO                    77 non-null int64\n",
      "dtypes: float64(7), int64(1)\n",
      "memory usage: 5.4 KB\n"
     ]
    }
   ],
   "source": [
    "#-- verificando os tipos das variáveis\n",
    "df_ano_numeric.info()"
   ]
  },
  {
   "cell_type": "code",
   "execution_count": 195,
   "metadata": {},
   "outputs": [],
   "source": [
    "#-- criando os datasets para análise\n",
    "X = df_ano_numeric.drop(columns=['PROMOVIDO'])\n",
    "y = df_ano_numeric['PROMOVIDO']"
   ]
  },
  {
   "cell_type": "code",
   "execution_count": 196,
   "metadata": {},
   "outputs": [],
   "source": [
    "#-- separando a parte de treino e teste\n",
    "X_train, X_test, y_train, y_test = train_test_split(X, y, test_size=0.3, \n",
    "                                                    random_state=0)"
   ]
  },
  {
   "cell_type": "code",
   "execution_count": 197,
   "metadata": {},
   "outputs": [
    {
     "name": "stderr",
     "output_type": "stream",
     "text": [
      "C:\\Users\\thiago.mauricio\\AppData\\Local\\Continuum\\anaconda3\\envs\\tera-jul2018\\lib\\site-packages\\sklearn\\linear_model\\logistic.py:433: FutureWarning: Default solver will be changed to 'lbfgs' in 0.22. Specify a solver to silence this warning.\n",
      "  FutureWarning)\n"
     ]
    }
   ],
   "source": [
    "#-- apllicando o algoritmo\n",
    "logreg.fit(X_train, y_train)\n",
    "#-- calculando a predição\n",
    "y_pred = logreg.predict(X_test)"
   ]
  },
  {
   "cell_type": "code",
   "execution_count": 156,
   "metadata": {},
   "outputs": [
    {
     "data": {
      "text/plain": [
       "array([1, 1, 0, 0, 1], dtype=int64)"
      ]
     },
     "execution_count": 156,
     "metadata": {},
     "output_type": "execute_result"
    }
   ],
   "source": [
    "#-- printando os cinco primeiros valores da predição\n",
    "y_pred[:5]"
   ]
  },
  {
   "cell_type": "code",
   "execution_count": 198,
   "metadata": {},
   "outputs": [
    {
     "name": "stdout",
     "output_type": "stream",
     "text": [
      "accuracy (test): 41.7%\n"
     ]
    }
   ],
   "source": [
    "#-- pritando a acuracia do teste\n",
    "accuracy_test = accuracy_score(y_test, y_pred)\n",
    "print(f'accuracy (test): {accuracy_test*100:.1f}%')"
   ]
  },
  {
   "cell_type": "markdown",
   "metadata": {},
   "source": [
    "## Avaliação do modelo"
   ]
  },
  {
   "cell_type": "markdown",
   "metadata": {},
   "source": [
    "### Matriz de Confusão, Precisão, Recall"
   ]
  },
  {
   "cell_type": "code",
   "execution_count": 199,
   "metadata": {},
   "outputs": [
    {
     "data": {
      "text/plain": [
       "array([[ 5, 11],\n",
       "       [ 3,  5]], dtype=int64)"
      ]
     },
     "execution_count": 199,
     "metadata": {},
     "output_type": "execute_result"
    }
   ],
   "source": [
    "#-- printando a matriz de confusão\n",
    "confusion_matrix(y_test, y_pred)"
   ]
  },
  {
   "cell_type": "code",
   "execution_count": 200,
   "metadata": {},
   "outputs": [
    {
     "data": {
      "image/png": "[encoded data removed]",
      "text/plain": [
       "<Figure size 576x576 with 2 Axes>"
      ]
     },
     "metadata": {
      "needs_background": "light"
     },
     "output_type": "display_data"
    }
   ],
   "source": [
    "plot_confusion_matrix(y_test, y_pred)"
   ]
  },
  {
   "cell_type": "code",
   "execution_count": 201,
   "metadata": {},
   "outputs": [
    {
     "name": "stdout",
     "output_type": "stream",
     "text": [
      "              precision    recall  f1-score   support\n",
      "\n",
      "           0       0.62      0.31      0.42        16\n",
      "           1       0.31      0.62      0.42         8\n",
      "\n",
      "   micro avg       0.42      0.42      0.42        24\n",
      "   macro avg       0.47      0.47      0.42        24\n",
      "weighted avg       0.52      0.42      0.42        24\n",
      "\n"
     ]
    }
   ],
   "source": [
    "print(classification_report(y_test, y_pred))"
   ]
  },
  {
   "cell_type": "markdown",
   "metadata": {},
   "source": [
    "definições\n",
    "https://scikit-learn.org/stable/modules/generated/sklearn.metrics.precision_recall_fscore_support.html"
   ]
  },
  {
   "cell_type": "markdown",
   "metadata": {},
   "source": [
    "### Utilizando as probabilidades"
   ]
  },
  {
   "cell_type": "code",
   "execution_count": 202,
   "metadata": {},
   "outputs": [
    {
     "data": {
      "text/plain": [
       "array([[0.04705144, 0.95294856],\n",
       "       [0.23123333, 0.76876667],\n",
       "       [0.65095861, 0.34904139],\n",
       "       [0.86500711, 0.13499289],\n",
       "       [0.20416226, 0.79583774]])"
      ]
     },
     "execution_count": 202,
     "metadata": {},
     "output_type": "execute_result"
    }
   ],
   "source": [
    "#-- calculando a probabilidade dos teste\n",
    "y_pred_proba = logreg.predict_proba(X_test)\n",
    "y_pred_proba[:5]"
   ]
  },
  {
   "cell_type": "code",
   "execution_count": 203,
   "metadata": {},
   "outputs": [
    {
     "data": {
      "text/plain": [
       "array([0.95294856, 0.76876667, 0.34904139, 0.13499289, 0.79583774])"
      ]
     },
     "execution_count": 203,
     "metadata": {},
     "output_type": "execute_result"
    }
   ],
   "source": [
    "#-- pritando a probabilidade\n",
    "y_pred_proba = y_pred_proba[:, 1]\n",
    "y_pred_proba[:5]"
   ]
  },
  {
   "cell_type": "code",
   "execution_count": 204,
   "metadata": {},
   "outputs": [
    {
     "data": {
      "text/html": [
       "<div>\n",
       "<style scoped>\n",
       "    .dataframe tbody tr th:only-of-type {\n",
       "        vertical-align: middle;\n",
       "    }\n",
       "\n",
       "    .dataframe tbody tr th {\n",
       "        vertical-align: top;\n",
       "    }\n",
       "\n",
       "    .dataframe thead th {\n",
       "        text-align: right;\n",
       "    }\n",
       "</style>\n",
       "<table border=\"1\" class=\"dataframe\">\n",
       "  <thead>\n",
       "    <tr style=\"text-align: right;\">\n",
       "      <th></th>\n",
       "      <th>Prediction</th>\n",
       "      <th>True Value</th>\n",
       "    </tr>\n",
       "  </thead>\n",
       "  <tbody>\n",
       "    <tr>\n",
       "      <th>0</th>\n",
       "      <td>0.952949</td>\n",
       "      <td>0</td>\n",
       "    </tr>\n",
       "    <tr>\n",
       "      <th>1</th>\n",
       "      <td>0.768767</td>\n",
       "      <td>0</td>\n",
       "    </tr>\n",
       "    <tr>\n",
       "      <th>2</th>\n",
       "      <td>0.349041</td>\n",
       "      <td>0</td>\n",
       "    </tr>\n",
       "    <tr>\n",
       "      <th>3</th>\n",
       "      <td>0.134993</td>\n",
       "      <td>0</td>\n",
       "    </tr>\n",
       "    <tr>\n",
       "      <th>4</th>\n",
       "      <td>0.795838</td>\n",
       "      <td>0</td>\n",
       "    </tr>\n",
       "  </tbody>\n",
       "</table>\n",
       "</div>"
      ],
      "text/plain": [
       "   Prediction True Value\n",
       "0    0.952949          0\n",
       "1    0.768767          0\n",
       "2    0.349041          0\n",
       "3    0.134993          0\n",
       "4    0.795838          0"
      ]
     },
     "execution_count": 204,
     "metadata": {},
     "output_type": "execute_result"
    }
   ],
   "source": [
    "#-- comparando as respostas\n",
    "preds_df = pd.DataFrame(data=[y_pred_proba, y_test.astype(str)],\n",
    "                        index=['Prediction', 'True Value']).T\n",
    "\n",
    "preds_df['Prediction'] = preds_df['Prediction'].astype(float)\n",
    "preds_df['True Value'] = preds_df['True Value'].astype(str)\n",
    "\n",
    "preds_df.head()"
   ]
  },
  {
   "cell_type": "code",
   "execution_count": 205,
   "metadata": {},
   "outputs": [
    {
     "data": {
      "image/png": "[encoded data removed]",
      "text/plain": [
       "<Figure size 1080x576 with 1 Axes>"
      ]
     },
     "metadata": {
      "needs_background": "light"
     },
     "output_type": "display_data"
    }
   ],
   "source": [
    "multiple_histograms_plot(data=preds_df, x='Prediction', hue='True Value',\n",
    "                         bins=np.arange(0, 1.1, 0.025), probability_hist=True)"
   ]
  },
  {
   "cell_type": "code",
   "execution_count": 206,
   "metadata": {},
   "outputs": [],
   "source": [
    "#-- ajustando a probabilidade\n",
    "y_pred_customizado = y_pred_proba >= 0.80"
   ]
  },
  {
   "cell_type": "code",
   "execution_count": 207,
   "metadata": {},
   "outputs": [
    {
     "data": {
      "image/png": "[encoded data removed]",
      "text/plain": [
       "<Figure size 576x576 with 2 Axes>"
      ]
     },
     "metadata": {
      "needs_background": "light"
     },
     "output_type": "display_data"
    }
   ],
   "source": [
    "#-- pritando a nova matriz de confusão\n",
    "plot_confusion_matrix(y_test, y_pred_customizado)"
   ]
  },
  {
   "cell_type": "code",
   "execution_count": 208,
   "metadata": {},
   "outputs": [
    {
     "name": "stdout",
     "output_type": "stream",
     "text": [
      "              precision    recall  f1-score   support\n",
      "\n",
      "           0       0.72      0.81      0.76        16\n",
      "           1       0.50      0.38      0.43         8\n",
      "\n",
      "   micro avg       0.67      0.67      0.67        24\n",
      "   macro avg       0.61      0.59      0.60        24\n",
      "weighted avg       0.65      0.67      0.65        24\n",
      "\n"
     ]
    }
   ],
   "source": [
    "#-- printando as novas métricas\n",
    "print(classification_report(y_test, y_pred_customizado))"
   ]
  },
  {
   "cell_type": "markdown",
   "metadata": {},
   "source": [
    "### Outras métricas populares"
   ]
  },
  {
   "cell_type": "code",
   "execution_count": 209,
   "metadata": {},
   "outputs": [
    {
     "name": "stdout",
     "output_type": "stream",
     "text": [
      "auc (test): 0.5703\n"
     ]
    }
   ],
   "source": [
    "print(f'auc (test): {roc_auc_score(y_test, y_pred_proba):.4f}')"
   ]
  },
  {
   "cell_type": "code",
   "execution_count": 210,
   "metadata": {},
   "outputs": [
    {
     "data": {
      "image/png": "[encoded data removed]",
      "text/plain": [
       "<Figure size 576x576 with 1 Axes>"
      ]
     },
     "metadata": {
      "needs_background": "light"
     },
     "output_type": "display_data"
    }
   ],
   "source": [
    "auc_test = plot_roc(y_test, y_pred_proba)"
   ]
  },
  {
   "cell_type": "code",
   "execution_count": 211,
   "metadata": {},
   "outputs": [
    {
     "name": "stdout",
     "output_type": "stream",
     "text": [
      "log loss (test): 1.050\n"
     ]
    }
   ],
   "source": [
    "#-- métrica - qt menor melhor\n",
    "print(f'log loss (test): {log_loss(y_test, y_pred_proba):.3f}')"
   ]
  },
  {
   "cell_type": "markdown",
   "metadata": {},
   "source": [
    "### Identificação de overfitting"
   ]
  },
  {
   "cell_type": "code",
   "execution_count": 212,
   "metadata": {},
   "outputs": [],
   "source": [
    "y_pred_proba_train = logreg.predict_proba(X_train)[:, 1]"
   ]
  },
  {
   "cell_type": "code",
   "execution_count": 213,
   "metadata": {},
   "outputs": [
    {
     "name": "stdout",
     "output_type": "stream",
     "text": [
      "auc (train): 0.8348\n",
      "auc (test): 0.5703\n"
     ]
    }
   ],
   "source": [
    "#-- comparando os resultados do modelo de treino com o de teste\n",
    "print(f'auc (train): {roc_auc_score(y_train, y_pred_proba_train):.4f}')\n",
    "print(f'auc (test): {roc_auc_score(y_test, y_pred_proba):.4f}')"
   ]
  },
  {
   "cell_type": "markdown",
   "metadata": {},
   "source": [
    "## Tentando melhorar o modelo"
   ]
  },
  {
   "cell_type": "markdown",
   "metadata": {},
   "source": [
    "### One-hot-encoding"
   ]
  },
  {
   "cell_type": "code",
   "execution_count": 214,
   "metadata": {},
   "outputs": [
    {
     "data": {
      "text/plain": [
       "array(['ADP', 'Admissão', 'Desligamento', 'Desligado?',\n",
       "       'Iniciativa Desligamento', 'Tempo de Casa', 'Cod.Cargo', 'Cargo',\n",
       "       'Cod.Cargo Admissão', 'Cargo Admissão', 'CC', 'Area', 'Diretoria',\n",
       "       'Estado Civil', 'Educação', 'Idade Atual/ Desligamento',\n",
       "       'Idade na Admissão', 'Sexo', 'Banda', 'Nivel', 'Hora Extra 2016',\n",
       "       'Hora Negativa 2016', 'Ad. Noturno 2016', 'Absenteísmo 2016',\n",
       "       'Hora Extra 2017', 'Hora Negativa 2017', 'Ad. Noturno 2017',\n",
       "       'Absenteísmo 2017', '2012/13 Rating', '2012/13 Goal Achievement',\n",
       "       '2013/14 Rating', '2013/14 Goal Achievement', '2014/15 Rating',\n",
       "       '2014/15 Goal Achievement', '2015/16 Rating',\n",
       "       '2015/16 Goal Achievement', '2016/17 Rating',\n",
       "       '2016/17 Goal Achievement', 'AUMENTO 2012', 'AUMENTO 2013',\n",
       "       'AUMENTO 2014', 'AUMENTO 2015', 'AUMENTO 2016', 'AUMENTO 2017',\n",
       "       'DISSIDIO 2012', 'DISSIDIO 2013', 'DISSIDIO 2014', 'DISSIDIO 2015',\n",
       "       'DISSIDIO 2016', 'DISSIDIO 2017', 'MERITO 2012', 'MERITO 2013',\n",
       "       'MERITO 2014', 'MERITO 2015', 'MERITO 2016', 'MERITO 2017',\n",
       "       'PROMOÇÃO 2012', 'PROMOÇÃO 2013', 'PROMOÇÃO 2014', 'PROMOÇÃO 2015',\n",
       "       'PROMOÇÃO 2016', 'PROMOÇÃO 2017', 'PROMOVIDO'], dtype=object)"
      ]
     },
     "execution_count": 214,
     "metadata": {},
     "output_type": "execute_result"
    }
   ],
   "source": [
    "#-- printando os nomes das colunas\n",
    "df_ano.columns.values"
   ]
  },
  {
   "cell_type": "code",
   "execution_count": 232,
   "metadata": {},
   "outputs": [],
   "source": [
    "#-- selecionando as colunas do dataset\n",
    "df_ano_misto = df_ano[['Tempo de Casa', 'Idade Atual/ Desligamento', 'Idade na Admissão', '2013/14 Goal Achievement', '2014/15 Goal Achievement', '2015/16 Goal Achievement', '2016/17 Goal Achievement', 'Estado Civil', 'Educação', 'Sexo', 'PROMOVIDO']].copy()"
   ]
  },
  {
   "cell_type": "code",
   "execution_count": 233,
   "metadata": {},
   "outputs": [
    {
     "data": {
      "text/html": [
       "<div>\n",
       "<style scoped>\n",
       "    .dataframe tbody tr th:only-of-type {\n",
       "        vertical-align: middle;\n",
       "    }\n",
       "\n",
       "    .dataframe tbody tr th {\n",
       "        vertical-align: top;\n",
       "    }\n",
       "\n",
       "    .dataframe thead th {\n",
       "        text-align: right;\n",
       "    }\n",
       "</style>\n",
       "<table border=\"1\" class=\"dataframe\">\n",
       "  <thead>\n",
       "    <tr style=\"text-align: right;\">\n",
       "      <th></th>\n",
       "      <th>123</th>\n",
       "      <th>124</th>\n",
       "      <th>125</th>\n",
       "      <th>126</th>\n",
       "      <th>127</th>\n",
       "    </tr>\n",
       "  </thead>\n",
       "  <tbody>\n",
       "    <tr>\n",
       "      <th>Tempo de Casa</th>\n",
       "      <td>7.99726</td>\n",
       "      <td>7.75616</td>\n",
       "      <td>6.17534</td>\n",
       "      <td>0.452055</td>\n",
       "      <td>7.67123</td>\n",
       "    </tr>\n",
       "    <tr>\n",
       "      <th>Idade Atual/ Desligamento</th>\n",
       "      <td>30</td>\n",
       "      <td>38</td>\n",
       "      <td>47.9014</td>\n",
       "      <td>31.4027</td>\n",
       "      <td>48</td>\n",
       "    </tr>\n",
       "    <tr>\n",
       "      <th>Idade na Admissão</th>\n",
       "      <td>24.1781</td>\n",
       "      <td>32.2493</td>\n",
       "      <td>41.726</td>\n",
       "      <td>30.9507</td>\n",
       "      <td>42.5342</td>\n",
       "    </tr>\n",
       "    <tr>\n",
       "      <th>2013/14 Goal Achievement</th>\n",
       "      <td>93.5</td>\n",
       "      <td>95</td>\n",
       "      <td>88</td>\n",
       "      <td>NaN</td>\n",
       "      <td>0</td>\n",
       "    </tr>\n",
       "    <tr>\n",
       "      <th>2014/15 Goal Achievement</th>\n",
       "      <td>115</td>\n",
       "      <td>100.3</td>\n",
       "      <td>94.9</td>\n",
       "      <td>NaN</td>\n",
       "      <td>NaN</td>\n",
       "    </tr>\n",
       "    <tr>\n",
       "      <th>2015/16 Goal Achievement</th>\n",
       "      <td>90.9</td>\n",
       "      <td>100</td>\n",
       "      <td>105.3</td>\n",
       "      <td>NaN</td>\n",
       "      <td>109.7</td>\n",
       "    </tr>\n",
       "    <tr>\n",
       "      <th>2016/17 Goal Achievement</th>\n",
       "      <td>108.3</td>\n",
       "      <td>102.3</td>\n",
       "      <td>111.5</td>\n",
       "      <td>NaN</td>\n",
       "      <td>114.6</td>\n",
       "    </tr>\n",
       "    <tr>\n",
       "      <th>Estado Civil</th>\n",
       "      <td>SOLTEIRO</td>\n",
       "      <td>CASADO</td>\n",
       "      <td>CASADO</td>\n",
       "      <td>CASADO</td>\n",
       "      <td>CASADO</td>\n",
       "    </tr>\n",
       "    <tr>\n",
       "      <th>Educação</th>\n",
       "      <td>SUPERIOR COMPLETO</td>\n",
       "      <td>SUPERIOR COMPLETO</td>\n",
       "      <td>PÓS GRADUAÇÃO</td>\n",
       "      <td>SUPERIOR COMPLETO</td>\n",
       "      <td>SUPERIOR COMPLETO</td>\n",
       "    </tr>\n",
       "    <tr>\n",
       "      <th>Sexo</th>\n",
       "      <td>M</td>\n",
       "      <td>M</td>\n",
       "      <td>H</td>\n",
       "      <td>H</td>\n",
       "      <td>M</td>\n",
       "    </tr>\n",
       "    <tr>\n",
       "      <th>PROMOVIDO</th>\n",
       "      <td>1</td>\n",
       "      <td>1</td>\n",
       "      <td>0</td>\n",
       "      <td>0</td>\n",
       "      <td>0</td>\n",
       "    </tr>\n",
       "  </tbody>\n",
       "</table>\n",
       "</div>"
      ],
      "text/plain": [
       "                                         123                124  \\\n",
       "Tempo de Casa                        7.99726            7.75616   \n",
       "Idade Atual/ Desligamento                 30                 38   \n",
       "Idade na Admissão                    24.1781            32.2493   \n",
       "2013/14 Goal Achievement                93.5                 95   \n",
       "2014/15 Goal Achievement                 115              100.3   \n",
       "2015/16 Goal Achievement                90.9                100   \n",
       "2016/17 Goal Achievement               108.3              102.3   \n",
       "Estado Civil                        SOLTEIRO             CASADO   \n",
       "Educação                   SUPERIOR COMPLETO  SUPERIOR COMPLETO   \n",
       "Sexo                                       M                  M   \n",
       "PROMOVIDO                                  1                  1   \n",
       "\n",
       "                                                           125  \\\n",
       "Tempo de Casa                                          6.17534   \n",
       "Idade Atual/ Desligamento                              47.9014   \n",
       "Idade na Admissão                                       41.726   \n",
       "2013/14 Goal Achievement                                    88   \n",
       "2014/15 Goal Achievement                                  94.9   \n",
       "2015/16 Goal Achievement                                 105.3   \n",
       "2016/17 Goal Achievement                                 111.5   \n",
       "Estado Civil                                            CASADO   \n",
       "Educação                   PÓS GRADUAÇÃO                         \n",
       "Sexo                                                         H   \n",
       "PROMOVIDO                                                    0   \n",
       "\n",
       "                                         126                127  \n",
       "Tempo de Casa                       0.452055            7.67123  \n",
       "Idade Atual/ Desligamento            31.4027                 48  \n",
       "Idade na Admissão                    30.9507            42.5342  \n",
       "2013/14 Goal Achievement                 NaN                  0  \n",
       "2014/15 Goal Achievement                 NaN                NaN  \n",
       "2015/16 Goal Achievement                 NaN              109.7  \n",
       "2016/17 Goal Achievement                 NaN              114.6  \n",
       "Estado Civil                          CASADO             CASADO  \n",
       "Educação                   SUPERIOR COMPLETO  SUPERIOR COMPLETO  \n",
       "Sexo                                       H                  M  \n",
       "PROMOVIDO                                  0                  0  "
      ]
     },
     "execution_count": 233,
     "metadata": {},
     "output_type": "execute_result"
    }
   ],
   "source": [
    "#-- printando o head do dataset\n",
    "df_ano_misto.head().T"
   ]
  },
  {
   "cell_type": "code",
   "execution_count": 234,
   "metadata": {},
   "outputs": [],
   "source": [
    "#-- removendo os missing values\n",
    "df_ano_misto.dropna(inplace=True)"
   ]
  },
  {
   "cell_type": "code",
   "execution_count": 235,
   "metadata": {},
   "outputs": [
    {
     "data": {
      "text/plain": [
       "Tempo de Casa                0\n",
       "Idade Atual/ Desligamento    0\n",
       "Idade na Admissão            0\n",
       "2013/14 Goal Achievement     0\n",
       "2014/15 Goal Achievement     0\n",
       "2015/16 Goal Achievement     0\n",
       "2016/17 Goal Achievement     0\n",
       "Estado Civil                 0\n",
       "Educação                     0\n",
       "Sexo                         0\n",
       "PROMOVIDO                    0\n",
       "dtype: int64"
      ]
     },
     "execution_count": 235,
     "metadata": {},
     "output_type": "execute_result"
    }
   ],
   "source": [
    "#-- verificando se não existem mais missing values no dataset\n",
    "df_ano_misto.isnull().sum()"
   ]
  },
  {
   "cell_type": "code",
   "execution_count": 236,
   "metadata": {},
   "outputs": [
    {
     "data": {
      "text/html": [
       "<div>\n",
       "<style scoped>\n",
       "    .dataframe tbody tr th:only-of-type {\n",
       "        vertical-align: middle;\n",
       "    }\n",
       "\n",
       "    .dataframe tbody tr th {\n",
       "        vertical-align: top;\n",
       "    }\n",
       "\n",
       "    .dataframe thead th {\n",
       "        text-align: right;\n",
       "    }\n",
       "</style>\n",
       "<table border=\"1\" class=\"dataframe\">\n",
       "  <thead>\n",
       "    <tr style=\"text-align: right;\">\n",
       "      <th></th>\n",
       "      <th>CASADO</th>\n",
       "      <th>SEPARADO</th>\n",
       "      <th>SOLTEIRO</th>\n",
       "    </tr>\n",
       "  </thead>\n",
       "  <tbody>\n",
       "    <tr>\n",
       "      <th>123</th>\n",
       "      <td>0</td>\n",
       "      <td>0</td>\n",
       "      <td>1</td>\n",
       "    </tr>\n",
       "    <tr>\n",
       "      <th>124</th>\n",
       "      <td>1</td>\n",
       "      <td>0</td>\n",
       "      <td>0</td>\n",
       "    </tr>\n",
       "    <tr>\n",
       "      <th>125</th>\n",
       "      <td>1</td>\n",
       "      <td>0</td>\n",
       "      <td>0</td>\n",
       "    </tr>\n",
       "    <tr>\n",
       "      <th>128</th>\n",
       "      <td>1</td>\n",
       "      <td>0</td>\n",
       "      <td>0</td>\n",
       "    </tr>\n",
       "    <tr>\n",
       "      <th>129</th>\n",
       "      <td>1</td>\n",
       "      <td>0</td>\n",
       "      <td>0</td>\n",
       "    </tr>\n",
       "  </tbody>\n",
       "</table>\n",
       "</div>"
      ],
      "text/plain": [
       "     CASADO  SEPARADO  SOLTEIRO\n",
       "123       0         0         1\n",
       "124       1         0         0\n",
       "125       1         0         0\n",
       "128       1         0         0\n",
       "129       1         0         0"
      ]
     },
     "execution_count": 236,
     "metadata": {},
     "output_type": "execute_result"
    }
   ],
   "source": [
    "#-- transformando os dados discretos em dummies\n",
    "pd.get_dummies(df_ano_misto['Estado Civil']).head()"
   ]
  },
  {
   "cell_type": "code",
   "execution_count": 237,
   "metadata": {},
   "outputs": [],
   "source": [
    "#-- aplicando a função dummies\n",
    "df_dummies = pd.get_dummies(df_ano_misto, columns=['Estado Civil', 'Educação', 'Sexo'])"
   ]
  },
  {
   "cell_type": "code",
   "execution_count": 238,
   "metadata": {},
   "outputs": [
    {
     "data": {
      "text/html": [
       "<div>\n",
       "<style scoped>\n",
       "    .dataframe tbody tr th:only-of-type {\n",
       "        vertical-align: middle;\n",
       "    }\n",
       "\n",
       "    .dataframe tbody tr th {\n",
       "        vertical-align: top;\n",
       "    }\n",
       "\n",
       "    .dataframe thead th {\n",
       "        text-align: right;\n",
       "    }\n",
       "</style>\n",
       "<table border=\"1\" class=\"dataframe\">\n",
       "  <thead>\n",
       "    <tr style=\"text-align: right;\">\n",
       "      <th></th>\n",
       "      <th>Tempo de Casa</th>\n",
       "      <th>Idade Atual/ Desligamento</th>\n",
       "      <th>Idade na Admissão</th>\n",
       "      <th>2013/14 Goal Achievement</th>\n",
       "      <th>2014/15 Goal Achievement</th>\n",
       "      <th>2015/16 Goal Achievement</th>\n",
       "      <th>2016/17 Goal Achievement</th>\n",
       "      <th>PROMOVIDO</th>\n",
       "      <th>Estado Civil_CASADO</th>\n",
       "      <th>Estado Civil_SEPARADO</th>\n",
       "      <th>Estado Civil_SOLTEIRO</th>\n",
       "      <th>Educação_ENSINO MÉDIO COMPLETO</th>\n",
       "      <th>Educação_MESTRADO</th>\n",
       "      <th>Educação_PÓS GRADUAÇÃO</th>\n",
       "      <th>Educação_SUPERIOR COMPLETO</th>\n",
       "      <th>Educação_TÉCNICO COMPLETO</th>\n",
       "      <th>Sexo_H</th>\n",
       "      <th>Sexo_M</th>\n",
       "    </tr>\n",
       "  </thead>\n",
       "  <tbody>\n",
       "    <tr>\n",
       "      <th>123</th>\n",
       "      <td>7.997260</td>\n",
       "      <td>30.00000</td>\n",
       "      <td>24.178082</td>\n",
       "      <td>93.5</td>\n",
       "      <td>115.0</td>\n",
       "      <td>90.9</td>\n",
       "      <td>108.3</td>\n",
       "      <td>1</td>\n",
       "      <td>0</td>\n",
       "      <td>0</td>\n",
       "      <td>1</td>\n",
       "      <td>0</td>\n",
       "      <td>0</td>\n",
       "      <td>0</td>\n",
       "      <td>1</td>\n",
       "      <td>0</td>\n",
       "      <td>0</td>\n",
       "      <td>1</td>\n",
       "    </tr>\n",
       "    <tr>\n",
       "      <th>124</th>\n",
       "      <td>7.756164</td>\n",
       "      <td>38.00000</td>\n",
       "      <td>32.249315</td>\n",
       "      <td>95.0</td>\n",
       "      <td>100.3</td>\n",
       "      <td>100.0</td>\n",
       "      <td>102.3</td>\n",
       "      <td>1</td>\n",
       "      <td>1</td>\n",
       "      <td>0</td>\n",
       "      <td>0</td>\n",
       "      <td>0</td>\n",
       "      <td>0</td>\n",
       "      <td>0</td>\n",
       "      <td>1</td>\n",
       "      <td>0</td>\n",
       "      <td>0</td>\n",
       "      <td>1</td>\n",
       "    </tr>\n",
       "    <tr>\n",
       "      <th>125</th>\n",
       "      <td>6.175342</td>\n",
       "      <td>47.90137</td>\n",
       "      <td>41.726027</td>\n",
       "      <td>88.0</td>\n",
       "      <td>94.9</td>\n",
       "      <td>105.3</td>\n",
       "      <td>111.5</td>\n",
       "      <td>0</td>\n",
       "      <td>1</td>\n",
       "      <td>0</td>\n",
       "      <td>0</td>\n",
       "      <td>0</td>\n",
       "      <td>0</td>\n",
       "      <td>1</td>\n",
       "      <td>0</td>\n",
       "      <td>0</td>\n",
       "      <td>1</td>\n",
       "      <td>0</td>\n",
       "    </tr>\n",
       "    <tr>\n",
       "      <th>128</th>\n",
       "      <td>7.665753</td>\n",
       "      <td>42.00000</td>\n",
       "      <td>36.534247</td>\n",
       "      <td>89.0</td>\n",
       "      <td>100.0</td>\n",
       "      <td>93.8</td>\n",
       "      <td>99.5</td>\n",
       "      <td>0</td>\n",
       "      <td>1</td>\n",
       "      <td>0</td>\n",
       "      <td>0</td>\n",
       "      <td>0</td>\n",
       "      <td>0</td>\n",
       "      <td>0</td>\n",
       "      <td>0</td>\n",
       "      <td>1</td>\n",
       "      <td>1</td>\n",
       "      <td>0</td>\n",
       "    </tr>\n",
       "    <tr>\n",
       "      <th>129</th>\n",
       "      <td>7.665753</td>\n",
       "      <td>40.00000</td>\n",
       "      <td>34.326027</td>\n",
       "      <td>99.9</td>\n",
       "      <td>125.0</td>\n",
       "      <td>108.0</td>\n",
       "      <td>108.8</td>\n",
       "      <td>0</td>\n",
       "      <td>1</td>\n",
       "      <td>0</td>\n",
       "      <td>0</td>\n",
       "      <td>0</td>\n",
       "      <td>0</td>\n",
       "      <td>0</td>\n",
       "      <td>0</td>\n",
       "      <td>1</td>\n",
       "      <td>1</td>\n",
       "      <td>0</td>\n",
       "    </tr>\n",
       "  </tbody>\n",
       "</table>\n",
       "</div>"
      ],
      "text/plain": [
       "     Tempo de Casa  Idade Atual/ Desligamento  Idade na Admissão  \\\n",
       "123       7.997260                   30.00000          24.178082   \n",
       "124       7.756164                   38.00000          32.249315   \n",
       "125       6.175342                   47.90137          41.726027   \n",
       "128       7.665753                   42.00000          36.534247   \n",
       "129       7.665753                   40.00000          34.326027   \n",
       "\n",
       "     2013/14 Goal Achievement  2014/15 Goal Achievement  \\\n",
       "123                      93.5                     115.0   \n",
       "124                      95.0                     100.3   \n",
       "125                      88.0                      94.9   \n",
       "128                      89.0                     100.0   \n",
       "129                      99.9                     125.0   \n",
       "\n",
       "     2015/16 Goal Achievement  2016/17 Goal Achievement  PROMOVIDO  \\\n",
       "123                      90.9                     108.3          1   \n",
       "124                     100.0                     102.3          1   \n",
       "125                     105.3                     111.5          0   \n",
       "128                      93.8                      99.5          0   \n",
       "129                     108.0                     108.8          0   \n",
       "\n",
       "     Estado Civil_CASADO  Estado Civil_SEPARADO  Estado Civil_SOLTEIRO  \\\n",
       "123                    0                      0                      1   \n",
       "124                    1                      0                      0   \n",
       "125                    1                      0                      0   \n",
       "128                    1                      0                      0   \n",
       "129                    1                      0                      0   \n",
       "\n",
       "     Educação_ENSINO MÉDIO COMPLETO  \\\n",
       "123                               0   \n",
       "124                               0   \n",
       "125                               0   \n",
       "128                               0   \n",
       "129                               0   \n",
       "\n",
       "     Educação_MESTRADO                             \\\n",
       "123                                             0   \n",
       "124                                             0   \n",
       "125                                             0   \n",
       "128                                             0   \n",
       "129                                             0   \n",
       "\n",
       "     Educação_PÓS GRADUAÇÃO                        Educação_SUPERIOR COMPLETO  \\\n",
       "123                                             0                           1   \n",
       "124                                             0                           1   \n",
       "125                                             1                           0   \n",
       "128                                             0                           0   \n",
       "129                                             0                           0   \n",
       "\n",
       "     Educação_TÉCNICO COMPLETO                     Sexo_H  Sexo_M  \n",
       "123                                             0       0       1  \n",
       "124                                             0       0       1  \n",
       "125                                             0       1       0  \n",
       "128                                             1       1       0  \n",
       "129                                             1       1       0  "
      ]
     },
     "execution_count": 238,
     "metadata": {},
     "output_type": "execute_result"
    }
   ],
   "source": [
    "#-- printando o head\n",
    "df_dummies.head()"
   ]
  },
  {
   "cell_type": "code",
   "execution_count": 239,
   "metadata": {},
   "outputs": [],
   "source": [
    "#-- separando os datasets\n",
    "X = df_dummies.drop(columns=['PROMOVIDO'])\n",
    "y = df_dummies['PROMOVIDO']\n",
    "\n",
    "#-- splitando em ds de treino e teste\n",
    "X_train, X_test, y_train, y_test = train_test_split(X, y, test_size=0.3, \n",
    "                                                    random_state=0)"
   ]
  },
  {
   "cell_type": "code",
   "execution_count": 240,
   "metadata": {},
   "outputs": [
    {
     "name": "stderr",
     "output_type": "stream",
     "text": [
      "C:\\Users\\thiago.mauricio\\AppData\\Local\\Continuum\\anaconda3\\envs\\tera-jul2018\\lib\\site-packages\\sklearn\\linear_model\\logistic.py:433: FutureWarning: Default solver will be changed to 'lbfgs' in 0.22. Specify a solver to silence this warning.\n",
      "  FutureWarning)\n"
     ]
    }
   ],
   "source": [
    "#-- aplicando o algoritmo\n",
    "logreg = LogisticRegression()\n",
    "logreg.fit(X_train, y_train)\n",
    "y_pred_proba = logreg.predict_proba(X_test)[:, 1]"
   ]
  },
  {
   "cell_type": "code",
   "execution_count": 241,
   "metadata": {},
   "outputs": [
    {
     "name": "stdout",
     "output_type": "stream",
     "text": [
      "log loss (test): 0.945\n"
     ]
    }
   ],
   "source": [
    "#-- verificando a métrica log loss\n",
    "print(f'log loss (test): {log_loss(y_test, y_pred_proba):.3f}')"
   ]
  },
  {
   "cell_type": "code",
   "execution_count": 242,
   "metadata": {},
   "outputs": [
    {
     "data": {
      "image/png": "[encoded data removed]",
      "text/plain": [
       "<Figure size 576x576 with 1 Axes>"
      ]
     },
     "metadata": {
      "needs_background": "light"
     },
     "output_type": "display_data"
    }
   ],
   "source": [
    "#-- printando a curva ROC\n",
    "auc_test = plot_roc(y_test, y_pred_proba)"
   ]
  },
  {
   "cell_type": "markdown",
   "metadata": {},
   "source": [
    "### Tratamento de outliers"
   ]
  },
  {
   "cell_type": "code",
   "execution_count": 2,
   "metadata": {},
   "outputs": [
    {
     "ename": "NameError",
     "evalue": "name 'df_dummies' is not defined",
     "output_type": "error",
     "traceback": [
      "\u001b[1;31m---------------------------------------------------------------------------\u001b[0m",
      "\u001b[1;31mNameError\u001b[0m                                 Traceback (most recent call last)",
      "\u001b[1;32m<ipython-input-2-a3fe96188ffb>\u001b[0m in \u001b[0;36m<module>\u001b[1;34m\u001b[0m\n\u001b[1;32m----> 1\u001b[1;33m \u001b[0mdf_no_outliers\u001b[0m \u001b[1;33m=\u001b[0m \u001b[0mdf_dummies\u001b[0m\u001b[1;33m.\u001b[0m\u001b[0mcopy\u001b[0m\u001b[1;33m(\u001b[0m\u001b[1;33m)\u001b[0m\u001b[1;33m\u001b[0m\u001b[1;33m\u001b[0m\u001b[0m\n\u001b[0m",
      "\u001b[1;31mNameError\u001b[0m: name 'df_dummies' is not defined"
     ]
    }
   ],
   "source": [
    "#-- copiando o dataset\n",
    "df_no_outliers = df_dummies.copy()"
   ]
  },
  {
   "cell_type": "code",
   "execution_count": 262,
   "metadata": {},
   "outputs": [
    {
     "data": {
      "text/plain": [
       "<matplotlib.axes._subplots.AxesSubplot at 0x126278150f0>"
      ]
     },
     "execution_count": 262,
     "metadata": {},
     "output_type": "execute_result"
    },
    {
     "data": {
      "image/png": "[encoded data removed]",
      "text/plain": [
       "<Figure size 1584x1080 with 1 Axes>"
      ]
     },
     "metadata": {
      "needs_background": "light"
     },
     "output_type": "display_data"
    }
   ],
   "source": [
    "#-- plotando os outliers\n",
    "sns.boxplot(df_no_outliers['Tempo de Casa'])"
   ]
  },
  {
   "cell_type": "code",
   "execution_count": 263,
   "metadata": {},
   "outputs": [
    {
     "data": {
      "text/plain": [
       "<matplotlib.axes._subplots.AxesSubplot at 0x126277e9a58>"
      ]
     },
     "execution_count": 263,
     "metadata": {},
     "output_type": "execute_result"
    },
    {
     "data": {
      "image/png": "[encoded data removed]",
      "text/plain": [
       "<Figure size 1584x1080 with 1 Axes>"
      ]
     },
     "metadata": {
      "needs_background": "light"
     },
     "output_type": "display_data"
    }
   ],
   "source": [
    "#-- plotando os outliers\n",
    "sns.boxplot(df_no_outliers['Idade na Admissão'])"
   ]
  },
  {
   "cell_type": "code",
   "execution_count": 264,
   "metadata": {},
   "outputs": [
    {
     "data": {
      "text/plain": [
       "<matplotlib.axes._subplots.AxesSubplot at 0x12627898be0>"
      ]
     },
     "execution_count": 264,
     "metadata": {},
     "output_type": "execute_result"
    },
    {
     "data": {
      "image/png": "[encoded data removed]",
      "text/plain": [
       "<Figure size 1584x1080 with 1 Axes>"
      ]
     },
     "metadata": {
      "needs_background": "light"
     },
     "output_type": "display_data"
    }
   ],
   "source": [
    "#-- plotando os outliers\n",
    "sns.boxplot(df_no_outliers['2013/14 Goal Achievement'])"
   ]
  },
  {
   "cell_type": "code",
   "execution_count": 265,
   "metadata": {},
   "outputs": [
    {
     "data": {
      "text/plain": [
       "<matplotlib.axes._subplots.AxesSubplot at 0x126277d2588>"
      ]
     },
     "execution_count": 265,
     "metadata": {},
     "output_type": "execute_result"
    },
    {
     "data": {
      "image/png": "[encoded data removed]",
      "text/plain": [
       "<Figure size 1584x1080 with 1 Axes>"
      ]
     },
     "metadata": {
      "needs_background": "light"
     },
     "output_type": "display_data"
    }
   ],
   "source": [
    "#-- plotando os outliers\n",
    "sns.boxplot(df_no_outliers['2014/15 Goal Achievement'])"
   ]
  },
  {
   "cell_type": "code",
   "execution_count": 266,
   "metadata": {},
   "outputs": [
    {
     "data": {
      "text/plain": [
       "<matplotlib.axes._subplots.AxesSubplot at 0x12627945ef0>"
      ]
     },
     "execution_count": 266,
     "metadata": {},
     "output_type": "execute_result"
    },
    {
     "data": {
      "image/png": "[encoded data removed]",
      "text/plain": [
       "<Figure size 1584x1080 with 1 Axes>"
      ]
     },
     "metadata": {
      "needs_background": "light"
     },
     "output_type": "display_data"
    }
   ],
   "source": [
    "#-- plotando os outliers\n",
    "sns.boxplot(df_no_outliers['2015/16 Goal Achievement'])"
   ]
  },
  {
   "cell_type": "code",
   "execution_count": 273,
   "metadata": {},
   "outputs": [
    {
     "data": {
      "text/plain": [
       "<matplotlib.axes._subplots.AxesSubplot at 0x1262a79c5f8>"
      ]
     },
     "execution_count": 273,
     "metadata": {},
     "output_type": "execute_result"
    },
    {
     "data": {
      "image/png": "[encoded data removed]",
      "text/plain": [
       "<Figure size 1584x1080 with 1 Axes>"
      ]
     },
     "metadata": {
      "needs_background": "light"
     },
     "output_type": "display_data"
    }
   ],
   "source": [
    "#-- plotando os outliers\n",
    "sns.boxplot(df_no_outliers['2016/17 Goal Achievement'])"
   ]
  },
  {
   "cell_type": "code",
   "execution_count": 268,
   "metadata": {},
   "outputs": [],
   "source": [
    "#-- removendo os outliers\n",
    "df_no_outliers = df_no_outliers[df_no_outliers['2013/14 Goal Achievement'] > 78]\n",
    "df_no_outliers = df_no_outliers[df_no_outliers['2015/16 Goal Achievement'] < 120]\n",
    "df_no_outliers = df_no_outliers[(df_no_outliers['2016/17 Goal Achievement'] < 122) & (df_no_outliers['2016/17 Goal Achievement'] > 92)]"
   ]
  },
  {
   "cell_type": "code",
   "execution_count": 269,
   "metadata": {},
   "outputs": [],
   "source": [
    "#-- criando os ds\n",
    "X = df_no_outliers.drop(columns=['PROMOVIDO'])\n",
    "y = df_no_outliers['PROMOVIDO']\n",
    "\n",
    "X_train, X_test, y_train, y_test = train_test_split(X, y, test_size=0.3, \n",
    "                                                    random_state=0)"
   ]
  },
  {
   "cell_type": "code",
   "execution_count": 270,
   "metadata": {},
   "outputs": [
    {
     "name": "stderr",
     "output_type": "stream",
     "text": [
      "C:\\Users\\thiago.mauricio\\AppData\\Local\\Continuum\\anaconda3\\envs\\tera-jul2018\\lib\\site-packages\\sklearn\\linear_model\\logistic.py:433: FutureWarning: Default solver will be changed to 'lbfgs' in 0.22. Specify a solver to silence this warning.\n",
      "  FutureWarning)\n"
     ]
    }
   ],
   "source": [
    "#-- aplicando o algoritmo\n",
    "logreg = LogisticRegression()\n",
    "logreg.fit(X_train, y_train)\n",
    "y_pred_proba = logreg.predict_proba(X_test)[:, 1]"
   ]
  },
  {
   "cell_type": "code",
   "execution_count": 271,
   "metadata": {},
   "outputs": [
    {
     "name": "stdout",
     "output_type": "stream",
     "text": [
      "log loss (test): 0.905\n"
     ]
    }
   ],
   "source": [
    "#-- printando a métrica de log loss\n",
    "print(f'log loss (test): {log_loss(y_test, y_pred_proba):.3f}')"
   ]
  },
  {
   "cell_type": "code",
   "execution_count": 272,
   "metadata": {},
   "outputs": [
    {
     "data": {
      "image/png": "[encoded data removed]",
      "text/plain": [
       "<Figure size 576x576 with 1 Axes>"
      ]
     },
     "metadata": {
      "needs_background": "light"
     },
     "output_type": "display_data"
    }
   ],
   "source": [
    "#-- printando a curva ROC\n",
    "auc_test = plot_roc(y_test, y_pred_proba)"
   ]
  },
  {
   "cell_type": "markdown",
   "metadata": {},
   "source": [
    "### Padronização (ou standardization) dos dados"
   ]
  },
  {
   "cell_type": "code",
   "execution_count": 274,
   "metadata": {},
   "outputs": [],
   "source": [
    "#-- copiando o dataset\n",
    "df_standardized = df_dummies.copy()"
   ]
  },
  {
   "cell_type": "code",
   "execution_count": 275,
   "metadata": {},
   "outputs": [],
   "source": [
    "#-- preparando os ds de análise\n",
    "X = df_standardized.drop(columns=['PROMOVIDO'])\n",
    "y = df_standardized['PROMOVIDO']"
   ]
  },
  {
   "cell_type": "code",
   "execution_count": 276,
   "metadata": {},
   "outputs": [
    {
     "name": "stderr",
     "output_type": "stream",
     "text": [
      "C:\\Users\\thiago.mauricio\\AppData\\Local\\Continuum\\anaconda3\\envs\\tera-jul2018\\lib\\site-packages\\sklearn\\preprocessing\\data.py:625: DataConversionWarning: Data with input dtype uint8, float64 were all converted to float64 by StandardScaler.\n",
      "  return self.partial_fit(X, y)\n",
      "C:\\Users\\thiago.mauricio\\AppData\\Local\\Continuum\\anaconda3\\envs\\tera-jul2018\\lib\\site-packages\\sklearn\\base.py:462: DataConversionWarning: Data with input dtype uint8, float64 were all converted to float64 by StandardScaler.\n",
      "  return self.fit(X, **fit_params).transform(X)\n"
     ]
    }
   ],
   "source": [
    "#-- standarizando os dados\n",
    "scaler = StandardScaler()\n",
    "scaled_data = scaler.fit_transform(X)\n",
    "\n",
    "X_scaled = pd.DataFrame(scaled_data, \n",
    "                        index=X.index,\n",
    "                        columns=X.columns)\n",
    "\n",
    "df_standardized = pd.concat([X_scaled, y], axis='columns')"
   ]
  },
  {
   "cell_type": "code",
   "execution_count": 277,
   "metadata": {},
   "outputs": [
    {
     "data": {
      "text/html": [
       "<div>\n",
       "<style scoped>\n",
       "    .dataframe tbody tr th:only-of-type {\n",
       "        vertical-align: middle;\n",
       "    }\n",
       "\n",
       "    .dataframe tbody tr th {\n",
       "        vertical-align: top;\n",
       "    }\n",
       "\n",
       "    .dataframe thead th {\n",
       "        text-align: right;\n",
       "    }\n",
       "</style>\n",
       "<table border=\"1\" class=\"dataframe\">\n",
       "  <thead>\n",
       "    <tr style=\"text-align: right;\">\n",
       "      <th></th>\n",
       "      <th>Tempo de Casa</th>\n",
       "      <th>Idade Atual/ Desligamento</th>\n",
       "      <th>Idade na Admissão</th>\n",
       "      <th>2013/14 Goal Achievement</th>\n",
       "      <th>2014/15 Goal Achievement</th>\n",
       "      <th>2015/16 Goal Achievement</th>\n",
       "      <th>2016/17 Goal Achievement</th>\n",
       "      <th>Estado Civil_CASADO</th>\n",
       "      <th>Estado Civil_SEPARADO</th>\n",
       "      <th>Estado Civil_SOLTEIRO</th>\n",
       "      <th>Educação_ENSINO MÉDIO COMPLETO</th>\n",
       "      <th>Educação_MESTRADO</th>\n",
       "      <th>Educação_PÓS GRADUAÇÃO</th>\n",
       "      <th>Educação_SUPERIOR COMPLETO</th>\n",
       "      <th>Educação_TÉCNICO COMPLETO</th>\n",
       "      <th>Sexo_H</th>\n",
       "      <th>Sexo_M</th>\n",
       "    </tr>\n",
       "  </thead>\n",
       "  <tbody>\n",
       "    <tr>\n",
       "      <th>123</th>\n",
       "      <td>2.215923</td>\n",
       "      <td>-1.157811</td>\n",
       "      <td>-1.360893</td>\n",
       "      <td>0.198691</td>\n",
       "      <td>0.611672</td>\n",
       "      <td>-1.533999</td>\n",
       "      <td>0.446222</td>\n",
       "      <td>-1.286535</td>\n",
       "      <td>-0.163299</td>\n",
       "      <td>1.360828</td>\n",
       "      <td>-0.290701</td>\n",
       "      <td>-0.114708</td>\n",
       "      <td>-0.429669</td>\n",
       "      <td>0.734847</td>\n",
       "      <td>-0.340503</td>\n",
       "      <td>-1.878673</td>\n",
       "      <td>1.878673</td>\n",
       "    </tr>\n",
       "    <tr>\n",
       "      <th>124</th>\n",
       "      <td>1.894896</td>\n",
       "      <td>-0.091568</td>\n",
       "      <td>-0.272779</td>\n",
       "      <td>0.406938</td>\n",
       "      <td>-0.884981</td>\n",
       "      <td>-0.432017</td>\n",
       "      <td>-0.404953</td>\n",
       "      <td>0.777282</td>\n",
       "      <td>-0.163299</td>\n",
       "      <td>-0.734847</td>\n",
       "      <td>-0.290701</td>\n",
       "      <td>-0.114708</td>\n",
       "      <td>-0.429669</td>\n",
       "      <td>0.734847</td>\n",
       "      <td>-0.340503</td>\n",
       "      <td>-1.878673</td>\n",
       "      <td>1.878673</td>\n",
       "    </tr>\n",
       "    <tr>\n",
       "      <th>125</th>\n",
       "      <td>-0.210023</td>\n",
       "      <td>1.228091</td>\n",
       "      <td>1.004812</td>\n",
       "      <td>-0.564882</td>\n",
       "      <td>-1.434772</td>\n",
       "      <td>0.209796</td>\n",
       "      <td>0.900182</td>\n",
       "      <td>0.777282</td>\n",
       "      <td>-0.163299</td>\n",
       "      <td>-0.734847</td>\n",
       "      <td>-0.290701</td>\n",
       "      <td>-0.114708</td>\n",
       "      <td>2.327373</td>\n",
       "      <td>-1.360828</td>\n",
       "      <td>-0.340503</td>\n",
       "      <td>0.532291</td>\n",
       "      <td>-0.532291</td>\n",
       "    </tr>\n",
       "    <tr>\n",
       "      <th>128</th>\n",
       "      <td>1.774510</td>\n",
       "      <td>0.441554</td>\n",
       "      <td>0.304889</td>\n",
       "      <td>-0.426050</td>\n",
       "      <td>-0.915525</td>\n",
       "      <td>-1.182818</td>\n",
       "      <td>-0.802168</td>\n",
       "      <td>0.777282</td>\n",
       "      <td>-0.163299</td>\n",
       "      <td>-0.734847</td>\n",
       "      <td>-0.290701</td>\n",
       "      <td>-0.114708</td>\n",
       "      <td>-0.429669</td>\n",
       "      <td>-1.360828</td>\n",
       "      <td>2.936835</td>\n",
       "      <td>0.532291</td>\n",
       "      <td>-0.532291</td>\n",
       "    </tr>\n",
       "    <tr>\n",
       "      <th>129</th>\n",
       "      <td>1.774510</td>\n",
       "      <td>0.174993</td>\n",
       "      <td>0.007190</td>\n",
       "      <td>1.087212</td>\n",
       "      <td>1.629803</td>\n",
       "      <td>0.536758</td>\n",
       "      <td>0.517153</td>\n",
       "      <td>0.777282</td>\n",
       "      <td>-0.163299</td>\n",
       "      <td>-0.734847</td>\n",
       "      <td>-0.290701</td>\n",
       "      <td>-0.114708</td>\n",
       "      <td>-0.429669</td>\n",
       "      <td>-1.360828</td>\n",
       "      <td>2.936835</td>\n",
       "      <td>0.532291</td>\n",
       "      <td>-0.532291</td>\n",
       "    </tr>\n",
       "  </tbody>\n",
       "</table>\n",
       "</div>"
      ],
      "text/plain": [
       "     Tempo de Casa  Idade Atual/ Desligamento  Idade na Admissão  \\\n",
       "123       2.215923                  -1.157811          -1.360893   \n",
       "124       1.894896                  -0.091568          -0.272779   \n",
       "125      -0.210023                   1.228091           1.004812   \n",
       "128       1.774510                   0.441554           0.304889   \n",
       "129       1.774510                   0.174993           0.007190   \n",
       "\n",
       "     2013/14 Goal Achievement  2014/15 Goal Achievement  \\\n",
       "123                  0.198691                  0.611672   \n",
       "124                  0.406938                 -0.884981   \n",
       "125                 -0.564882                 -1.434772   \n",
       "128                 -0.426050                 -0.915525   \n",
       "129                  1.087212                  1.629803   \n",
       "\n",
       "     2015/16 Goal Achievement  2016/17 Goal Achievement  Estado Civil_CASADO  \\\n",
       "123                 -1.533999                  0.446222            -1.286535   \n",
       "124                 -0.432017                 -0.404953             0.777282   \n",
       "125                  0.209796                  0.900182             0.777282   \n",
       "128                 -1.182818                 -0.802168             0.777282   \n",
       "129                  0.536758                  0.517153             0.777282   \n",
       "\n",
       "     Estado Civil_SEPARADO  Estado Civil_SOLTEIRO  \\\n",
       "123              -0.163299               1.360828   \n",
       "124              -0.163299              -0.734847   \n",
       "125              -0.163299              -0.734847   \n",
       "128              -0.163299              -0.734847   \n",
       "129              -0.163299              -0.734847   \n",
       "\n",
       "     Educação_ENSINO MÉDIO COMPLETO  \\\n",
       "123                       -0.290701   \n",
       "124                       -0.290701   \n",
       "125                       -0.290701   \n",
       "128                       -0.290701   \n",
       "129                       -0.290701   \n",
       "\n",
       "     Educação_MESTRADO                             \\\n",
       "123                                     -0.114708   \n",
       "124                                     -0.114708   \n",
       "125                                     -0.114708   \n",
       "128                                     -0.114708   \n",
       "129                                     -0.114708   \n",
       "\n",
       "     Educação_PÓS GRADUAÇÃO                        Educação_SUPERIOR COMPLETO  \\\n",
       "123                                     -0.429669                    0.734847   \n",
       "124                                     -0.429669                    0.734847   \n",
       "125                                      2.327373                   -1.360828   \n",
       "128                                     -0.429669                   -1.360828   \n",
       "129                                     -0.429669                   -1.360828   \n",
       "\n",
       "     Educação_TÉCNICO COMPLETO                       Sexo_H    Sexo_M  \n",
       "123                                     -0.340503 -1.878673  1.878673  \n",
       "124                                     -0.340503 -1.878673  1.878673  \n",
       "125                                     -0.340503  0.532291 -0.532291  \n",
       "128                                      2.936835  0.532291 -0.532291  \n",
       "129                                      2.936835  0.532291 -0.532291  "
      ]
     },
     "execution_count": 277,
     "metadata": {},
     "output_type": "execute_result"
    }
   ],
   "source": [
    "#-- pritando os dados do ds\n",
    "X_scaled.head()"
   ]
  },
  {
   "cell_type": "code",
   "execution_count": 278,
   "metadata": {},
   "outputs": [],
   "source": [
    "#-- separando as amostras de treino e teste\n",
    "X_train, X_test, y_train, y_test = train_test_split(X_scaled, y, test_size=0.3, \n",
    "                                                    random_state=0)"
   ]
  },
  {
   "cell_type": "code",
   "execution_count": 279,
   "metadata": {},
   "outputs": [
    {
     "name": "stderr",
     "output_type": "stream",
     "text": [
      "C:\\Users\\thiago.mauricio\\AppData\\Local\\Continuum\\anaconda3\\envs\\tera-jul2018\\lib\\site-packages\\sklearn\\linear_model\\logistic.py:433: FutureWarning: Default solver will be changed to 'lbfgs' in 0.22. Specify a solver to silence this warning.\n",
      "  FutureWarning)\n"
     ]
    }
   ],
   "source": [
    "#-- aplicando o algoritmo\n",
    "logreg = LogisticRegression()\n",
    "logreg.fit(X_train, y_train)\n",
    "y_pred_proba = logreg.predict_proba(X_test)[:, 1]"
   ]
  },
  {
   "cell_type": "code",
   "execution_count": 280,
   "metadata": {},
   "outputs": [
    {
     "name": "stdout",
     "output_type": "stream",
     "text": [
      "log loss (test): 0.846\n"
     ]
    }
   ],
   "source": [
    "#-- pritando a métrica de teste\n",
    "print(f'log loss (test): {log_loss(y_test, y_pred_proba):.3f}')"
   ]
  },
  {
   "cell_type": "code",
   "execution_count": 281,
   "metadata": {},
   "outputs": [
    {
     "data": {
      "image/png": "[encoded data removed]",
      "text/plain": [
       "<Figure size 576x576 with 1 Axes>"
      ]
     },
     "metadata": {
      "needs_background": "light"
     },
     "output_type": "display_data"
    }
   ],
   "source": [
    "#-- pritando a curva ROC\n",
    "auc_test = plot_roc(y_test, y_pred_proba)"
   ]
  },
  {
   "cell_type": "markdown",
   "metadata": {},
   "source": [
    "### Seleção de features"
   ]
  },
  {
   "cell_type": "code",
   "execution_count": 282,
   "metadata": {},
   "outputs": [],
   "source": [
    "#-- parametrizando o algoritmo de seleção das variáveis\n",
    "selector = RFECV(logreg, step=1, scoring='roc_auc', n_jobs=-1)"
   ]
  },
  {
   "cell_type": "code",
   "execution_count": 283,
   "metadata": {},
   "outputs": [
    {
     "name": "stderr",
     "output_type": "stream",
     "text": [
      "C:\\Users\\thiago.mauricio\\AppData\\Local\\Continuum\\anaconda3\\envs\\tera-jul2018\\lib\\site-packages\\sklearn\\model_selection\\_split.py:2053: FutureWarning: You should specify a value for 'cv' instead of relying on the default value. The default value will change from 3 to 5 in version 0.22.\n",
      "  warnings.warn(CV_WARNING, FutureWarning)\n",
      "C:\\Users\\thiago.mauricio\\AppData\\Local\\Continuum\\anaconda3\\envs\\tera-jul2018\\lib\\site-packages\\sklearn\\linear_model\\logistic.py:433: FutureWarning: Default solver will be changed to 'lbfgs' in 0.22. Specify a solver to silence this warning.\n",
      "  FutureWarning)\n",
      "C:\\Users\\thiago.mauricio\\AppData\\Local\\Continuum\\anaconda3\\envs\\tera-jul2018\\lib\\site-packages\\sklearn\\linear_model\\logistic.py:433: FutureWarning: Default solver will be changed to 'lbfgs' in 0.22. Specify a solver to silence this warning.\n",
      "  FutureWarning)\n",
      "C:\\Users\\thiago.mauricio\\AppData\\Local\\Continuum\\anaconda3\\envs\\tera-jul2018\\lib\\site-packages\\sklearn\\linear_model\\logistic.py:433: FutureWarning: Default solver will be changed to 'lbfgs' in 0.22. Specify a solver to silence this warning.\n",
      "  FutureWarning)\n",
      "C:\\Users\\thiago.mauricio\\AppData\\Local\\Continuum\\anaconda3\\envs\\tera-jul2018\\lib\\site-packages\\sklearn\\linear_model\\logistic.py:433: FutureWarning: Default solver will be changed to 'lbfgs' in 0.22. Specify a solver to silence this warning.\n",
      "  FutureWarning)\n",
      "C:\\Users\\thiago.mauricio\\AppData\\Local\\Continuum\\anaconda3\\envs\\tera-jul2018\\lib\\site-packages\\sklearn\\linear_model\\logistic.py:433: FutureWarning: Default solver will be changed to 'lbfgs' in 0.22. Specify a solver to silence this warning.\n",
      "  FutureWarning)\n",
      "C:\\Users\\thiago.mauricio\\AppData\\Local\\Continuum\\anaconda3\\envs\\tera-jul2018\\lib\\site-packages\\sklearn\\linear_model\\logistic.py:433: FutureWarning: Default solver will be changed to 'lbfgs' in 0.22. Specify a solver to silence this warning.\n",
      "  FutureWarning)\n",
      "C:\\Users\\thiago.mauricio\\AppData\\Local\\Continuum\\anaconda3\\envs\\tera-jul2018\\lib\\site-packages\\sklearn\\linear_model\\logistic.py:433: FutureWarning: Default solver will be changed to 'lbfgs' in 0.22. Specify a solver to silence this warning.\n",
      "  FutureWarning)\n",
      "C:\\Users\\thiago.mauricio\\AppData\\Local\\Continuum\\anaconda3\\envs\\tera-jul2018\\lib\\site-packages\\sklearn\\linear_model\\logistic.py:433: FutureWarning: Default solver will be changed to 'lbfgs' in 0.22. Specify a solver to silence this warning.\n",
      "  FutureWarning)\n",
      "C:\\Users\\thiago.mauricio\\AppData\\Local\\Continuum\\anaconda3\\envs\\tera-jul2018\\lib\\site-packages\\sklearn\\linear_model\\logistic.py:433: FutureWarning: Default solver will be changed to 'lbfgs' in 0.22. Specify a solver to silence this warning.\n",
      "  FutureWarning)\n",
      "C:\\Users\\thiago.mauricio\\AppData\\Local\\Continuum\\anaconda3\\envs\\tera-jul2018\\lib\\site-packages\\sklearn\\linear_model\\logistic.py:433: FutureWarning: Default solver will be changed to 'lbfgs' in 0.22. Specify a solver to silence this warning.\n",
      "  FutureWarning)\n",
      "C:\\Users\\thiago.mauricio\\AppData\\Local\\Continuum\\anaconda3\\envs\\tera-jul2018\\lib\\site-packages\\sklearn\\linear_model\\logistic.py:433: FutureWarning: Default solver will be changed to 'lbfgs' in 0.22. Specify a solver to silence this warning.\n",
      "  FutureWarning)\n",
      "C:\\Users\\thiago.mauricio\\AppData\\Local\\Continuum\\anaconda3\\envs\\tera-jul2018\\lib\\site-packages\\sklearn\\linear_model\\logistic.py:433: FutureWarning: Default solver will be changed to 'lbfgs' in 0.22. Specify a solver to silence this warning.\n",
      "  FutureWarning)\n",
      "C:\\Users\\thiago.mauricio\\AppData\\Local\\Continuum\\anaconda3\\envs\\tera-jul2018\\lib\\site-packages\\sklearn\\linear_model\\logistic.py:433: FutureWarning: Default solver will be changed to 'lbfgs' in 0.22. Specify a solver to silence this warning.\n",
      "  FutureWarning)\n",
      "C:\\Users\\thiago.mauricio\\AppData\\Local\\Continuum\\anaconda3\\envs\\tera-jul2018\\lib\\site-packages\\sklearn\\linear_model\\logistic.py:433: FutureWarning: Default solver will be changed to 'lbfgs' in 0.22. Specify a solver to silence this warning.\n",
      "  FutureWarning)\n",
      "C:\\Users\\thiago.mauricio\\AppData\\Local\\Continuum\\anaconda3\\envs\\tera-jul2018\\lib\\site-packages\\sklearn\\linear_model\\logistic.py:433: FutureWarning: Default solver will be changed to 'lbfgs' in 0.22. Specify a solver to silence this warning.\n",
      "  FutureWarning)\n",
      "C:\\Users\\thiago.mauricio\\AppData\\Local\\Continuum\\anaconda3\\envs\\tera-jul2018\\lib\\site-packages\\sklearn\\linear_model\\logistic.py:433: FutureWarning: Default solver will be changed to 'lbfgs' in 0.22. Specify a solver to silence this warning.\n",
      "  FutureWarning)\n",
      "C:\\Users\\thiago.mauricio\\AppData\\Local\\Continuum\\anaconda3\\envs\\tera-jul2018\\lib\\site-packages\\sklearn\\linear_model\\logistic.py:433: FutureWarning: Default solver will be changed to 'lbfgs' in 0.22. Specify a solver to silence this warning.\n",
      "  FutureWarning)\n",
      "C:\\Users\\thiago.mauricio\\AppData\\Local\\Continuum\\anaconda3\\envs\\tera-jul2018\\lib\\site-packages\\sklearn\\linear_model\\logistic.py:433: FutureWarning: Default solver will be changed to 'lbfgs' in 0.22. Specify a solver to silence this warning.\n",
      "  FutureWarning)\n"
     ]
    }
   ],
   "source": [
    "#-- aplicando o algoritmo\n",
    "_ = selector.fit(X_train, y_train)"
   ]
  },
  {
   "cell_type": "code",
   "execution_count": 284,
   "metadata": {},
   "outputs": [
    {
     "data": {
      "text/html": [
       "<div>\n",
       "<style scoped>\n",
       "    .dataframe tbody tr th:only-of-type {\n",
       "        vertical-align: middle;\n",
       "    }\n",
       "\n",
       "    .dataframe tbody tr th {\n",
       "        vertical-align: top;\n",
       "    }\n",
       "\n",
       "    .dataframe thead th {\n",
       "        text-align: right;\n",
       "    }\n",
       "</style>\n",
       "<table border=\"1\" class=\"dataframe\">\n",
       "  <thead>\n",
       "    <tr style=\"text-align: right;\">\n",
       "      <th></th>\n",
       "      <th>Tempo de Casa</th>\n",
       "      <th>Idade Atual/ Desligamento</th>\n",
       "      <th>Idade na Admissão</th>\n",
       "      <th>2013/14 Goal Achievement</th>\n",
       "      <th>2014/15 Goal Achievement</th>\n",
       "      <th>2015/16 Goal Achievement</th>\n",
       "      <th>2016/17 Goal Achievement</th>\n",
       "      <th>Estado Civil_CASADO</th>\n",
       "      <th>Estado Civil_SEPARADO</th>\n",
       "      <th>Estado Civil_SOLTEIRO</th>\n",
       "      <th>Educação_ENSINO MÉDIO COMPLETO</th>\n",
       "      <th>Educação_MESTRADO</th>\n",
       "      <th>Educação_PÓS GRADUAÇÃO</th>\n",
       "      <th>Educação_SUPERIOR COMPLETO</th>\n",
       "      <th>Educação_TÉCNICO COMPLETO</th>\n",
       "      <th>Sexo_H</th>\n",
       "      <th>Sexo_M</th>\n",
       "    </tr>\n",
       "  </thead>\n",
       "  <tbody>\n",
       "    <tr>\n",
       "      <th>support</th>\n",
       "      <td>False</td>\n",
       "      <td>False</td>\n",
       "      <td>True</td>\n",
       "      <td>False</td>\n",
       "      <td>False</td>\n",
       "      <td>False</td>\n",
       "      <td>False</td>\n",
       "      <td>False</td>\n",
       "      <td>False</td>\n",
       "      <td>False</td>\n",
       "      <td>False</td>\n",
       "      <td>False</td>\n",
       "      <td>False</td>\n",
       "      <td>False</td>\n",
       "      <td>False</td>\n",
       "      <td>False</td>\n",
       "      <td>False</td>\n",
       "    </tr>\n",
       "  </tbody>\n",
       "</table>\n",
       "</div>"
      ],
      "text/plain": [
       "         Tempo de Casa  Idade Atual/ Desligamento  Idade na Admissão  \\\n",
       "support          False                      False               True   \n",
       "\n",
       "         2013/14 Goal Achievement  2014/15 Goal Achievement  \\\n",
       "support                     False                     False   \n",
       "\n",
       "         2015/16 Goal Achievement  2016/17 Goal Achievement  \\\n",
       "support                     False                     False   \n",
       "\n",
       "         Estado Civil_CASADO  Estado Civil_SEPARADO  Estado Civil_SOLTEIRO  \\\n",
       "support                False                  False                  False   \n",
       "\n",
       "         Educação_ENSINO MÉDIO COMPLETO  \\\n",
       "support                           False   \n",
       "\n",
       "         Educação_MESTRADO                             \\\n",
       "support                                         False   \n",
       "\n",
       "         Educação_PÓS GRADUAÇÃO                        \\\n",
       "support                                         False   \n",
       "\n",
       "         Educação_SUPERIOR COMPLETO  \\\n",
       "support                       False   \n",
       "\n",
       "         Educação_TÉCNICO COMPLETO                     Sexo_H  Sexo_M  \n",
       "support                                         False   False   False  "
      ]
     },
     "execution_count": 284,
     "metadata": {},
     "output_type": "execute_result"
    }
   ],
   "source": [
    "#-- apresentando a seleção\n",
    "pd.DataFrame(data=selector.support_,\n",
    "             columns=['support'],\n",
    "             index=X.columns).T"
   ]
  },
  {
   "cell_type": "code",
   "execution_count": 285,
   "metadata": {},
   "outputs": [
    {
     "data": {
      "text/html": [
       "<div>\n",
       "<style scoped>\n",
       "    .dataframe tbody tr th:only-of-type {\n",
       "        vertical-align: middle;\n",
       "    }\n",
       "\n",
       "    .dataframe tbody tr th {\n",
       "        vertical-align: top;\n",
       "    }\n",
       "\n",
       "    .dataframe thead th {\n",
       "        text-align: right;\n",
       "    }\n",
       "</style>\n",
       "<table border=\"1\" class=\"dataframe\">\n",
       "  <thead>\n",
       "    <tr style=\"text-align: right;\">\n",
       "      <th></th>\n",
       "      <th>Tempo de Casa</th>\n",
       "      <th>Idade Atual/ Desligamento</th>\n",
       "      <th>Idade na Admissão</th>\n",
       "      <th>2013/14 Goal Achievement</th>\n",
       "      <th>2014/15 Goal Achievement</th>\n",
       "      <th>2015/16 Goal Achievement</th>\n",
       "      <th>2016/17 Goal Achievement</th>\n",
       "      <th>Estado Civil_CASADO</th>\n",
       "      <th>Estado Civil_SEPARADO</th>\n",
       "      <th>Estado Civil_SOLTEIRO</th>\n",
       "      <th>Educação_ENSINO MÉDIO COMPLETO</th>\n",
       "      <th>Educação_MESTRADO</th>\n",
       "      <th>Educação_PÓS GRADUAÇÃO</th>\n",
       "      <th>Educação_SUPERIOR COMPLETO</th>\n",
       "      <th>Educação_TÉCNICO COMPLETO</th>\n",
       "      <th>Sexo_H</th>\n",
       "      <th>Sexo_M</th>\n",
       "    </tr>\n",
       "  </thead>\n",
       "  <tbody>\n",
       "    <tr>\n",
       "      <th>support</th>\n",
       "      <td>5</td>\n",
       "      <td>4</td>\n",
       "      <td>1</td>\n",
       "      <td>2</td>\n",
       "      <td>10</td>\n",
       "      <td>7</td>\n",
       "      <td>3</td>\n",
       "      <td>13</td>\n",
       "      <td>9</td>\n",
       "      <td>17</td>\n",
       "      <td>8</td>\n",
       "      <td>12</td>\n",
       "      <td>11</td>\n",
       "      <td>15</td>\n",
       "      <td>6</td>\n",
       "      <td>14</td>\n",
       "      <td>16</td>\n",
       "    </tr>\n",
       "  </tbody>\n",
       "</table>\n",
       "</div>"
      ],
      "text/plain": [
       "         Tempo de Casa  Idade Atual/ Desligamento  Idade na Admissão  \\\n",
       "support              5                          4                  1   \n",
       "\n",
       "         2013/14 Goal Achievement  2014/15 Goal Achievement  \\\n",
       "support                         2                        10   \n",
       "\n",
       "         2015/16 Goal Achievement  2016/17 Goal Achievement  \\\n",
       "support                         7                         3   \n",
       "\n",
       "         Estado Civil_CASADO  Estado Civil_SEPARADO  Estado Civil_SOLTEIRO  \\\n",
       "support                   13                      9                     17   \n",
       "\n",
       "         Educação_ENSINO MÉDIO COMPLETO  \\\n",
       "support                               8   \n",
       "\n",
       "         Educação_MESTRADO                             \\\n",
       "support                                            12   \n",
       "\n",
       "         Educação_PÓS GRADUAÇÃO                        \\\n",
       "support                                            11   \n",
       "\n",
       "         Educação_SUPERIOR COMPLETO  \\\n",
       "support                          15   \n",
       "\n",
       "         Educação_TÉCNICO COMPLETO                     Sexo_H  Sexo_M  \n",
       "support                                             6      14      16  "
      ]
     },
     "execution_count": 285,
     "metadata": {},
     "output_type": "execute_result"
    }
   ],
   "source": [
    "#-- apresentando a seleção\n",
    "pd.DataFrame(data=selector.ranking_,\n",
    "             columns=['support'],\n",
    "             index=X.columns).T"
   ]
  },
  {
   "cell_type": "code",
   "execution_count": 286,
   "metadata": {},
   "outputs": [
    {
     "data": {
      "text/plain": [
       "(53, 1)"
      ]
     },
     "execution_count": 286,
     "metadata": {},
     "output_type": "execute_result"
    }
   ],
   "source": [
    "#-- criando um novo dataset\n",
    "df_selection = selector.transform(X_train)\n",
    "df_selection.shape"
   ]
  },
  {
   "cell_type": "code",
   "execution_count": 287,
   "metadata": {},
   "outputs": [],
   "source": [
    "#-- selecionando a coluna de resposta\n",
    "y_pred_proba = selector.predict_proba(X_test)[:, 1]"
   ]
  },
  {
   "cell_type": "code",
   "execution_count": 288,
   "metadata": {},
   "outputs": [
    {
     "name": "stdout",
     "output_type": "stream",
     "text": [
      "log loss (test): 0.776\n"
     ]
    }
   ],
   "source": [
    "#-- pritando a métrica de log loss\n",
    "print(f'log loss (test): {log_loss(y_test, y_pred_proba):.3f}')"
   ]
  },
  {
   "cell_type": "code",
   "execution_count": 289,
   "metadata": {},
   "outputs": [
    {
     "data": {
      "image/png": "[encoded data removed]",
      "text/plain": [
       "<Figure size 576x576 with 1 Axes>"
      ]
     },
     "metadata": {
      "needs_background": "light"
     },
     "output_type": "display_data"
    }
   ],
   "source": [
    "#-- pritando a curva ROC\n",
    "auc_test = plot_roc(y_test, y_pred_proba)"
   ]
  },
  {
   "cell_type": "markdown",
   "metadata": {},
   "source": [
    "### Regularização com cross-validation"
   ]
  },
  {
   "cell_type": "code",
   "execution_count": 290,
   "metadata": {},
   "outputs": [],
   "source": [
    "#-- apricando cross validation\n",
    "logreg = LogisticRegressionCV(scoring='roc_auc')"
   ]
  },
  {
   "cell_type": "markdown",
   "metadata": {},
   "source": [
    "definições\n",
    "https://scikit-learn.org/stable/modules/cross_validation.html"
   ]
  },
  {
   "cell_type": "code",
   "execution_count": 291,
   "metadata": {},
   "outputs": [
    {
     "name": "stderr",
     "output_type": "stream",
     "text": [
      "C:\\Users\\thiago.mauricio\\AppData\\Local\\Continuum\\anaconda3\\envs\\tera-jul2018\\lib\\site-packages\\sklearn\\model_selection\\_split.py:2053: FutureWarning: You should specify a value for 'cv' instead of relying on the default value. The default value will change from 3 to 5 in version 0.22.\n",
      "  warnings.warn(CV_WARNING, FutureWarning)\n",
      "C:\\Users\\thiago.mauricio\\AppData\\Local\\Continuum\\anaconda3\\envs\\tera-jul2018\\lib\\site-packages\\sklearn\\linear_model\\logistic.py:758: ConvergenceWarning: lbfgs failed to converge. Increase the number of iterations.\n",
      "  \"of iterations.\", ConvergenceWarning)\n",
      "C:\\Users\\thiago.mauricio\\AppData\\Local\\Continuum\\anaconda3\\envs\\tera-jul2018\\lib\\site-packages\\sklearn\\linear_model\\logistic.py:758: ConvergenceWarning: lbfgs failed to converge. Increase the number of iterations.\n",
      "  \"of iterations.\", ConvergenceWarning)\n",
      "C:\\Users\\thiago.mauricio\\AppData\\Local\\Continuum\\anaconda3\\envs\\tera-jul2018\\lib\\site-packages\\sklearn\\linear_model\\logistic.py:758: ConvergenceWarning: lbfgs failed to converge. Increase the number of iterations.\n",
      "  \"of iterations.\", ConvergenceWarning)\n",
      "C:\\Users\\thiago.mauricio\\AppData\\Local\\Continuum\\anaconda3\\envs\\tera-jul2018\\lib\\site-packages\\sklearn\\linear_model\\logistic.py:758: ConvergenceWarning: lbfgs failed to converge. Increase the number of iterations.\n",
      "  \"of iterations.\", ConvergenceWarning)\n"
     ]
    },
    {
     "data": {
      "text/plain": [
       "array([0.00077426])"
      ]
     },
     "execution_count": 291,
     "metadata": {},
     "output_type": "execute_result"
    }
   ],
   "source": [
    "#-- aplicando o algoritmo\n",
    "logreg.fit(X_train, y_train)\n",
    "logreg.C_"
   ]
  },
  {
   "cell_type": "code",
   "execution_count": 292,
   "metadata": {},
   "outputs": [],
   "source": [
    "#-- selecionando a coluna de resposta\n",
    "y_pred_proba = logreg.predict_proba(X_test)[:, 1]"
   ]
  },
  {
   "cell_type": "code",
   "execution_count": 293,
   "metadata": {},
   "outputs": [
    {
     "name": "stdout",
     "output_type": "stream",
     "text": [
      "log loss (test): 0.740\n"
     ]
    }
   ],
   "source": [
    "#-- pritando a métrica de log loss\n",
    "print(f'log loss (test): {log_loss(y_test, y_pred_proba):.3f}')"
   ]
  },
  {
   "cell_type": "code",
   "execution_count": 294,
   "metadata": {},
   "outputs": [
    {
     "data": {
      "image/png": "[encoded data removed]",
      "text/plain": [
       "<Figure size 576x576 with 1 Axes>"
      ]
     },
     "metadata": {
      "needs_background": "light"
     },
     "output_type": "display_data"
    }
   ],
   "source": [
    "#-- pritando a curva ROC\n",
    "auc_test = plot_roc(y_test, y_pred_proba)"
   ]
  },
  {
   "cell_type": "markdown",
   "metadata": {},
   "source": [
    "## Salvando o modelo"
   ]
  },
  {
   "cell_type": "markdown",
   "metadata": {},
   "source": [
    "Vamos salvar o modelo para conseguirmos carregá-lo em análises futuras pós-aula.\n",
    "Para detalhes, veja a documentação do scikit-learn: [Model Persistence](http://scikit-learn.org/stable/modules/model_persistence.html)."
   ]
  },
  {
   "cell_type": "code",
   "execution_count": 295,
   "metadata": {},
   "outputs": [],
   "source": [
    "_ = joblib.dump(logreg, '../models/logreg.pkl') "
   ]
  },
  {
   "cell_type": "markdown",
   "metadata": {},
   "source": [
    "Vamos também salvar o dataset transformado, assim como foi utilizado pelo modelo final. Para facilitar a interpretação do modelo, salvaremos também uma versão para \"display\", que é sua versão antes da padronização dos dados."
   ]
  },
  {
   "cell_type": "code",
   "execution_count": 296,
   "metadata": {},
   "outputs": [],
   "source": [
    "df_standardized.to_csv('../data/Base Analytics Processed.csv', index=False)"
   ]
  },
  {
   "cell_type": "markdown",
   "metadata": {},
   "source": [
    "# Desafio"
   ]
  },
  {
   "cell_type": "markdown",
   "metadata": {},
   "source": [
    "> Montar um modelo de Regressão Logística para a Demissão"
   ]
  }
 ],
 "metadata": {
  "kernelspec": {
   "display_name": "Python 3",
   "language": "python",
   "name": "python3"
  },
  "language_info": {
   "codemirror_mode": {
    "name": "ipython",
    "version": 3
   },
   "file_extension": ".py",
   "mimetype": "text/x-python",
   "name": "python",
   "nbconvert_exporter": "python",
   "pygments_lexer": "ipython3",
   "version": "3.6.8"
  }
 },
 "nbformat": 4,
 "nbformat_minor": 2
}
