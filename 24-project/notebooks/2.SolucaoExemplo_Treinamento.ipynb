{
 "cells": [
  {
   "cell_type": "markdown",
   "metadata": {},
   "source": [
    "# Credit Card Fraud Detection"
   ]
  },
  {
   "cell_type": "markdown",
   "metadata": {},
   "source": [
    "[Anonymized credit card transactions labeled as fraudulent or genuine](https://www.kaggle.com/mlg-ulb/creditcardfraud)."
   ]
  },
  {
   "cell_type": "markdown",
   "metadata": {},
   "source": [
    "## Config"
   ]
  },
  {
   "cell_type": "code",
   "execution_count": 1,
   "metadata": {},
   "outputs": [],
   "source": [
    "import numpy as np\n",
    "import pandas as pd\n",
    "import matplotlib.pyplot as plt\n",
    "import seaborn as sns\n",
    "\n",
    "from plotting import (plot_confusion_matrix, precision_recall,\n",
    "                      multiple_histograms_plot)\n",
    "\n",
    "from evaluation import predictions_hist\n",
    "\n",
    "from auto_lgbm import (find_n_estimators, make_param_grids,\n",
    "                       grid_search)\n",
    "\n",
    "from lightgbm import LGBMClassifier\n",
    "from sklearn.metrics import classification_report\n",
    "\n",
    "from sklearn.externals import joblib"
   ]
  },
  {
   "cell_type": "code",
   "execution_count": 2,
   "metadata": {},
   "outputs": [],
   "source": [
    "%matplotlib inline"
   ]
  },
  {
   "cell_type": "code",
   "execution_count": 3,
   "metadata": {},
   "outputs": [],
   "source": [
    "# exibe todas as colunas do DataFrame\n",
    "pd.options.display.max_columns = 35\n",
    "\n",
    "# deixa de utilizar a notação científica\n",
    "pd.options.display.float_format = lambda x: '%.6f' % x"
   ]
  },
  {
   "cell_type": "code",
   "execution_count": 4,
   "metadata": {},
   "outputs": [],
   "source": [
    "train = pd.read_csv('../data/train.csv')\n",
    "test = pd.read_csv('../data/test.csv')"
   ]
  },
  {
   "cell_type": "code",
   "execution_count": 5,
   "metadata": {},
   "outputs": [],
   "source": [
    "X_train = train.drop(columns='Class')\n",
    "X_test = test.drop(columns='Class')\n",
    "\n",
    "y_train = train['Class']\n",
    "y_test = test['Class']"
   ]
  },
  {
   "cell_type": "code",
   "execution_count": 6,
   "metadata": {},
   "outputs": [
    {
     "data": {
      "text/html": [
       "<div>\n",
       "<style scoped>\n",
       "    .dataframe tbody tr th:only-of-type {\n",
       "        vertical-align: middle;\n",
       "    }\n",
       "\n",
       "    .dataframe tbody tr th {\n",
       "        vertical-align: top;\n",
       "    }\n",
       "\n",
       "    .dataframe thead th {\n",
       "        text-align: right;\n",
       "    }\n",
       "</style>\n",
       "<table border=\"1\" class=\"dataframe\">\n",
       "  <thead>\n",
       "    <tr style=\"text-align: right;\">\n",
       "      <th></th>\n",
       "      <th>Time</th>\n",
       "      <th>V1</th>\n",
       "      <th>V2</th>\n",
       "      <th>V3</th>\n",
       "      <th>V4</th>\n",
       "      <th>V5</th>\n",
       "      <th>V6</th>\n",
       "      <th>V7</th>\n",
       "      <th>V8</th>\n",
       "      <th>V9</th>\n",
       "      <th>V10</th>\n",
       "      <th>V11</th>\n",
       "      <th>V12</th>\n",
       "      <th>V13</th>\n",
       "      <th>V14</th>\n",
       "      <th>V15</th>\n",
       "      <th>V16</th>\n",
       "      <th>V17</th>\n",
       "      <th>V18</th>\n",
       "      <th>V19</th>\n",
       "      <th>V20</th>\n",
       "      <th>V21</th>\n",
       "      <th>V22</th>\n",
       "      <th>V23</th>\n",
       "      <th>V24</th>\n",
       "      <th>V25</th>\n",
       "      <th>V26</th>\n",
       "      <th>V27</th>\n",
       "      <th>V28</th>\n",
       "      <th>Amount</th>\n",
       "      <th>Time_daytime</th>\n",
       "      <th>Amount_1</th>\n",
       "      <th>Amount_99_99</th>\n",
       "      <th>Amount_0</th>\n",
       "    </tr>\n",
       "  </thead>\n",
       "  <tbody>\n",
       "    <tr>\n",
       "      <th>0</th>\n",
       "      <td>113921</td>\n",
       "      <td>-0.132066</td>\n",
       "      <td>0.107044</td>\n",
       "      <td>-0.650588</td>\n",
       "      <td>-0.996032</td>\n",
       "      <td>1.814333</td>\n",
       "      <td>1.740740</td>\n",
       "      <td>0.496852</td>\n",
       "      <td>0.633016</td>\n",
       "      <td>0.017181</td>\n",
       "      <td>-0.362707</td>\n",
       "      <td>0.527911</td>\n",
       "      <td>0.505396</td>\n",
       "      <td>-0.742107</td>\n",
       "      <td>0.492430</td>\n",
       "      <td>-0.163585</td>\n",
       "      <td>-0.950404</td>\n",
       "      <td>0.262987</td>\n",
       "      <td>-1.760767</td>\n",
       "      <td>-0.939037</td>\n",
       "      <td>-0.062612</td>\n",
       "      <td>-0.062489</td>\n",
       "      <td>0.005292</td>\n",
       "      <td>0.251519</td>\n",
       "      <td>-2.466810</td>\n",
       "      <td>-0.889690</td>\n",
       "      <td>0.337462</td>\n",
       "      <td>0.306395</td>\n",
       "      <td>0.074817</td>\n",
       "      <td>47.890000</td>\n",
       "      <td>0</td>\n",
       "      <td>False</td>\n",
       "      <td>False</td>\n",
       "      <td>False</td>\n",
       "    </tr>\n",
       "    <tr>\n",
       "      <th>1</th>\n",
       "      <td>135319</td>\n",
       "      <td>2.125994</td>\n",
       "      <td>0.014207</td>\n",
       "      <td>-1.514760</td>\n",
       "      <td>0.115021</td>\n",
       "      <td>0.598510</td>\n",
       "      <td>-0.333235</td>\n",
       "      <td>0.199289</td>\n",
       "      <td>-0.264353</td>\n",
       "      <td>0.384111</td>\n",
       "      <td>0.028747</td>\n",
       "      <td>-1.208334</td>\n",
       "      <td>0.838156</td>\n",
       "      <td>1.511476</td>\n",
       "      <td>-0.042076</td>\n",
       "      <td>-0.002894</td>\n",
       "      <td>0.080270</td>\n",
       "      <td>-0.658905</td>\n",
       "      <td>-0.747678</td>\n",
       "      <td>0.431762</td>\n",
       "      <td>-0.086076</td>\n",
       "      <td>-0.329368</td>\n",
       "      <td>-0.788150</td>\n",
       "      <td>0.267730</td>\n",
       "      <td>0.066122</td>\n",
       "      <td>-0.135785</td>\n",
       "      <td>0.203841</td>\n",
       "      <td>-0.068267</td>\n",
       "      <td>-0.057678</td>\n",
       "      <td>1.980000</td>\n",
       "      <td>1</td>\n",
       "      <td>False</td>\n",
       "      <td>False</td>\n",
       "      <td>False</td>\n",
       "    </tr>\n",
       "    <tr>\n",
       "      <th>2</th>\n",
       "      <td>125498</td>\n",
       "      <td>-0.086694</td>\n",
       "      <td>0.166240</td>\n",
       "      <td>1.573127</td>\n",
       "      <td>0.687266</td>\n",
       "      <td>0.222359</td>\n",
       "      <td>1.102606</td>\n",
       "      <td>1.575093</td>\n",
       "      <td>-1.098608</td>\n",
       "      <td>0.763887</td>\n",
       "      <td>1.404677</td>\n",
       "      <td>1.346697</td>\n",
       "      <td>0.140822</td>\n",
       "      <td>0.159637</td>\n",
       "      <td>-1.147153</td>\n",
       "      <td>0.664997</td>\n",
       "      <td>-0.133032</td>\n",
       "      <td>-1.267675</td>\n",
       "      <td>0.818995</td>\n",
       "      <td>0.405276</td>\n",
       "      <td>0.052960</td>\n",
       "      <td>0.015324</td>\n",
       "      <td>1.063663</td>\n",
       "      <td>-0.410841</td>\n",
       "      <td>0.722723</td>\n",
       "      <td>-0.171733</td>\n",
       "      <td>-0.613543</td>\n",
       "      <td>-1.201571</td>\n",
       "      <td>-1.139931</td>\n",
       "      <td>170.100000</td>\n",
       "      <td>1</td>\n",
       "      <td>False</td>\n",
       "      <td>False</td>\n",
       "      <td>False</td>\n",
       "    </tr>\n",
       "    <tr>\n",
       "      <th>3</th>\n",
       "      <td>33520</td>\n",
       "      <td>1.352339</td>\n",
       "      <td>-0.534984</td>\n",
       "      <td>0.555143</td>\n",
       "      <td>-0.629355</td>\n",
       "      <td>-1.144170</td>\n",
       "      <td>-0.852967</td>\n",
       "      <td>-0.642128</td>\n",
       "      <td>-0.032659</td>\n",
       "      <td>-0.654482</td>\n",
       "      <td>0.619206</td>\n",
       "      <td>0.103615</td>\n",
       "      <td>-1.067971</td>\n",
       "      <td>-1.227629</td>\n",
       "      <td>0.197196</td>\n",
       "      <td>1.151364</td>\n",
       "      <td>0.846905</td>\n",
       "      <td>0.710309</td>\n",
       "      <td>-1.963506</td>\n",
       "      <td>0.130406</td>\n",
       "      <td>-0.066712</td>\n",
       "      <td>-0.014814</td>\n",
       "      <td>-0.180379</td>\n",
       "      <td>0.178112</td>\n",
       "      <td>0.347720</td>\n",
       "      <td>0.151810</td>\n",
       "      <td>-0.404361</td>\n",
       "      <td>0.013746</td>\n",
       "      <td>0.016152</td>\n",
       "      <td>5.960000</td>\n",
       "      <td>1</td>\n",
       "      <td>False</td>\n",
       "      <td>False</td>\n",
       "      <td>False</td>\n",
       "    </tr>\n",
       "    <tr>\n",
       "      <th>4</th>\n",
       "      <td>145152</td>\n",
       "      <td>-1.526760</td>\n",
       "      <td>0.647782</td>\n",
       "      <td>0.615391</td>\n",
       "      <td>-0.561114</td>\n",
       "      <td>0.836950</td>\n",
       "      <td>-0.514251</td>\n",
       "      <td>0.984325</td>\n",
       "      <td>-0.097430</td>\n",
       "      <td>-0.062634</td>\n",
       "      <td>-1.033567</td>\n",
       "      <td>-0.706095</td>\n",
       "      <td>-0.612354</td>\n",
       "      <td>-0.336939</td>\n",
       "      <td>-1.384147</td>\n",
       "      <td>0.314279</td>\n",
       "      <td>0.552201</td>\n",
       "      <td>0.512582</td>\n",
       "      <td>0.370183</td>\n",
       "      <td>-0.163736</td>\n",
       "      <td>-0.073333</td>\n",
       "      <td>-0.221533</td>\n",
       "      <td>-0.393158</td>\n",
       "      <td>-0.214990</td>\n",
       "      <td>0.588447</td>\n",
       "      <td>0.679496</td>\n",
       "      <td>0.518434</td>\n",
       "      <td>0.065022</td>\n",
       "      <td>0.147294</td>\n",
       "      <td>89.950000</td>\n",
       "      <td>1</td>\n",
       "      <td>False</td>\n",
       "      <td>False</td>\n",
       "      <td>False</td>\n",
       "    </tr>\n",
       "  </tbody>\n",
       "</table>\n",
       "</div>"
      ],
      "text/plain": [
       "     Time        V1        V2        V3        V4        V5        V6  \\\n",
       "0  113921 -0.132066  0.107044 -0.650588 -0.996032  1.814333  1.740740   \n",
       "1  135319  2.125994  0.014207 -1.514760  0.115021  0.598510 -0.333235   \n",
       "2  125498 -0.086694  0.166240  1.573127  0.687266  0.222359  1.102606   \n",
       "3   33520  1.352339 -0.534984  0.555143 -0.629355 -1.144170 -0.852967   \n",
       "4  145152 -1.526760  0.647782  0.615391 -0.561114  0.836950 -0.514251   \n",
       "\n",
       "         V7        V8        V9       V10       V11       V12       V13  \\\n",
       "0  0.496852  0.633016  0.017181 -0.362707  0.527911  0.505396 -0.742107   \n",
       "1  0.199289 -0.264353  0.384111  0.028747 -1.208334  0.838156  1.511476   \n",
       "2  1.575093 -1.098608  0.763887  1.404677  1.346697  0.140822  0.159637   \n",
       "3 -0.642128 -0.032659 -0.654482  0.619206  0.103615 -1.067971 -1.227629   \n",
       "4  0.984325 -0.097430 -0.062634 -1.033567 -0.706095 -0.612354 -0.336939   \n",
       "\n",
       "        V14       V15       V16       V17       V18       V19       V20  \\\n",
       "0  0.492430 -0.163585 -0.950404  0.262987 -1.760767 -0.939037 -0.062612   \n",
       "1 -0.042076 -0.002894  0.080270 -0.658905 -0.747678  0.431762 -0.086076   \n",
       "2 -1.147153  0.664997 -0.133032 -1.267675  0.818995  0.405276  0.052960   \n",
       "3  0.197196  1.151364  0.846905  0.710309 -1.963506  0.130406 -0.066712   \n",
       "4 -1.384147  0.314279  0.552201  0.512582  0.370183 -0.163736 -0.073333   \n",
       "\n",
       "        V21       V22       V23       V24       V25       V26       V27  \\\n",
       "0 -0.062489  0.005292  0.251519 -2.466810 -0.889690  0.337462  0.306395   \n",
       "1 -0.329368 -0.788150  0.267730  0.066122 -0.135785  0.203841 -0.068267   \n",
       "2  0.015324  1.063663 -0.410841  0.722723 -0.171733 -0.613543 -1.201571   \n",
       "3 -0.014814 -0.180379  0.178112  0.347720  0.151810 -0.404361  0.013746   \n",
       "4 -0.221533 -0.393158 -0.214990  0.588447  0.679496  0.518434  0.065022   \n",
       "\n",
       "        V28     Amount  Time_daytime  Amount_1  Amount_99_99  Amount_0  \n",
       "0  0.074817  47.890000             0     False         False     False  \n",
       "1 -0.057678   1.980000             1     False         False     False  \n",
       "2 -1.139931 170.100000             1     False         False     False  \n",
       "3  0.016152   5.960000             1     False         False     False  \n",
       "4  0.147294  89.950000             1     False         False     False  "
      ]
     },
     "execution_count": 6,
     "metadata": {},
     "output_type": "execute_result"
    }
   ],
   "source": [
    "X_train.head()"
   ]
  },
  {
   "cell_type": "markdown",
   "metadata": {},
   "source": [
    "## Modelagem"
   ]
  },
  {
   "cell_type": "markdown",
   "metadata": {},
   "source": [
    "### Gradient Boosting (LightGBM)"
   ]
  },
  {
   "cell_type": "code",
   "execution_count": 7,
   "metadata": {},
   "outputs": [],
   "source": [
    "lgbm = LGBMClassifier(class_weight='balanced', verbose=-1)"
   ]
  },
  {
   "cell_type": "code",
   "execution_count": 8,
   "metadata": {},
   "outputs": [
    {
     "name": "stderr",
     "output_type": "stream",
     "text": [
      "learning rates: 100%|██████████| 5/5 [02:31<00:00, 30.24s/it]\n"
     ]
    }
   ],
   "source": [
    "n_estimators_result = find_n_estimators(lgbm, X_train, y_train,\n",
    "                                        eval_metric='binary_logloss',\n",
    "                                        learning_rates = [0.003, 0.01, \n",
    "                                                          0.03, 0.1, 0.3],\n",
    "                                        random_state=0)"
   ]
  },
  {
   "cell_type": "code",
   "execution_count": 9,
   "metadata": {},
   "outputs": [
    {
     "data": {
      "text/html": [
       "<div>\n",
       "<style scoped>\n",
       "    .dataframe tbody tr th:only-of-type {\n",
       "        vertical-align: middle;\n",
       "    }\n",
       "\n",
       "    .dataframe tbody tr th {\n",
       "        vertical-align: top;\n",
       "    }\n",
       "\n",
       "    .dataframe thead th {\n",
       "        text-align: right;\n",
       "    }\n",
       "</style>\n",
       "<table border=\"1\" class=\"dataframe\">\n",
       "  <thead>\n",
       "    <tr style=\"text-align: right;\">\n",
       "      <th></th>\n",
       "      <th>learning_rate</th>\n",
       "      <th>best_score</th>\n",
       "      <th>best_n_estimators</th>\n",
       "    </tr>\n",
       "  </thead>\n",
       "  <tbody>\n",
       "    <tr>\n",
       "      <th>0</th>\n",
       "      <td>0.003000</td>\n",
       "      <td>0.002468</td>\n",
       "      <td>3340</td>\n",
       "    </tr>\n",
       "    <tr>\n",
       "      <th>1</th>\n",
       "      <td>0.010000</td>\n",
       "      <td>0.002449</td>\n",
       "      <td>1016</td>\n",
       "    </tr>\n",
       "    <tr>\n",
       "      <th>2</th>\n",
       "      <td>0.030000</td>\n",
       "      <td>0.002457</td>\n",
       "      <td>339</td>\n",
       "    </tr>\n",
       "    <tr>\n",
       "      <th>3</th>\n",
       "      <td>0.100000</td>\n",
       "      <td>0.002580</td>\n",
       "      <td>87</td>\n",
       "    </tr>\n",
       "    <tr>\n",
       "      <th>4</th>\n",
       "      <td>0.300000</td>\n",
       "      <td>0.003309</td>\n",
       "      <td>27</td>\n",
       "    </tr>\n",
       "  </tbody>\n",
       "</table>\n",
       "</div>"
      ],
      "text/plain": [
       "   learning_rate  best_score  best_n_estimators\n",
       "0       0.003000    0.002468               3340\n",
       "1       0.010000    0.002449               1016\n",
       "2       0.030000    0.002457                339\n",
       "3       0.100000    0.002580                 87\n",
       "4       0.300000    0.003309                 27"
      ]
     },
     "execution_count": 9,
     "metadata": {},
     "output_type": "execute_result"
    }
   ],
   "source": [
    "n_estimators_result"
   ]
  },
  {
   "cell_type": "code",
   "execution_count": 10,
   "metadata": {},
   "outputs": [
    {
     "data": {
      "text/plain": [
       "[{'learning_rate': [0.0030000000000000001], 'n_estimators': [3340]},\n",
       " {'learning_rate': [0.01], 'n_estimators': [1016]},\n",
       " {'learning_rate': [0.029999999999999999], 'n_estimators': [339]}]"
      ]
     },
     "execution_count": 10,
     "metadata": {},
     "output_type": "execute_result"
    }
   ],
   "source": [
    "param_grids = make_param_grids(n_estimators_result, top=3)\n",
    "param_grids"
   ]
  },
  {
   "cell_type": "code",
   "execution_count": 11,
   "metadata": {
    "scrolled": true
   },
   "outputs": [
    {
     "name": "stdout",
     "output_type": "stream",
     "text": [
      "Fitting 3 folds for each of 3 candidates, totalling 9 fits\n",
      "[CV] learning_rate=0.003, n_estimators=3340 ..........................\n",
      "[CV] ........... learning_rate=0.003, n_estimators=3340, total= 1.6min\n",
      "[CV] learning_rate=0.003, n_estimators=3340 ..........................\n"
     ]
    },
    {
     "name": "stderr",
     "output_type": "stream",
     "text": [
      "[Parallel(n_jobs=1)]: Done   1 out of   1 | elapsed:  2.5min remaining:    0.0s\n"
     ]
    },
    {
     "name": "stdout",
     "output_type": "stream",
     "text": [
      "[CV] ........... learning_rate=0.003, n_estimators=3340, total= 1.4min\n",
      "[CV] learning_rate=0.003, n_estimators=3340 ..........................\n",
      "[CV] ........... learning_rate=0.003, n_estimators=3340, total= 1.7min\n",
      "[CV] learning_rate=0.01, n_estimators=1016 ...........................\n",
      "[CV] ............ learning_rate=0.01, n_estimators=1016, total=  26.9s\n",
      "[CV] learning_rate=0.01, n_estimators=1016 ...........................\n",
      "[CV] ............ learning_rate=0.01, n_estimators=1016, total=  23.2s\n",
      "[CV] learning_rate=0.01, n_estimators=1016 ...........................\n",
      "[CV] ............ learning_rate=0.01, n_estimators=1016, total=  29.0s\n",
      "[CV] learning_rate=0.03, n_estimators=339 ............................\n",
      "[CV] ............. learning_rate=0.03, n_estimators=339, total=  10.4s\n",
      "[CV] learning_rate=0.03, n_estimators=339 ............................\n",
      "[CV] ............. learning_rate=0.03, n_estimators=339, total=   9.8s\n",
      "[CV] learning_rate=0.03, n_estimators=339 ............................\n",
      "[CV] ............. learning_rate=0.03, n_estimators=339, total=   8.4s\n"
     ]
    },
    {
     "name": "stderr",
     "output_type": "stream",
     "text": [
      "[Parallel(n_jobs=1)]: Done   9 out of   9 | elapsed:  9.4min finished\n",
      "/Users/gabrielcs/anaconda/envs/tera-fev2019/lib/python3.6/site-packages/sklearn/model_selection/_search.py:761: DeprecationWarning: The grid_scores_ attribute was deprecated in version 0.18 in favor of the more elaborate cv_results_ attribute. The grid_scores_ attribute will not be available from 0.20\n",
      "  DeprecationWarning)\n"
     ]
    }
   ],
   "source": [
    "grid_search_result, lgbm_best = grid_search(lgbm, X_train, y_train, \n",
    "                                            param_grids, scoring='neg_log_loss',\n",
    "                                            scoring_alias='log_loss')"
   ]
  },
  {
   "cell_type": "code",
   "execution_count": 12,
   "metadata": {},
   "outputs": [
    {
     "data": {
      "text/html": [
       "<div>\n",
       "<style scoped>\n",
       "    .dataframe tbody tr th:only-of-type {\n",
       "        vertical-align: middle;\n",
       "    }\n",
       "\n",
       "    .dataframe tbody tr th {\n",
       "        vertical-align: top;\n",
       "    }\n",
       "\n",
       "    .dataframe thead th {\n",
       "        text-align: right;\n",
       "    }\n",
       "</style>\n",
       "<table border=\"1\" class=\"dataframe\">\n",
       "  <thead>\n",
       "    <tr style=\"text-align: right;\">\n",
       "      <th></th>\n",
       "      <th>mean_log_loss</th>\n",
       "      <th>std</th>\n",
       "      <th>n_estimators</th>\n",
       "      <th>learning_rate</th>\n",
       "    </tr>\n",
       "  </thead>\n",
       "  <tbody>\n",
       "    <tr>\n",
       "      <th>0</th>\n",
       "      <td>0.003002</td>\n",
       "      <td>0.000172</td>\n",
       "      <td>3340</td>\n",
       "      <td>0.003000</td>\n",
       "    </tr>\n",
       "    <tr>\n",
       "      <th>2</th>\n",
       "      <td>0.003006</td>\n",
       "      <td>0.000201</td>\n",
       "      <td>339</td>\n",
       "      <td>0.030000</td>\n",
       "    </tr>\n",
       "    <tr>\n",
       "      <th>1</th>\n",
       "      <td>0.003040</td>\n",
       "      <td>0.000181</td>\n",
       "      <td>1016</td>\n",
       "      <td>0.010000</td>\n",
       "    </tr>\n",
       "  </tbody>\n",
       "</table>\n",
       "</div>"
      ],
      "text/plain": [
       "   mean_log_loss      std  n_estimators  learning_rate\n",
       "0       0.003002 0.000172          3340       0.003000\n",
       "2       0.003006 0.000201           339       0.030000\n",
       "1       0.003040 0.000181          1016       0.010000"
      ]
     },
     "execution_count": 12,
     "metadata": {},
     "output_type": "execute_result"
    }
   ],
   "source": [
    "grid_search_result"
   ]
  },
  {
   "cell_type": "markdown",
   "metadata": {},
   "source": [
    "## Avaliação do modelo"
   ]
  },
  {
   "cell_type": "code",
   "execution_count": 13,
   "metadata": {},
   "outputs": [],
   "source": [
    "lgbm_y_score = lgbm_best.predict_proba(X_test)[:, 1]"
   ]
  },
  {
   "cell_type": "code",
   "execution_count": 14,
   "metadata": {},
   "outputs": [
    {
     "data": {
      "image/png": "[encoded data removed]",
      "text/plain": [
       "<Figure size 1080x576 with 1 Axes>"
      ]
     },
     "metadata": {
      "needs_background": "light"
     },
     "output_type": "display_data"
    }
   ],
   "source": [
    "_ = predictions_hist(lgbm_y_score, y_test, density=True)"
   ]
  },
  {
   "cell_type": "code",
   "execution_count": 15,
   "metadata": {},
   "outputs": [
    {
     "data": {
      "image/png": "[encoded data removed]",
      "text/plain": [
       "<Figure size 432x288 with 1 Axes>"
      ]
     },
     "metadata": {
      "needs_background": "light"
     },
     "output_type": "display_data"
    }
   ],
   "source": [
    "lgbm_results = precision_recall(y_test, lgbm_y_score)"
   ]
  },
  {
   "cell_type": "code",
   "execution_count": 16,
   "metadata": {},
   "outputs": [],
   "source": [
    "lgbm_report = lgbm_results.sort_values(by='f1_score', ascending=False)"
   ]
  },
  {
   "cell_type": "code",
   "execution_count": 17,
   "metadata": {},
   "outputs": [
    {
     "data": {
      "text/html": [
       "<div>\n",
       "<style scoped>\n",
       "    .dataframe tbody tr th:only-of-type {\n",
       "        vertical-align: middle;\n",
       "    }\n",
       "\n",
       "    .dataframe tbody tr th {\n",
       "        vertical-align: top;\n",
       "    }\n",
       "\n",
       "    .dataframe thead th {\n",
       "        text-align: right;\n",
       "    }\n",
       "</style>\n",
       "<table border=\"1\" class=\"dataframe\">\n",
       "  <thead>\n",
       "    <tr style=\"text-align: right;\">\n",
       "      <th></th>\n",
       "      <th>precision</th>\n",
       "      <th>recall</th>\n",
       "      <th>threshold</th>\n",
       "      <th>f1_score</th>\n",
       "    </tr>\n",
       "  </thead>\n",
       "  <tbody>\n",
       "    <tr>\n",
       "      <th>77869</th>\n",
       "      <td>0.944444</td>\n",
       "      <td>0.809524</td>\n",
       "      <td>0.942382</td>\n",
       "      <td>0.871795</td>\n",
       "    </tr>\n",
       "    <tr>\n",
       "      <th>77868</th>\n",
       "      <td>0.937008</td>\n",
       "      <td>0.809524</td>\n",
       "      <td>0.899893</td>\n",
       "      <td>0.868613</td>\n",
       "    </tr>\n",
       "    <tr>\n",
       "      <th>77870</th>\n",
       "      <td>0.944000</td>\n",
       "      <td>0.802721</td>\n",
       "      <td>0.955371</td>\n",
       "      <td>0.867647</td>\n",
       "    </tr>\n",
       "    <tr>\n",
       "      <th>77867</th>\n",
       "      <td>0.929688</td>\n",
       "      <td>0.809524</td>\n",
       "      <td>0.840916</td>\n",
       "      <td>0.865455</td>\n",
       "    </tr>\n",
       "    <tr>\n",
       "      <th>77871</th>\n",
       "      <td>0.943548</td>\n",
       "      <td>0.795918</td>\n",
       "      <td>0.966973</td>\n",
       "      <td>0.863469</td>\n",
       "    </tr>\n",
       "    <tr>\n",
       "      <th>77873</th>\n",
       "      <td>0.950820</td>\n",
       "      <td>0.789116</td>\n",
       "      <td>0.969610</td>\n",
       "      <td>0.862454</td>\n",
       "    </tr>\n",
       "    <tr>\n",
       "      <th>77866</th>\n",
       "      <td>0.922481</td>\n",
       "      <td>0.809524</td>\n",
       "      <td>0.821845</td>\n",
       "      <td>0.862319</td>\n",
       "    </tr>\n",
       "    <tr>\n",
       "      <th>77872</th>\n",
       "      <td>0.943089</td>\n",
       "      <td>0.789116</td>\n",
       "      <td>0.968762</td>\n",
       "      <td>0.859259</td>\n",
       "    </tr>\n",
       "    <tr>\n",
       "      <th>77865</th>\n",
       "      <td>0.915385</td>\n",
       "      <td>0.809524</td>\n",
       "      <td>0.809978</td>\n",
       "      <td>0.859206</td>\n",
       "    </tr>\n",
       "    <tr>\n",
       "      <th>77874</th>\n",
       "      <td>0.950413</td>\n",
       "      <td>0.782313</td>\n",
       "      <td>0.974833</td>\n",
       "      <td>0.858209</td>\n",
       "    </tr>\n",
       "    <tr>\n",
       "      <th>77864</th>\n",
       "      <td>0.908397</td>\n",
       "      <td>0.809524</td>\n",
       "      <td>0.762382</td>\n",
       "      <td>0.856115</td>\n",
       "    </tr>\n",
       "    <tr>\n",
       "      <th>77875</th>\n",
       "      <td>0.950000</td>\n",
       "      <td>0.775510</td>\n",
       "      <td>0.977366</td>\n",
       "      <td>0.853933</td>\n",
       "    </tr>\n",
       "    <tr>\n",
       "      <th>77863</th>\n",
       "      <td>0.901515</td>\n",
       "      <td>0.809524</td>\n",
       "      <td>0.754523</td>\n",
       "      <td>0.853047</td>\n",
       "    </tr>\n",
       "    <tr>\n",
       "      <th>77877</th>\n",
       "      <td>0.957627</td>\n",
       "      <td>0.768707</td>\n",
       "      <td>0.979605</td>\n",
       "      <td>0.852830</td>\n",
       "    </tr>\n",
       "    <tr>\n",
       "      <th>77879</th>\n",
       "      <td>0.965517</td>\n",
       "      <td>0.761905</td>\n",
       "      <td>0.985706</td>\n",
       "      <td>0.851711</td>\n",
       "    </tr>\n",
       "    <tr>\n",
       "      <th>77862</th>\n",
       "      <td>0.894737</td>\n",
       "      <td>0.809524</td>\n",
       "      <td>0.745228</td>\n",
       "      <td>0.850000</td>\n",
       "    </tr>\n",
       "    <tr>\n",
       "      <th>77876</th>\n",
       "      <td>0.949580</td>\n",
       "      <td>0.768707</td>\n",
       "      <td>0.979224</td>\n",
       "      <td>0.849624</td>\n",
       "    </tr>\n",
       "    <tr>\n",
       "      <th>77878</th>\n",
       "      <td>0.957265</td>\n",
       "      <td>0.761905</td>\n",
       "      <td>0.982957</td>\n",
       "      <td>0.848485</td>\n",
       "    </tr>\n",
       "  </tbody>\n",
       "</table>\n",
       "</div>"
      ],
      "text/plain": [
       "       precision   recall  threshold  f1_score\n",
       "77869   0.944444 0.809524   0.942382  0.871795\n",
       "77868   0.937008 0.809524   0.899893  0.868613\n",
       "77870   0.944000 0.802721   0.955371  0.867647\n",
       "77867   0.929688 0.809524   0.840916  0.865455\n",
       "77871   0.943548 0.795918   0.966973  0.863469\n",
       "77873   0.950820 0.789116   0.969610  0.862454\n",
       "77866   0.922481 0.809524   0.821845  0.862319\n",
       "77872   0.943089 0.789116   0.968762  0.859259\n",
       "77865   0.915385 0.809524   0.809978  0.859206\n",
       "77874   0.950413 0.782313   0.974833  0.858209\n",
       "77864   0.908397 0.809524   0.762382  0.856115\n",
       "77875   0.950000 0.775510   0.977366  0.853933\n",
       "77863   0.901515 0.809524   0.754523  0.853047\n",
       "77877   0.957627 0.768707   0.979605  0.852830\n",
       "77879   0.965517 0.761905   0.985706  0.851711\n",
       "77862   0.894737 0.809524   0.745228  0.850000\n",
       "77876   0.949580 0.768707   0.979224  0.849624\n",
       "77878   0.957265 0.761905   0.982957  0.848485"
      ]
     },
     "execution_count": 17,
     "metadata": {},
     "output_type": "execute_result"
    }
   ],
   "source": [
    "lgbm_report.head(18)"
   ]
  },
  {
   "cell_type": "code",
   "execution_count": 18,
   "metadata": {},
   "outputs": [
    {
     "data": {
      "text/plain": [
       "0.94238167581086318"
      ]
     },
     "execution_count": 18,
     "metadata": {},
     "output_type": "execute_result"
    }
   ],
   "source": [
    "lgbm_threshold = lgbm_report.loc[lgbm_report['f1_score'].idxmax(), \n",
    "                                 'threshold']\n",
    "lgbm_threshold"
   ]
  },
  {
   "cell_type": "code",
   "execution_count": 19,
   "metadata": {},
   "outputs": [],
   "source": [
    "lgbm_y_pred = lgbm_y_score >= lgbm_threshold"
   ]
  },
  {
   "cell_type": "code",
   "execution_count": 20,
   "metadata": {},
   "outputs": [
    {
     "data": {
      "image/png": "[encoded data removed]",
      "text/plain": [
       "<Figure size 432x288 with 2 Axes>"
      ]
     },
     "metadata": {
      "needs_background": "light"
     },
     "output_type": "display_data"
    }
   ],
   "source": [
    "plot_confusion_matrix(y_test, lgbm_y_pred, \n",
    "                      class_names=[0, 1])"
   ]
  },
  {
   "cell_type": "code",
   "execution_count": 21,
   "metadata": {},
   "outputs": [
    {
     "name": "stdout",
     "output_type": "stream",
     "text": [
      "             precision    recall  f1-score   support\n",
      "\n",
      "          0       1.00      1.00      1.00     85296\n",
      "          1       0.94      0.81      0.87       147\n",
      "\n",
      "avg / total       1.00      1.00      1.00     85443\n",
      "\n"
     ]
    }
   ],
   "source": [
    "print(classification_report(y_test, lgbm_y_pred))"
   ]
  },
  {
   "cell_type": "markdown",
   "metadata": {},
   "source": [
    "### Salvando o modelo"
   ]
  },
  {
   "cell_type": "code",
   "execution_count": 22,
   "metadata": {},
   "outputs": [],
   "source": [
    "_ = joblib.dump(lgbm_best, '../models/lgbm.pkl')"
   ]
  }
 ],
 "metadata": {
  "kernelspec": {
   "display_name": "Python 3",
   "language": "python",
   "name": "python3"
  },
  "language_info": {
   "codemirror_mode": {
    "name": "ipython",
    "version": 3
   },
   "file_extension": ".py",
   "mimetype": "text/x-python",
   "name": "python",
   "nbconvert_exporter": "python",
   "pygments_lexer": "ipython3",
   "version": "3.6.5"
  },
  "toc": {
   "base_numbering": 1,
   "nav_menu": {},
   "number_sections": true,
   "sideBar": false,
   "skip_h1_title": true,
   "title_cell": "Table of Contents",
   "title_sidebar": "Contents",
   "toc_cell": false,
   "toc_position": {
    "height": "100px",
    "left": "1179px",
    "top": "718px",
    "width": "165px"
   },
   "toc_section_display": true,
   "toc_window_display": true
  }
 },
 "nbformat": 4,
 "nbformat_minor": 2
}
