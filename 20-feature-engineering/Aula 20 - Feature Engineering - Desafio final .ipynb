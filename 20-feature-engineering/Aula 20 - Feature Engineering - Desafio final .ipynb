{
 "cells": [
  {
   "cell_type": "markdown",
   "metadata": {},
   "source": [
    "## Aula 20 - Feature Engineering - Parte 3"
   ]
  },
  {
   "cell_type": "markdown",
   "metadata": {},
   "source": [
    "### Organizando a bagunça..."
   ]
  },
  {
   "cell_type": "code",
   "execution_count": null,
   "metadata": {},
   "outputs": [],
   "source": [
    "import pandas as pd\n",
    "from sklearn.preprocessing import OneHotEncoder, LabelEncoder\n",
    "from sklearn.## Aula 20 - Feature Engineeringpreprocessing import StandardScaler, RobustScaler\n",
    "from sklearn.model_selection import train_test_split\n",
    "from sklearn.linear_model import LogisticRegression\n",
    "from confusion_matrix import plot_confusion_matrix"
   ]
  },
  {
   "cell_type": "code",
   "execution_count": null,
   "metadata": {},
   "outputs": [],
   "source": [
    "def load_data(path):\n",
    "    return #dataframe lido a partir do path passado por parâmetro"
   ]
  },
  {
   "cell_type": "code",
   "execution_count": null,
   "metadata": {},
   "outputs": [],
   "source": [
    "def filter_numeric(data):\n",
    "    numerics = \n",
    "    data_num = \n",
    "    data_num = \n",
    "    return data_num"
   ]
  },
  {
   "cell_type": "code",
   "execution_count": null,
   "metadata": {},
   "outputs": [],
   "source": [
    "def fillnas_mean(data):\n",
    "    #cuidado com a coluna target!!!\n",
    "    return data"
   ]
  },
  {
   "cell_type": "code",
   "execution_count": null,
   "metadata": {},
   "outputs": [],
   "source": [
    "def apply_scaler(data, target_col):\n",
    "    target = data[target_col]\n",
    "    data2scale = data.drop(columns='PROMOVIDO')\n",
    "    scaler = \n",
    "    data_scaled =\n",
    "    # nao precisaria necessariamente reincluir o target!\n",
    "    data_scaled[target_col] = target\n",
    "    return data_scaled"
   ]
  },
  {
   "cell_type": "code",
   "execution_count": null,
   "metadata": {},
   "outputs": [],
   "source": [
    "def add_cat_onehot(data, cat_series, cat_label):\n",
    "    # Label encoder\n",
    "    le = LabelEncoder()\n",
    "    cat_intlabels = le.fit_transform(cat_series)\n",
    "    data[cat_label] = cat_intlabels\n",
    "    \n",
    "    #One Hot Encoder\n",
    "    ohe = OneHotEncoder()\n",
    "    cat_cols = ohe.fit_transform(data[[cat_label]]).toarray()\n",
    "    data.drop(columns=[cat_label], inplace = True)\n",
    "    \n",
    "    #Add to data df\n",
    "    cat_cols_labels = [cat_label+str(cat_intlabel) for cat_intlabel in set(cat_intlabels)]\n",
    "    cat_df = pd.DataFrame(cat_cols, columns=cat_cols_labels)\n",
    "    return pd.concat([data,cat_df], axis=1)"
   ]
  },
  {
   "cell_type": "code",
   "execution_count": null,
   "metadata": {},
   "outputs": [],
   "source": [
    "# Insira funções que utilizam outros encodings..."
   ]
  },
  {
   "cell_type": "code",
   "execution_count": null,
   "metadata": {},
   "outputs": [],
   "source": [
    "def train_predict_logreg(data, target_col):\n",
    "    \n",
    "    return logreg.predict(X_test),y_test"
   ]
  },
  {
   "cell_type": "code",
   "execution_count": null,
   "metadata": {},
   "outputs": [],
   "source": [
    "def save_confusion_matrix(fig, path):\n",
    "    fig.savefig(path)"
   ]
  },
  {
   "cell_type": "code",
   "execution_count": null,
   "metadata": {},
   "outputs": [],
   "source": [
    "original_data_path = 'Base Analytics.csv'\n",
    "target_col = 'PROMOVIDO'"
   ]
  },
  {
   "cell_type": "code",
   "execution_count": null,
   "metadata": {},
   "outputs": [],
   "source": [
    "original_data = # carregue os dados utilizando a função criada \n",
    "original_data = original_data[original_data['Admissão'] >= '2011-01-01'].reset_index().drop(columns='index')"
   ]
  },
  {
   "cell_type": "code",
   "execution_count": null,
   "metadata": {},
   "outputs": [],
   "source": [
    "#filtre os dados numericos usando a função criada\n",
    "data =\n",
    "#preencha os nulos usando a função criada\n",
    "data =\n",
    "#aplique o scaler usando a função criada\n",
    "data = "
   ]
  },
  {
   "cell_type": "code",
   "execution_count": null,
   "metadata": {},
   "outputs": [],
   "source": [
    "data.shape"
   ]
  },
  {
   "cell_type": "code",
   "execution_count": null,
   "metadata": {},
   "outputs": [],
   "source": [
    "#adicione a categoria Sexo\n",
    "data = \n",
    "#adicione a categoria Cargo\n",
    "data = \n",
    "#adicione a categoria Area\n",
    "data = \n",
    "#adicione a categoria Diretoria\n",
    "data = "
   ]
  },
  {
   "cell_type": "code",
   "execution_count": null,
   "metadata": {},
   "outputs": [],
   "source": [
    "# Use a função criada para criar X e y, separar em train e test e treinar a regressão logística\n",
    "# plote a matriz de confusão do modelo treinado"
   ]
  },
  {
   "cell_type": "code",
   "execution_count": null,
   "metadata": {},
   "outputs": [],
   "source": [
    "r = plot_confusion_matrix(y_test, y_pred, normalize='yes')\n",
    "save_confusion_matrix(r,'test2')"
   ]
  },
  {
   "cell_type": "code",
   "execution_count": null,
   "metadata": {},
   "outputs": [],
   "source": [
    "data.shape"
   ]
  },
  {
   "cell_type": "markdown",
   "metadata": {},
   "source": [
    "### Outros encoders \n",
    "\n",
    "[Mais detalhes sobre outros métodos de Feature Engineering - HJ van Veen](https://www.dropbox.com/s/mebc9i6kxgm516c/feature-engineering-mlmeetup.pdf?dl=0)\n",
    "Incluindo spatial data (Lat, Long, address etc) e Natural Langague Processing\n",
    "\n",
    "##### Links do pré-aula\n",
    "[Continuous Numeric Data](https://towardsdatascience.com/understanding-feature-engineering-part-1-continuous-numeric-data-da4e47099a7b)\n",
    "\n",
    "[Categorical Data](https://towardsdatascience.com/understanding-feature-engineering-part-2-categorical-data-f54324193e63)\n"
   ]
  },
  {
   "cell_type": "markdown",
   "metadata": {},
   "source": [
    "### Missing values\n",
    "[Página documentação Pandas](http://pandas.pydata.org/pandas-docs/version/0.22/missing_data.html)"
   ]
  },
  {
   "cell_type": "markdown",
   "metadata": {},
   "source": [
    "### Forma interessante de executar diferentes combinações de features, encoders, algoritmos\n",
    "\n",
    "[Pipeline](https://scikit-learn.org/0.19/modules/generated/sklearn.pipeline.Pipeline.html)\n",
    "\n"
   ]
  }
 ],
 "metadata": {
  "kernelspec": {
   "display_name": "Python 3",
   "language": "python",
   "name": "python3"
  },
  "language_info": {
   "codemirror_mode": {
    "name": "ipython",
    "version": 3
   },
   "file_extension": ".py",
   "mimetype": "text/x-python",
   "name": "python",
   "nbconvert_exporter": "python",
   "pygments_lexer": "ipython3",
   "version": "3.6.5"
  }
 },
 "nbformat": 4,
 "nbformat_minor": 2
}
