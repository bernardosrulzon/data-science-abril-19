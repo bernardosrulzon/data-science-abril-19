{
 "cells": [
  {
   "cell_type": "markdown",
   "metadata": {},
   "source": [
    "## Aula 20 - Feature Engineering - Parte 3"
   ]
  },
  {
   "cell_type": "markdown",
   "metadata": {},
   "source": [
    "### Organizando a bagunça..."
   ]
  },
  {
   "cell_type": "code",
   "execution_count": 1,
   "metadata": {},
   "outputs": [],
   "source": [
    "import pandas as pd\n",
    "from sklearn.preprocessing import OneHotEncoder, LabelEncoder\n",
    "from sklearn.## Aula 20 - Feature Engineeringpreprocessing import StandardScaler, RobustScaler\n",
    "from sklearn.model_selection import train_test_split\n",
    "from sklearn.linear_model import LogisticRegression\n",
    "from confusion_matrix import plot_confusion_matrix"
   ]
  },
  {
   "cell_type": "code",
   "execution_count": 2,
   "metadata": {},
   "outputs": [],
   "source": [
    "def load_data(path):\n",
    "    return pd.read_csv(path)"
   ]
  },
  {
   "cell_type": "code",
   "execution_count": 3,
   "metadata": {},
   "outputs": [],
   "source": [
    "def filter_numeric(data):\n",
    "    numerics = ['int16', 'int32', 'int64', 'float16', 'float32', 'float64']\n",
    "    data_num = data.select_dtypes(include=numerics).copy()\n",
    "    data_num = data_num.drop(columns=['ADP', 'Cod.Cargo', 'Cod.Cargo Admissão', 'CC', \n",
    "                                              'Hora Extra 2016', 'Hora Negativa 2016', 'Ad. Noturno 2016', \n",
    "                                              'Absenteísmo 2016', 'Hora Extra 2017', 'Hora Negativa 2017', \n",
    "                                              'Ad. Noturno 2017', 'Absenteísmo 2017', 'Banda', \n",
    "                                              '2012/13 Goal Achievement'], axis=1)\n",
    "    return data_num"
   ]
  },
  {
   "cell_type": "code",
   "execution_count": 26,
   "metadata": {},
   "outputs": [],
   "source": [
    "def fillnas_mean(data):\n",
    "    #cuidado com a coluna target!!!\n",
    "    for col in data.columns:\n",
    "        qtt = data[col].isnull().sum()\n",
    "        if qtt > 0:\n",
    "            print(col, qtt)\n",
    "            data.update(data[col].fillna(data[col].mean()))\n",
    "    return data"
   ]
  },
  {
   "cell_type": "code",
   "execution_count": 5,
   "metadata": {},
   "outputs": [],
   "source": [
    "def apply_scaler(data, target_col):\n",
    "    target = data[target_col]\n",
    "    data2scale = data.drop(columns='PROMOVIDO')\n",
    "    scaler = StandardScaler()\n",
    "    data_scaled = pd.DataFrame(scaler.fit_transform(data2scale), columns=list(data2scale.columns))\n",
    "    # nao precisaria necessariamente reincluir o target!\n",
    "    data_scaled[target_col] = target\n",
    "    return data_scaled"
   ]
  },
  {
   "cell_type": "code",
   "execution_count": 6,
   "metadata": {},
   "outputs": [],
   "source": [
    "def add_cat_onehot(data, cat_series, cat_label):\n",
    "    # Label encoder\n",
    "    le = LabelEncoder()\n",
    "    cat_intlabels = le.fit_transform(cat_series)\n",
    "    data[cat_label] = cat_intlabels\n",
    "    \n",
    "    #One Hot Encoder\n",
    "    ohe = OneHotEncoder()\n",
    "    cat_cols = ohe.fit_transform(data[[cat_label]]).toarray()\n",
    "    data.drop(columns=[cat_label], inplace = True)\n",
    "    \n",
    "    #Add to data df\n",
    "    cat_cols_labels = [cat_label+str(cat_intlabel) for cat_intlabel in set(cat_intlabels)]\n",
    "    cat_df = pd.DataFrame(cat_cols, columns=cat_cols_labels)\n",
    "    return pd.concat([data,cat_df], axis=1)"
   ]
  },
  {
   "cell_type": "code",
   "execution_count": 30,
   "metadata": {},
   "outputs": [],
   "source": [
    "# Insira funções que utilizam outros encodings..."
   ]
  },
  {
   "cell_type": "code",
   "execution_count": 9,
   "metadata": {},
   "outputs": [],
   "source": [
    "def train_predict_logreg(data, target_col):\n",
    "    X = data.drop(columns=target_col)\n",
    "    y = data[target_col]\n",
    "    X_train, X_test, y_train, y_test = train_test_split(X, y, test_size=0.3, random_state=0)\n",
    "    logreg = LogisticRegression(random_state=42, class_weight='balanced')\n",
    "    logreg.fit(X_train, y_train)\n",
    "    return logreg.predict(X_test),y_test"
   ]
  },
  {
   "cell_type": "code",
   "execution_count": 18,
   "metadata": {},
   "outputs": [],
   "source": [
    "def save_confusion_matrix(fig, path):\n",
    "    fig.savefig(path)"
   ]
  },
  {
   "cell_type": "code",
   "execution_count": 11,
   "metadata": {},
   "outputs": [],
   "source": [
    "original_data_path = 'Base Analytics.csv'\n",
    "target_col = 'PROMOVIDO'"
   ]
  },
  {
   "cell_type": "code",
   "execution_count": 27,
   "metadata": {},
   "outputs": [],
   "source": [
    "original_data = load_data(original_data_path)\n",
    "original_data = original_data[original_data['Admissão'] >= '2011-01-01'].reset_index().drop(columns='index')"
   ]
  },
  {
   "cell_type": "code",
   "execution_count": 28,
   "metadata": {},
   "outputs": [
    {
     "name": "stdout",
     "output_type": "stream",
     "text": [
      "2013/14 Goal Achievement 245\n",
      "2014/15 Goal Achievement 229\n",
      "2015/16 Goal Achievement 148\n",
      "2016/17 Goal Achievement 143\n"
     ]
    }
   ],
   "source": [
    "data = filter_numeric(original_data)\n",
    "data = fillnas_mean(data)\n",
    "data = apply_scaler(data,target_col)"
   ]
  },
  {
   "cell_type": "code",
   "execution_count": 29,
   "metadata": {},
   "outputs": [
    {
     "data": {
      "text/plain": [
       "(356, 8)"
      ]
     },
     "execution_count": 29,
     "metadata": {},
     "output_type": "execute_result"
    }
   ],
   "source": [
    "data.shape"
   ]
  },
  {
   "cell_type": "code",
   "execution_count": 13,
   "metadata": {},
   "outputs": [
    {
     "name": "stdout",
     "output_type": "stream",
     "text": [
      "2013/14 Goal Achievement 245\n",
      "2014/15 Goal Achievement 229\n",
      "2015/16 Goal Achievement 148\n",
      "2016/17 Goal Achievement 143\n"
     ]
    }
   ],
   "source": [
    "data = add_cat_onehot(data, original_data['Sexo'], 'Sexo_')\n",
    "#data = add_cat_onehot(data, original_data['Cargo'], 'Cargo_')\n",
    "data = add_cat_onehot(data, original_data['Area'], 'Area_')\n",
    "#data = add_cat_onehot(data, original_data['Diretoria'], 'Diretoria_')"
   ]
  },
  {
   "cell_type": "code",
   "execution_count": 14,
   "metadata": {},
   "outputs": [
    {
     "name": "stdout",
     "output_type": "stream",
     "text": [
      "Confusion matrix, without normalization\n",
      "[[80 10]\n",
      " [ 4 13]]\n",
      "Normalized confusion matrix\n",
      "[[ 0.88888889  0.11111111]\n",
      " [ 0.23529412  0.76470588]]\n"
     ]
    },
    {
     "data": {
      "image/png": "[encoded data removed]",
      "text/plain": [
       "<Figure size 432x288 with 2 Axes>"
      ]
     },
     "execution_count": 14,
     "metadata": {},
     "output_type": "execute_result"
    },
    {
     "data": {
      "image/png": "[encoded data removed]",
      "text/plain": [
       "<Figure size 432x288 with 2 Axes>"
      ]
     },
     "metadata": {
      "needs_background": "light"
     },
     "output_type": "display_data"
    },
    {
     "data": {
      "image/png": "[encoded data removed]",
      "text/plain": [
       "<Figure size 432x288 with 2 Axes>"
      ]
     },
     "metadata": {
      "needs_background": "light"
     },
     "output_type": "display_data"
    }
   ],
   "source": [
    "y_pred, y_test = train_predict_logreg(data, target_col)\n",
    "plot_confusion_matrix(y_test, y_pred)\n",
    "plot_confusion_matrix(y_test, y_pred, normalize='yes')"
   ]
  },
  {
   "cell_type": "code",
   "execution_count": 15,
   "metadata": {},
   "outputs": [
    {
     "name": "stdout",
     "output_type": "stream",
     "text": [
      "Normalized confusion matrix\n",
      "[[ 0.88888889  0.11111111]\n",
      " [ 0.23529412  0.76470588]]\n"
     ]
    },
    {
     "data": {
      "image/png": "[encoded data removed]",
      "text/plain": [
       "<Figure size 432x288 with 2 Axes>"
      ]
     },
     "metadata": {
      "needs_background": "light"
     },
     "output_type": "display_data"
    }
   ],
   "source": [
    "r = plot_confusion_matrix(y_test, y_pred, normalize='yes')"
   ]
  },
  {
   "cell_type": "code",
   "execution_count": 22,
   "metadata": {},
   "outputs": [],
   "source": [
    "save_confusion_matrix(r,'test2')"
   ]
  },
  {
   "cell_type": "code",
   "execution_count": 25,
   "metadata": {},
   "outputs": [
    {
     "data": {
      "text/plain": [
       "(356, 46)"
      ]
     },
     "execution_count": 25,
     "metadata": {},
     "output_type": "execute_result"
    }
   ],
   "source": [
    "data.shape"
   ]
  },
  {
   "cell_type": "markdown",
   "metadata": {},
   "source": [
    "### Outros encoders \n",
    "\n",
    "[Mais detalhes sobre outros métodos de Feature Engineering - HJ van Veen](https://www.dropbox.com/s/mebc9i6kxgm516c/feature-engineering-mlmeetup.pdf?dl=0)\n",
    "Incluindo spatial data (Lat, Long, address etc) e Natural Langague Processing\n",
    "\n",
    "##### Links do pré-aula\n",
    "[Continuous Numeric Data](https://towardsdatascience.com/understanding-feature-engineering-part-1-continuous-numeric-data-da4e47099a7b)\n",
    "\n",
    "[Categorical Data](https://towardsdatascience.com/understanding-feature-engineering-part-2-categorical-data-f54324193e63)\n"
   ]
  },
  {
   "cell_type": "markdown",
   "metadata": {},
   "source": [
    "### Missing values\n",
    "[Página documentação Pandas](http://pandas.pydata.org/pandas-docs/version/0.22/missing_data.html)"
   ]
  },
  {
   "cell_type": "markdown",
   "metadata": {},
   "source": [
    "### Forma interessante de executar diferentes combinações de features, encoders, algoritmos\n",
    "\n",
    "[Pipeline](https://scikit-learn.org/0.19/modules/generated/sklearn.pipeline.Pipeline.html)\n",
    "\n"
   ]
  }
 ],
 "metadata": {
  "kernelspec": {
   "display_name": "Python 3",
   "language": "python",
   "name": "python3"
  },
  "language_info": {
   "codemirror_mode": {
    "name": "ipython",
    "version": 3
   },
   "file_extension": ".py",
   "mimetype": "text/x-python",
   "name": "python",
   "nbconvert_exporter": "python",
   "pygments_lexer": "ipython3",
   "version": "3.6.5"
  }
 },
 "nbformat": 4,
 "nbformat_minor": 2
}
