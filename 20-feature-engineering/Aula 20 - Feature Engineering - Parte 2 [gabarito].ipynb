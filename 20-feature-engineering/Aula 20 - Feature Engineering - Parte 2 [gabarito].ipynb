{
 "cells": [
  {
   "cell_type": "markdown",
   "metadata": {},
   "source": [
    "## Aula 20 - Feature Engineering - Parte 2"
   ]
  },
  {
   "cell_type": "code",
   "execution_count": 2,
   "metadata": {},
   "outputs": [],
   "source": [
    "import pandas as pd\n",
    "from sklearn.preprocessing import OneHotEncoder, LabelEncoder\n",
    "from sklearn.preprocessing import StandardScaler, RobustScaler\n",
    "from sklearn.model_selection import train_test_split\n",
    "from sklearn.linear_model import LogisticRegression\n",
    "from confusion_matrix import plot_confusion_matrix"
   ]
  },
  {
   "cell_type": "code",
   "execution_count": 3,
   "metadata": {},
   "outputs": [],
   "source": [
    "data = pd.read_csv('Base Analytics.csv')"
   ]
  },
  {
   "cell_type": "code",
   "execution_count": 4,
   "metadata": {},
   "outputs": [],
   "source": [
    "# Filtrando os dados numéricos\n",
    "numerics = ['int16', 'int32', 'int64', 'float16', 'float32', 'float64']\n",
    "data = data[data['Admissão'] >= '2011-01-01'].reset_index().drop(columns='index')\n",
    "data_num = data.select_dtypes(include=numerics).copy()\n",
    "data_num = data_num.drop(columns=['ADP', 'Cod.Cargo', 'Cod.Cargo Admissão', 'CC', \n",
    "                                              'Hora Extra 2016', 'Hora Negativa 2016', 'Ad. Noturno 2016', \n",
    "                                              'Absenteísmo 2016', 'Hora Extra 2017', 'Hora Negativa 2017', \n",
    "                                              'Ad. Noturno 2017', 'Absenteísmo 2017', 'Banda', \n",
    "                                              '2012/13 Goal Achievement'], axis=1)"
   ]
  },
  {
   "cell_type": "code",
   "execution_count": 5,
   "metadata": {},
   "outputs": [
    {
     "name": "stdout",
     "output_type": "stream",
     "text": [
      "2013/14 Goal Achievement 245\n",
      "2014/15 Goal Achievement 229\n",
      "2015/16 Goal Achievement 148\n",
      "2016/17 Goal Achievement 143\n"
     ]
    }
   ],
   "source": [
    "# Preenchendo os nulos\n",
    "for col in data_num.columns:\n",
    "    qtt = data_num[col].isnull().sum()\n",
    "    if qtt > 0:\n",
    "        print(col, qtt)\n",
    "        data_num.update(data_num[col].fillna(data_num[col].mean()))"
   ]
  },
  {
   "cell_type": "code",
   "execution_count": 573,
   "metadata": {},
   "outputs": [],
   "source": [
    "# Aplicando o StandardScaler \n",
    "scaler = StandardScaler()\n",
    "data_num_scaled = pd.DataFrame(scaler.fit_transform(data_num.drop(columns='PROMOVIDO')),\n",
    "                               columns=list(data_num.drop(columns='PROMOVIDO').columns))"
   ]
  },
  {
   "cell_type": "markdown",
   "metadata": {},
   "source": [
    "#### Quais outras features usar?\n",
    "Quais são os tipos das features desse dataset?\n",
    "\n",
    "Podemos/queremos usar todas elas? \n",
    "\n",
    ".\n",
    "\n",
    ".\n",
    "\n",
    ".\n",
    "\n",
    ".\n",
    "\n",
    ".\n",
    "\n",
    ".\n",
    "\n",
    ".\n",
    "\n",
    ".\n",
    "\n",
    "."
   ]
  },
  {
   "cell_type": "code",
   "execution_count": 419,
   "metadata": {},
   "outputs": [
    {
     "data": {
      "text/plain": [
       "Index(['ADP', 'Admissão', 'Desligamento', 'Desligado?',\n",
       "       'Iniciativa Desligamento', 'Cod.Cargo', 'Cargo', 'Cod.Cargo Admissão',\n",
       "       'Cargo Admissão', 'CC', 'Area', 'Diretoria', 'Estado Civil', 'Educação',\n",
       "       'Sexo', 'Banda', 'Nivel', 'Hora Extra 2016', 'Hora Negativa 2016',\n",
       "       'Ad. Noturno 2016', 'Absenteísmo 2016', 'Hora Extra 2017',\n",
       "       'Hora Negativa 2017', 'Ad. Noturno 2017', 'Absenteísmo 2017',\n",
       "       '2012/13 Rating', '2012/13 Goal Achievement', '2013/14 Rating',\n",
       "       '2014/15 Rating', '2015/16 Rating', '2016/17 Rating', 'AUMENTO 2012',\n",
       "       'AUMENTO 2013', 'AUMENTO 2014', 'AUMENTO 2015', 'AUMENTO 2016',\n",
       "       'AUMENTO 2017', 'DISSIDIO 2012', 'DISSIDIO 2013', 'DISSIDIO 2014',\n",
       "       'DISSIDIO 2015', 'DISSIDIO 2016', 'DISSIDIO 2017', 'MERITO 2012',\n",
       "       'MERITO 2013', 'MERITO 2014', 'MERITO 2015', 'MERITO 2016',\n",
       "       'MERITO 2017', 'PROMOÇÃO 2012', 'PROMOÇÃO 2013', 'PROMOÇÃO 2014',\n",
       "       'PROMOÇÃO 2015', 'PROMOÇÃO 2016', 'PROMOÇÃO 2017'],\n",
       "      dtype='object')"
      ]
     },
     "execution_count": 419,
     "metadata": {},
     "output_type": "execute_result"
    }
   ],
   "source": [
    "data.drop(columns=data_old.columns).columns"
   ]
  },
  {
   "cell_type": "code",
   "execution_count": 420,
   "metadata": {},
   "outputs": [
    {
     "data": {
      "text/plain": [
       "ADP                            0\n",
       "Admissão                       0\n",
       "Desligamento                   0\n",
       "Desligado?                     0\n",
       "Iniciativa Desligamento      224\n",
       "Tempo de Casa                  0\n",
       "Cod.Cargo                      0\n",
       "Cargo                          0\n",
       "Cod.Cargo Admissão             0\n",
       "Cargo Admissão                 0\n",
       "CC                             0\n",
       "Area                           0\n",
       "Diretoria                      0\n",
       "Estado Civil                   0\n",
       "Educação                       0\n",
       "Idade Atual/ Desligamento      0\n",
       "Idade na Admissão              0\n",
       "Sexo                           0\n",
       "Banda                          0\n",
       "Nivel                          0\n",
       "Hora Extra 2016              191\n",
       "Hora Negativa 2016           192\n",
       "Ad. Noturno 2016             192\n",
       "Absenteísmo 2016             118\n",
       "Hora Extra 2017              196\n",
       "Hora Negativa 2017           196\n",
       "Ad. Noturno 2017             196\n",
       "Absenteísmo 2017             116\n",
       "2012/13 Rating               272\n",
       "2012/13 Goal Achievement     356\n",
       "                            ... \n",
       "2014/15 Goal Achievement     229\n",
       "2015/16 Rating               148\n",
       "2015/16 Goal Achievement     148\n",
       "2016/17 Rating               143\n",
       "2016/17 Goal Achievement     143\n",
       "AUMENTO 2012                 352\n",
       "AUMENTO 2013                 338\n",
       "AUMENTO 2014                 349\n",
       "AUMENTO 2015                 331\n",
       "AUMENTO 2016                 334\n",
       "AUMENTO 2017                 340\n",
       "DISSIDIO 2012                283\n",
       "DISSIDIO 2013                243\n",
       "DISSIDIO 2014                232\n",
       "DISSIDIO 2015                174\n",
       "DISSIDIO 2016                145\n",
       "DISSIDIO 2017                355\n",
       "MERITO 2012                  333\n",
       "MERITO 2013                  314\n",
       "MERITO 2014                  302\n",
       "MERITO 2015                  277\n",
       "MERITO 2016                  291\n",
       "MERITO 2017                  285\n",
       "PROMOÇÃO 2012                346\n",
       "PROMOÇÃO 2013                347\n",
       "PROMOÇÃO 2014                345\n",
       "PROMOÇÃO 2015                341\n",
       "PROMOÇÃO 2016                340\n",
       "PROMOÇÃO 2017                324\n",
       "PROMOVIDO                      0\n",
       "Length: 63, dtype: int64"
      ]
     },
     "execution_count": 420,
     "metadata": {},
     "output_type": "execute_result"
    }
   ],
   "source": [
    "data.isnull().sum()"
   ]
  },
  {
   "cell_type": "markdown",
   "metadata": {},
   "source": [
    "### Categorical Data"
   ]
  },
  {
   "cell_type": "markdown",
   "metadata": {},
   "source": [
    "#### One Hot Encoding"
   ]
  },
  {
   "cell_type": "markdown",
   "metadata": {},
   "source": [
    "![](images/one_hot1.png)\n",
    "![](images/one_hot2.png)"
   ]
  },
  {
   "cell_type": "code",
   "execution_count": 547,
   "metadata": {},
   "outputs": [],
   "source": [
    "le = LabelEncoder()\n",
    "sex_intlabels = le.fit_transform(data['Sexo'])\n",
    "data['Sexo_'] = sex_intlabels"
   ]
  },
  {
   "cell_type": "code",
   "execution_count": 548,
   "metadata": {},
   "outputs": [],
   "source": [
    "ohe = OneHotEncoder()\n",
    "sex_cols = ohe.fit_transform(data[['Sexo_']]).toarray()\n",
    "sex_cols_labels = ['Sexo_'+str(cls_label) for cls_label in set(sex_intlabels)]\n",
    "sex_df = pd.DataFrame(sex_cols, columns=sex_cols_labels )"
   ]
  },
  {
   "cell_type": "code",
   "execution_count": 555,
   "metadata": {},
   "outputs": [
    {
     "name": "stdout",
     "output_type": "stream",
     "text": [
      "Confusion matrix, without normalization\n",
      "[[78 12]\n",
      " [ 4 13]]\n",
      "Normalized confusion matrix\n",
      "[[ 0.86666667  0.13333333]\n",
      " [ 0.23529412  0.76470588]]\n"
     ]
    },
    {
     "data": {
      "text/plain": [
       "<matplotlib.axes._subplots.AxesSubplot at 0x125aef358>"
      ]
     },
     "execution_count": 555,
     "metadata": {},
     "output_type": "execute_result"
    },
    {
     "data": {
      "image/png": "[encoded data removed]",
      "text/plain": [
       "<Figure size 432x288 with 2 Axes>"
      ]
     },
     "metadata": {
      "needs_background": "light"
     },
     "output_type": "display_data"
    },
    {
     "data": {
      "image/png": "[encoded data removed]",
      "text/plain": [
       "<Figure size 432x288 with 2 Axes>"
      ]
     },
     "metadata": {
      "needs_background": "light"
     },
     "output_type": "display_data"
    }
   ],
   "source": [
    "#X = data_num_scaled\n",
    "X = pd.concat([data_num_scaled,sex_df], axis=1)\n",
    "y = data_num['PROMOVIDO']\n",
    "X_train, X_test, y_train, y_test = train_test_split(X, y, test_size=0.3, random_state=0)\n",
    "logreg = LogisticRegression(random_state=42, class_weight='balanced')\n",
    "logreg.fit(X_train, y_train)\n",
    "y_pred = logreg.predict(X_test)\n",
    "plot_confusion_matrix(y_test, y_pred)\n",
    "plot_confusion_matrix(y_test, y_pred, normalize='yes')"
   ]
  },
  {
   "cell_type": "markdown",
   "metadata": {},
   "source": [
    "#### Dummies\n",
    "Pandas Dataframe function [*get_dummies*](http://pandas.pydata.org/pandas-docs/version/0.22/generated/pandas.get_dummies.html)"
   ]
  },
  {
   "cell_type": "code",
   "execution_count": 576,
   "metadata": {},
   "outputs": [
    {
     "data": {
      "text/html": [
       "<div>\n",
       "<style scoped>\n",
       "    .dataframe tbody tr th:only-of-type {\n",
       "        vertical-align: middle;\n",
       "    }\n",
       "\n",
       "    .dataframe tbody tr th {\n",
       "        vertical-align: top;\n",
       "    }\n",
       "\n",
       "    .dataframe thead th {\n",
       "        text-align: right;\n",
       "    }\n",
       "</style>\n",
       "<table border=\"1\" class=\"dataframe\">\n",
       "  <thead>\n",
       "    <tr style=\"text-align: right;\">\n",
       "      <th></th>\n",
       "      <th>M</th>\n",
       "    </tr>\n",
       "  </thead>\n",
       "  <tbody>\n",
       "    <tr>\n",
       "      <th>196</th>\n",
       "      <td>1</td>\n",
       "    </tr>\n",
       "    <tr>\n",
       "      <th>80</th>\n",
       "      <td>1</td>\n",
       "    </tr>\n",
       "    <tr>\n",
       "      <th>344</th>\n",
       "      <td>0</td>\n",
       "    </tr>\n",
       "    <tr>\n",
       "      <th>254</th>\n",
       "      <td>1</td>\n",
       "    </tr>\n",
       "    <tr>\n",
       "      <th>300</th>\n",
       "      <td>0</td>\n",
       "    </tr>\n",
       "  </tbody>\n",
       "</table>\n",
       "</div>"
      ],
      "text/plain": [
       "     M\n",
       "196  1\n",
       "80   1\n",
       "344  0\n",
       "254  1\n",
       "300  0"
      ]
     },
     "execution_count": 576,
     "metadata": {},
     "output_type": "execute_result"
    }
   ],
   "source": [
    "sex_dummies = pd.get_dummies(data['Sexo'], drop_first=True)\n",
    "sex_dummies.sample(5)"
   ]
  },
  {
   "cell_type": "code",
   "execution_count": 579,
   "metadata": {},
   "outputs": [
    {
     "data": {
      "text/html": [
       "<div>\n",
       "<style scoped>\n",
       "    .dataframe tbody tr th:only-of-type {\n",
       "        vertical-align: middle;\n",
       "    }\n",
       "\n",
       "    .dataframe tbody tr th {\n",
       "        vertical-align: top;\n",
       "    }\n",
       "\n",
       "    .dataframe thead th {\n",
       "        text-align: right;\n",
       "    }\n",
       "</style>\n",
       "<table border=\"1\" class=\"dataframe\">\n",
       "  <thead>\n",
       "    <tr style=\"text-align: right;\">\n",
       "      <th></th>\n",
       "      <th>Tempo de Casa</th>\n",
       "      <th>Idade Atual/ Desligamento</th>\n",
       "      <th>Idade na Admissão</th>\n",
       "      <th>2013/14 Goal Achievement</th>\n",
       "      <th>2014/15 Goal Achievement</th>\n",
       "      <th>2015/16 Goal Achievement</th>\n",
       "      <th>2016/17 Goal Achievement</th>\n",
       "      <th>M</th>\n",
       "    </tr>\n",
       "  </thead>\n",
       "  <tbody>\n",
       "    <tr>\n",
       "      <th>185</th>\n",
       "      <td>0.193669</td>\n",
       "      <td>0.935176</td>\n",
       "      <td>0.943804</td>\n",
       "      <td>0.000000</td>\n",
       "      <td>-7.691750e-01</td>\n",
       "      <td>-2.611949e-02</td>\n",
       "      <td>9.135312e-01</td>\n",
       "      <td>0</td>\n",
       "    </tr>\n",
       "    <tr>\n",
       "      <th>323</th>\n",
       "      <td>-0.552061</td>\n",
       "      <td>0.002463</td>\n",
       "      <td>0.311910</td>\n",
       "      <td>0.000000</td>\n",
       "      <td>-2.356860e-15</td>\n",
       "      <td>2.244346e-15</td>\n",
       "      <td>-2.849128e-01</td>\n",
       "      <td>1</td>\n",
       "    </tr>\n",
       "    <tr>\n",
       "      <th>158</th>\n",
       "      <td>-1.162203</td>\n",
       "      <td>-0.990941</td>\n",
       "      <td>-0.757627</td>\n",
       "      <td>0.856874</td>\n",
       "      <td>-2.356860e-15</td>\n",
       "      <td>2.244346e-15</td>\n",
       "      <td>-2.468248e-15</td>\n",
       "      <td>1</td>\n",
       "    </tr>\n",
       "    <tr>\n",
       "      <th>255</th>\n",
       "      <td>0.397049</td>\n",
       "      <td>0.002463</td>\n",
       "      <td>0.003218</td>\n",
       "      <td>0.000000</td>\n",
       "      <td>-2.356860e-15</td>\n",
       "      <td>1.032024e+00</td>\n",
       "      <td>-2.369163e+00</td>\n",
       "      <td>1</td>\n",
       "    </tr>\n",
       "    <tr>\n",
       "      <th>36</th>\n",
       "      <td>2.091889</td>\n",
       "      <td>0.701998</td>\n",
       "      <td>0.067529</td>\n",
       "      <td>0.882911</td>\n",
       "      <td>2.590905e-01</td>\n",
       "      <td>3.213305e-01</td>\n",
       "      <td>-1.153351e+00</td>\n",
       "      <td>0</td>\n",
       "    </tr>\n",
       "  </tbody>\n",
       "</table>\n",
       "</div>"
      ],
      "text/plain": [
       "     Tempo de Casa  Idade Atual/ Desligamento  Idade na Admissão  \\\n",
       "185       0.193669                   0.935176           0.943804   \n",
       "323      -0.552061                   0.002463           0.311910   \n",
       "158      -1.162203                  -0.990941          -0.757627   \n",
       "255       0.397049                   0.002463           0.003218   \n",
       "36        2.091889                   0.701998           0.067529   \n",
       "\n",
       "     2013/14 Goal Achievement  2014/15 Goal Achievement  \\\n",
       "185                  0.000000             -7.691750e-01   \n",
       "323                  0.000000             -2.356860e-15   \n",
       "158                  0.856874             -2.356860e-15   \n",
       "255                  0.000000             -2.356860e-15   \n",
       "36                   0.882911              2.590905e-01   \n",
       "\n",
       "     2015/16 Goal Achievement  2016/17 Goal Achievement  M  \n",
       "185             -2.611949e-02              9.135312e-01  0  \n",
       "323              2.244346e-15             -2.849128e-01  1  \n",
       "158              2.244346e-15             -2.468248e-15  1  \n",
       "255              1.032024e+00             -2.369163e+00  1  \n",
       "36               3.213305e-01             -1.153351e+00  0  "
      ]
     },
     "execution_count": 579,
     "metadata": {},
     "output_type": "execute_result"
    }
   ],
   "source": [
    "X = pd.concat([data_num_scaled,sex_dummies], axis=1)\n",
    "X.sample(5)"
   ]
  },
  {
   "cell_type": "code",
   "execution_count": 580,
   "metadata": {},
   "outputs": [
    {
     "name": "stdout",
     "output_type": "stream",
     "text": [
      "Confusion matrix, without normalization\n",
      "[[78 12]\n",
      " [ 4 13]]\n",
      "Normalized confusion matrix\n",
      "[[ 0.86666667  0.13333333]\n",
      " [ 0.23529412  0.76470588]]\n"
     ]
    },
    {
     "data": {
      "text/plain": [
       "<matplotlib.axes._subplots.AxesSubplot at 0x125f63470>"
      ]
     },
     "execution_count": 580,
     "metadata": {},
     "output_type": "execute_result"
    },
    {
     "data": {
      "image/png": "[encoded data removed]",
      "text/plain": [
       "<Figure size 432x288 with 2 Axes>"
      ]
     },
     "metadata": {
      "needs_background": "light"
     },
     "output_type": "display_data"
    },
    {
     "data": {
      "image/png": "[encoded data removed]",
      "text/plain": [
       "<Figure size 432x288 with 2 Axes>"
      ]
     },
     "metadata": {
      "needs_background": "light"
     },
     "output_type": "display_data"
    }
   ],
   "source": [
    "y = data_num['PROMOVIDO']\n",
    "X_train, X_test, y_train, y_test = train_test_split(X, y, test_size=0.3, random_state=0)\n",
    "logreg = LogisticRegression(random_state=42, class_weight='balanced')\n",
    "logreg.fit(X_train, y_train)\n",
    "y_pred = logreg.predict(X_test)\n",
    "plot_confusion_matrix(y_test, y_pred)\n",
    "plot_confusion_matrix(y_test, y_pred, normalize='yes')"
   ]
  },
  {
   "cell_type": "markdown",
   "metadata": {},
   "source": [
    "#### Effect Coding\n",
    "- Bem similar ao *dummy*;\n",
    "- Substitui por -1 todos os 0s que representam uma das categorias (primeira ou última) no dummy encoding;\n",
    "- Exemplo do [link 2](https://towardsdatascience.com/understanding-feature-engineering-part-2-categorical-data-f54324193e63) do pré-aula:\n",
    "\n",
    "![Example1](images/effect_coding.png)\n",
    "\n",
    "- [Outro exemplo](https://stats.idre.ucla.edu/other/mult-pkg/faq/general/faqwhat-is-effect-coding/)"
   ]
  },
  {
   "cell_type": "markdown",
   "metadata": {},
   "source": [
    "#### Bin-counting \n",
    "- Maldição da dimensionalidade, categorias \"grandes\" (com muitos valores distintos);\n",
    "- Usa probabilidade baseada em informação estatística da relação do valor com o target;\n",
    "- Exemplo simplificado do [link 2](https://towardsdatascience.com/understanding-feature-engineering-part-2-categorical-data-f54324193e63): construir valores de probabilidade de um ataque DDoS ser causado por qualquer um dos endereços IP baseado em **dados históricos** de endereços IP relacionados a ataques DDoS."
   ]
  },
  {
   "cell_type": "markdown",
   "metadata": {},
   "source": [
    "#### Feature Hashing Scheme\n",
    "- Maldição da dimensionalidade;\n",
    "- **Função Hash** tipicamente usada com um número pré-definido de features resultantes (vetor de comprimento pré-definido) de forma que os valores de hash dos valores da categoria sejam usados como índices nesse vetor predefinido e os valores sejam atualizados de acordo.\n",
    "- Funções Hash mapeiam uma grande quantidade de valores em uma quantidade finita (e pequena) de valores -> colisões.\n",
    "- [Explicação básica sobre funções hash](https://www.techtudo.com.br/artigos/noticia/2012/07/o-que-e-hash.html)\n",
    "- [Função Scikit Learn](https://scikit-learn.org/0.19/modules/generated/sklearn.feature_extraction.FeatureHasher.html)"
   ]
  }
 ],
 "metadata": {
  "kernelspec": {
   "display_name": "Python 3",
   "language": "python",
   "name": "python3"
  },
  "language_info": {
   "codemirror_mode": {
    "name": "ipython",
    "version": 3
   },
   "file_extension": ".py",
   "mimetype": "text/x-python",
   "name": "python",
   "nbconvert_exporter": "python",
   "pygments_lexer": "ipython3",
   "version": "3.6.5"
  }
 },
 "nbformat": 4,
 "nbformat_minor": 2
}
