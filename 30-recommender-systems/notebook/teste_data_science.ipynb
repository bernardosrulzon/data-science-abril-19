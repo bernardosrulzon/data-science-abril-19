{
 "cells": [
  {
   "cell_type": "markdown",
   "metadata": {},
   "source": [
    "# Teste Data Science\n",
    "Esse desafio foi separado em duas etapas: na primeira, queremos entender a sua forma de pensar e como você explora problemas e, na segunda, gostaríamos que você implementasse um sistema de recomendação.\n",
    "\n",
    "## Objetivo:\n",
    "Sua tarefa é trabalhar em cima da base de dados públicos do _Movie Lens_. Esse dataset foi retirado do seguinte [link](http://files.grouplens.org/datasets/movielens/ml-latest-small.zip).\n",
    "\n",
    "Os dados foram anexados no email que você recebeu com este gist e são compostos por 100004 _ratings_ e 1296 _tags_ aplicadas a 9125 filmes, distribuidos em 671 usuários. Todos os usuários avaliaram ao menos 20 filmes. Mais detalhes sobre o dataset podem ser vistos neste [README](http://files.grouplens.org/datasets/movielens/ml-latest-small-README.html).\n",
    "\n",
    "\n",
    "## Parte 1\n",
    "\n",
    "Nessa parte, queremos que você realize uma _Análise Exploratória dos Dados_ a qual deve responder à seguinte pergunta: **Quais são as categorias que possuem relação entre si? Existe alguma relação entre a categoria do filme e a forma que ele é avaliado?**\n",
    "### Observações:\n",
    "\n",
    "Lembre-se que aqui nosso foco é ver a forma que você raciocina, então realize a exploração mostrando o máximo de informação possível que você conduziu a analise além de, obviamente, incluir a resposta para essa pergunta.\n",
    "\n",
    "\n",
    "## Parte 2\n",
    "\n",
    "Implemente um sistema de recomendação (a nível de prova de conceito) que recomenda filmes que um determinado usuário possa gostar com base nos _reviews_ que ele fez. O _input_ do sistema vai ser o _id_ de um usuário. \n",
    "\n",
    "Não vamos indicar um algoritmo inicial pois isso pode enviesar a sua solução.\n",
    "A ideia aqui é detalhar passo a passo o desenvolvimento do seu raciocínio. Procure elaborar uma \"história\", alternando explicações e código, para facilitar o entendimento.\n",
    "\n",
    "### Observações gerais:\n",
    "\n",
    "Você deve submeter um [jupyter notebook](http://jupyter.org/) com o código desenvolvido por você com a solução de ambos os desafios. Lembre-se de documentar seu código e utilizar células _Markdown_ para  explicar **detalhadamente** sua solução. Lembre-se de explicar seu raciocínio e justificar os métodos utilizados por você, realizando análises de dados, por exemplo. Explicite os algoritmos utilizados e as etapas de pré processamento que você recomenda fazer, justificando o porquê de cada uma das decisões tomadas.\n",
    "\n",
    "[Aqui](https://github.com/jupyter/jupyter/wiki/Jupyter-kernels) você pode ver uma lista de linguagens compatíveis com o *jupyter* e [aqui](https://ipython.readthedocs.io/en/latest/install/kernel_install.html) algumas instruções que podem auxiliar na instalação da mesma.\n",
    "\n",
    "Você também deve incluir métricas que avaliem o desempenho do seu modelo.\n",
    "\n",
    "Suba um arquivo final .ipynb, um .html e um *requirements.txt* (gerado pelo comando `pip freeze > requirements.txt`) em seu github pessoal. Deixe o repositório público e nos mande o link por email. Caso tenha utilizado uma linguagem diferente de *Python*, nos **explique** como rodar o seu projeto localmente. \n",
    "\n",
    "Sinta-se a vontade para fazer o uso de bibliotecas (como o [scikit-learn](http://scikit-learn.org/)), mas, novamente, você deve saber explicar o porquê de você aplicar determinado algoritmo para determinada situação.\n",
    "\n",
    "Por fim, você é livre para utilizar qualquer linguagem de programação para resolver o desafio, desde que a submissão seja o arquivo `.ipynb`.\n",
    "\n",
    "Não queremos a solução ideal para o problema. Queremos entender sua forma de pensar :)\n",
    "\n",
    "Boa sorte e qualquer dúvida pode mandar um e-mail.\n"
   ]
  },
  {
   "cell_type": "code",
   "execution_count": null,
   "metadata": {
    "collapsed": true
   },
   "outputs": [],
   "source": []
  }
 ],
 "metadata": {
  "kernelspec": {
   "display_name": "Python 3",
   "language": "python",
   "name": "python3"
  },
  "language_info": {
   "codemirror_mode": {
    "name": "ipython",
    "version": 3
   },
   "file_extension": ".py",
   "mimetype": "text/x-python",
   "name": "python",
   "nbconvert_exporter": "python",
   "pygments_lexer": "ipython3",
   "version": "3.6.6"
  }
 },
 "nbformat": 4,
 "nbformat_minor": 2
}
