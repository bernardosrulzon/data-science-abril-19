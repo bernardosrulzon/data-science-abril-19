{
 "cells": [
  {
   "cell_type": "markdown",
   "metadata": {},
   "source": [
    "## Aula 26 - NLP\n",
    "### Desafio - Possibilidades de melhorar o modelo"
   ]
  },
  {
   "cell_type": "code",
   "execution_count": null,
   "metadata": {},
   "outputs": [],
   "source": [
    "import pandas as pd\n",
    "from sklearn.feature_extraction.text import CountVectorizer\n",
    "from sklearn.feature_extraction.text import TfidfVectorizer\n",
    "from sklearn.linear_model import LogisticRegression\n",
    "from sklearn.naive_bayes import MultinomialNB\n",
    "from sklearn.ensemble import GradientBoostingClassifier\n",
    "from sklearn.pipeline import Pipeline\n",
    "from sklearn.metrics import classification_report\n",
    "from utils.confusion_matrix import plot_confusion_matrix\n",
    "from utils.to_dense import DenseTransformer\n",
    "\n",
    "pd.options.display.max_columns = 999\n",
    "pd.options.display.max_colwidth = 999"
   ]
  },
  {
   "cell_type": "code",
   "execution_count": null,
   "metadata": {},
   "outputs": [],
   "source": [
    "# carregando os dados de treino e teste que gravamos com pickle\n",
    "train_df = _________________\n",
    "test_df = _________________"
   ]
  },
  {
   "cell_type": "code",
   "execution_count": null,
   "metadata": {},
   "outputs": [],
   "source": [
    "# Transformando o target em int\n",
    "train_df['y'] = _________________\n",
    "test_df['y'] = _________________"
   ]
  },
  {
   "cell_type": "code",
   "execution_count": null,
   "metadata": {},
   "outputs": [],
   "source": [
    "# Separando o target\n",
    "X_train = \n",
    "y_train = \n",
    "X_test = \n",
    "y_test = "
   ]
  },
  {
   "cell_type": "code",
   "execution_count": null,
   "metadata": {},
   "outputs": [],
   "source": [
    "# Montando o pipeline\n"
   ]
  },
  {
   "cell_type": "code",
   "execution_count": null,
   "metadata": {},
   "outputs": [],
   "source": [
    "sentiment_analyzer = pipeline.fit(X_train, y_train)\n",
    "y_pred = _____________\n",
    "plot_confusion_matrix(y_test, y_pred);\n",
    "plot_confusion_matrix(y_test, y_pred, normalize=True);"
   ]
  },
  {
   "cell_type": "markdown",
   "metadata": {},
   "source": [
    "##### Naive Bayes: \n",
    "- [Esse post](https://towardsdatascience.com/algorithms-for-text-classification-part-1-naive-bayes-3ff1d116fdd8) explica um pouco da ideia do algoritmo e fala sobre como ele e regressão logística são \"os básicos\" em NLP;\n",
    "\n",
    "- No Scikit Learn, temos [vários modelos NaiveBayes](https://scikit-learn.org/stable/modules/classes.html#module-sklearn.naive_bayes). "
   ]
  },
  {
   "cell_type": "markdown",
   "metadata": {},
   "source": [
    "- De uma olhada no [MultinomialNB](https://scikit-learn.org/0.19/modules/generated/sklearn.naive_bayes.MultinomialNB.html#sklearn.naive_bayes.MultinomialNB), refaça o treinamento usando ele como classificador e compare os resultados.\n",
    "\n",
    "Dicas: \n",
    "1. Você precisará incluir no seu pipeline a classe *DenseTransformer* (do `to_dense.py` do diretório `utils`)\n",
    "\n",
    "2. Experimente valores diferentes para os parâmetros, especialmente o \"alpha\", que na verdade é o *Laplace Smoothing* explicado [nesse vídeo](https://www.youtube.com/watch?v=gCI-ZC7irbY&t=84s)."
   ]
  },
  {
   "cell_type": "code",
   "execution_count": null,
   "metadata": {},
   "outputs": [],
   "source": [
    "# Montando o pipeline\n"
   ]
  },
  {
   "cell_type": "code",
   "execution_count": null,
   "metadata": {},
   "outputs": [],
   "source": [
    "sentiment_analyzer = pipeline.fit(X_train, y_train)\n",
    "y_pred = _____________\n",
    "plot_confusion_matrix(y_test, y_pred);\n",
    "plot_confusion_matrix(y_test, y_pred, normalize=True);"
   ]
  },
  {
   "cell_type": "markdown",
   "metadata": {},
   "source": [
    "#### Word2Vec"
   ]
  },
  {
   "cell_type": "markdown",
   "metadata": {},
   "source": [
    "[Vídeo introdutório](https://www.youtube.com/watch?v=5PL0TmQhItY)"
   ]
  },
  {
   "cell_type": "markdown",
   "metadata": {},
   "source": [
    "Veja o [Word2Vec do Gensim](https://radimrehurek.com/gensim/models/word2vec.html#gensim.models.word2vec.Word2Vec) e [esse tutorial](https://www.kaggle.com/pierremegret/gensim-word2vec-tutorial) para utilizá-lo."
   ]
  },
  {
   "cell_type": "markdown",
   "metadata": {},
   "source": [
    "[Aula de NLP da Cinthia](https://github.com/somostera/tera-datascience-out2018/tree/master/26-nlp) de uma turma de Data Science do ano passado: \n",
    "- links bastante interessantes no `ReadME`, como o [desse vídeo](https://www.youtube.com/watch?v=ERibwqs9p38) que é uma aula de Word2Vec da Stanford.\n",
    "- No [notebook parte 2](https://github.com/somostera/tera-datascience-out2018/blob/master/26-nlp/nlp_parte_2.ipynb) tem Word2Vec;\n",
    "- E no [na parte 3](https://github.com/somostera/tera-datascience-out2018/blob/master/26-nlp/nlp_parte_extra.ipynb) tem visualizações."
   ]
  },
  {
   "cell_type": "code",
   "execution_count": null,
   "metadata": {},
   "outputs": [],
   "source": []
  }
 ],
 "metadata": {
  "kernelspec": {
   "display_name": "Python 3",
   "language": "python",
   "name": "python3"
  },
  "language_info": {
   "codemirror_mode": {
    "name": "ipython",
    "version": 3
   },
   "file_extension": ".py",
   "mimetype": "text/x-python",
   "name": "python",
   "nbconvert_exporter": "python",
   "pygments_lexer": "ipython3",
   "version": "3.6.5"
  }
 },
 "nbformat": 4,
 "nbformat_minor": 2
}
